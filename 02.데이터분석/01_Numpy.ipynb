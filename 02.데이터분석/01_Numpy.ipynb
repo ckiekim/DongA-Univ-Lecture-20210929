{
  "nbformat": 4,
  "nbformat_minor": 0,
  "metadata": {
    "colab": {
      "name": "01_Numpy.ipynb",
      "provenance": [],
      "collapsed_sections": []
    },
    "kernelspec": {
      "name": "python3",
      "display_name": "Python 3"
    },
    "language_info": {
      "name": "python"
    }
  },
  "cells": [
    {
      "cell_type": "markdown",
      "metadata": {
        "id": "BbmCp3Bl-lnI"
      },
      "source": [
        "# 1. 넘파이(Numpy, Numerical Python)"
      ]
    },
    {
      "cell_type": "code",
      "metadata": {
        "id": "sWbIsB0d-0q-"
      },
      "source": [
        "import numpy as np"
      ],
      "execution_count": 1,
      "outputs": []
    },
    {
      "cell_type": "markdown",
      "metadata": {
        "id": "v31MRnmZ-tvH"
      },
      "source": [
        "### 1) ndarray(Numpy Dimensional Array)"
      ]
    },
    {
      "cell_type": "code",
      "metadata": {
        "id": "KDoK04V8Awef",
        "colab": {
          "base_uri": "https://localhost:8080/"
        },
        "outputId": "23c800d5-f6d8-4bce-ec87-da0743e709fe"
      },
      "source": [
        "# Array 생성\n",
        "a = np.array([1,2,3,4], float)\n",
        "a"
      ],
      "execution_count": 2,
      "outputs": [
        {
          "output_type": "execute_result",
          "data": {
            "text/plain": [
              "array([1., 2., 3., 4.])"
            ]
          },
          "metadata": {},
          "execution_count": 2
        }
      ]
    },
    {
      "cell_type": "code",
      "metadata": {
        "colab": {
          "base_uri": "https://localhost:8080/"
        },
        "id": "g6tCdlW-_MO3",
        "outputId": "6a425409-6106-42a1-abb8-d356559a1240"
      },
      "source": [
        "a.shape     # 1차원 - vector 라고 함"
      ],
      "execution_count": 3,
      "outputs": [
        {
          "output_type": "execute_result",
          "data": {
            "text/plain": [
              "(4,)"
            ]
          },
          "metadata": {},
          "execution_count": 3
        }
      ]
    },
    {
      "cell_type": "code",
      "metadata": {
        "colab": {
          "base_uri": "https://localhost:8080/"
        },
        "id": "H2Xm_yqa_YLx",
        "outputId": "9133e5ce-9d04-427f-e911-9ccda125b685"
      },
      "source": [
        "a.dtype     # float64 - double precision"
      ],
      "execution_count": 4,
      "outputs": [
        {
          "output_type": "execute_result",
          "data": {
            "text/plain": [
              "dtype('float64')"
            ]
          },
          "metadata": {},
          "execution_count": 4
        }
      ]
    },
    {
      "cell_type": "code",
      "metadata": {
        "colab": {
          "base_uri": "https://localhost:8080/"
        },
        "id": "Hux8IYt5_gDs",
        "outputId": "9146fee7-6ff2-4eb7-f0fe-89b3049b55c0"
      },
      "source": [
        "a[0], a[3], a[-1]"
      ],
      "execution_count": 5,
      "outputs": [
        {
          "output_type": "execute_result",
          "data": {
            "text/plain": [
              "(1.0, 4.0, 4.0)"
            ]
          },
          "metadata": {},
          "execution_count": 5
        }
      ]
    },
    {
      "cell_type": "code",
      "metadata": {
        "colab": {
          "base_uri": "https://localhost:8080/"
        },
        "id": "uvi_pTxI_ywp",
        "outputId": "c08b0a5b-da7d-4eb1-de32-ce898e3703f1"
      },
      "source": [
        "# 2차원 어레이(Matrix)\n",
        "mat = [[1,2,3,4], [5,6,7,8]]\n",
        "b = np.array(mat)\n",
        "b"
      ],
      "execution_count": 6,
      "outputs": [
        {
          "output_type": "execute_result",
          "data": {
            "text/plain": [
              "array([[1, 2, 3, 4],\n",
              "       [5, 6, 7, 8]])"
            ]
          },
          "metadata": {},
          "execution_count": 6
        }
      ]
    },
    {
      "cell_type": "code",
      "metadata": {
        "colab": {
          "base_uri": "https://localhost:8080/"
        },
        "id": "kT_q9REzA6dW",
        "outputId": "d56d8528-b8d5-42b9-d231-d1a082d03178"
      },
      "source": [
        "b.shape, b.dtype"
      ],
      "execution_count": 7,
      "outputs": [
        {
          "output_type": "execute_result",
          "data": {
            "text/plain": [
              "((2, 4), dtype('int64'))"
            ]
          },
          "metadata": {},
          "execution_count": 7
        }
      ]
    },
    {
      "cell_type": "code",
      "metadata": {
        "colab": {
          "base_uri": "https://localhost:8080/"
        },
        "id": "CM2JWyvcBDJs",
        "outputId": "d6d17fcc-609c-40d0-a1e8-f580d64bacd9"
      },
      "source": [
        "b = np.arange(1,9).reshape(2,4)\n",
        "b"
      ],
      "execution_count": 8,
      "outputs": [
        {
          "output_type": "execute_result",
          "data": {
            "text/plain": [
              "array([[1, 2, 3, 4],\n",
              "       [5, 6, 7, 8]])"
            ]
          },
          "metadata": {},
          "execution_count": 8
        }
      ]
    },
    {
      "cell_type": "code",
      "metadata": {
        "colab": {
          "base_uri": "https://localhost:8080/"
        },
        "id": "bK-COLFXBby9",
        "outputId": "31f457e7-e712-476d-b9c2-e478cbd9d94a"
      },
      "source": [
        "# 3차원 어레이(Tensor)\n",
        "c = np.arange(1,25).reshape(2,3,4)\n",
        "c"
      ],
      "execution_count": 9,
      "outputs": [
        {
          "output_type": "execute_result",
          "data": {
            "text/plain": [
              "array([[[ 1,  2,  3,  4],\n",
              "        [ 5,  6,  7,  8],\n",
              "        [ 9, 10, 11, 12]],\n",
              "\n",
              "       [[13, 14, 15, 16],\n",
              "        [17, 18, 19, 20],\n",
              "        [21, 22, 23, 24]]])"
            ]
          },
          "metadata": {},
          "execution_count": 9
        }
      ]
    },
    {
      "cell_type": "code",
      "metadata": {
        "colab": {
          "base_uri": "https://localhost:8080/"
        },
        "id": "lVpeC6xiCEue",
        "outputId": "fbed2e6d-7d43-4553-c4dd-e54bc87be7e1"
      },
      "source": [
        "c.shape"
      ],
      "execution_count": 10,
      "outputs": [
        {
          "output_type": "execute_result",
          "data": {
            "text/plain": [
              "(2, 3, 4)"
            ]
          },
          "metadata": {},
          "execution_count": 10
        }
      ]
    },
    {
      "cell_type": "code",
      "metadata": {
        "colab": {
          "base_uri": "https://localhost:8080/"
        },
        "id": "kYqpC1ERCNyY",
        "outputId": "37f24a3b-421e-4be6-ec8a-ab557447081a"
      },
      "source": [
        "c.size"
      ],
      "execution_count": 11,
      "outputs": [
        {
          "output_type": "execute_result",
          "data": {
            "text/plain": [
              "24"
            ]
          },
          "metadata": {},
          "execution_count": 11
        }
      ]
    },
    {
      "cell_type": "code",
      "metadata": {
        "colab": {
          "base_uri": "https://localhost:8080/"
        },
        "id": "Jrk8tCwWCZhy",
        "outputId": "8087656d-94a1-424d-9dad-249d5f4aacd4"
      },
      "source": [
        "# data type\n",
        "np.array([[1, 2, 3], [4.5, '5', '6']], dtype=np.float32)"
      ],
      "execution_count": 12,
      "outputs": [
        {
          "output_type": "execute_result",
          "data": {
            "text/plain": [
              "array([[1. , 2. , 3. ],\n",
              "       [4.5, 5. , 6. ]], dtype=float32)"
            ]
          },
          "metadata": {},
          "execution_count": 12
        }
      ]
    },
    {
      "cell_type": "code",
      "metadata": {
        "colab": {
          "base_uri": "https://localhost:8080/"
        },
        "id": "sfF_vew7Cre1",
        "outputId": "f32be43d-6e14-41b8-891f-358bd986cc81"
      },
      "source": [
        "# shape 변경 - 엘리먼트의 갯수가 동일\n",
        "c.reshape(4, 6)"
      ],
      "execution_count": 13,
      "outputs": [
        {
          "output_type": "execute_result",
          "data": {
            "text/plain": [
              "array([[ 1,  2,  3,  4,  5,  6],\n",
              "       [ 7,  8,  9, 10, 11, 12],\n",
              "       [13, 14, 15, 16, 17, 18],\n",
              "       [19, 20, 21, 22, 23, 24]])"
            ]
          },
          "metadata": {},
          "execution_count": 13
        }
      ]
    },
    {
      "cell_type": "code",
      "metadata": {
        "colab": {
          "base_uri": "https://localhost:8080/"
        },
        "id": "Ejl4HtCTDIEm",
        "outputId": "b4da3df4-c5eb-4c24-a07a-2866cae83675"
      },
      "source": [
        "c.reshape(4, -1)"
      ],
      "execution_count": 14,
      "outputs": [
        {
          "output_type": "execute_result",
          "data": {
            "text/plain": [
              "array([[ 1,  2,  3,  4,  5,  6],\n",
              "       [ 7,  8,  9, 10, 11, 12],\n",
              "       [13, 14, 15, 16, 17, 18],\n",
              "       [19, 20, 21, 22, 23, 24]])"
            ]
          },
          "metadata": {},
          "execution_count": 14
        }
      ]
    },
    {
      "cell_type": "code",
      "metadata": {
        "colab": {
          "base_uri": "https://localhost:8080/"
        },
        "id": "Ajj46Tu0DgVj",
        "outputId": "5966c0b4-236b-4fc3-983a-e415d07d0142"
      },
      "source": [
        "# flatten - 1차원으로 변경\n",
        "b"
      ],
      "execution_count": 15,
      "outputs": [
        {
          "output_type": "execute_result",
          "data": {
            "text/plain": [
              "array([[1, 2, 3, 4],\n",
              "       [5, 6, 7, 8]])"
            ]
          },
          "metadata": {},
          "execution_count": 15
        }
      ]
    },
    {
      "cell_type": "code",
      "metadata": {
        "colab": {
          "base_uri": "https://localhost:8080/"
        },
        "id": "58K5skrOESkQ",
        "outputId": "06e9ad9a-2b6b-4937-adff-11078aecdbb4"
      },
      "source": [
        "b.flatten()         # b.reshape(-1)"
      ],
      "execution_count": 16,
      "outputs": [
        {
          "output_type": "execute_result",
          "data": {
            "text/plain": [
              "array([1, 2, 3, 4, 5, 6, 7, 8])"
            ]
          },
          "metadata": {},
          "execution_count": 16
        }
      ]
    },
    {
      "cell_type": "markdown",
      "metadata": {
        "id": "L9aBhZvcEmnD"
      },
      "source": [
        "### 2) Indexing & Slicing"
      ]
    },
    {
      "cell_type": "code",
      "metadata": {
        "id": "HCGgm_BBEV5N"
      },
      "source": [
        ""
      ],
      "execution_count": null,
      "outputs": []
    }
  ]
}