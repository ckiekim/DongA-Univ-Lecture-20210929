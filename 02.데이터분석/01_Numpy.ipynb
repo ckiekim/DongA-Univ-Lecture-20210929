{
  "nbformat": 4,
  "nbformat_minor": 0,
  "metadata": {
    "colab": {
      "name": "01_Numpy.ipynb",
      "provenance": [],
      "collapsed_sections": []
    },
    "kernelspec": {
      "name": "python3",
      "display_name": "Python 3"
    },
    "language_info": {
      "name": "python"
    }
  },
  "cells": [
    {
      "cell_type": "markdown",
      "metadata": {
        "id": "BbmCp3Bl-lnI"
      },
      "source": [
        "# 1. 넘파이(Numpy, Numerical Python)"
      ]
    },
    {
      "cell_type": "code",
      "metadata": {
        "id": "sWbIsB0d-0q-"
      },
      "source": [
        "import numpy as np"
      ],
      "execution_count": 1,
      "outputs": []
    },
    {
      "cell_type": "markdown",
      "metadata": {
        "id": "v31MRnmZ-tvH"
      },
      "source": [
        "### 1) ndarray(Numpy Dimensional Array)"
      ]
    },
    {
      "cell_type": "code",
      "metadata": {
        "id": "KDoK04V8Awef",
        "colab": {
          "base_uri": "https://localhost:8080/"
        },
        "outputId": "23c800d5-f6d8-4bce-ec87-da0743e709fe"
      },
      "source": [
        "# Array 생성\n",
        "a = np.array([1,2,3,4], float)\n",
        "a"
      ],
      "execution_count": 2,
      "outputs": [
        {
          "output_type": "execute_result",
          "data": {
            "text/plain": [
              "array([1., 2., 3., 4.])"
            ]
          },
          "metadata": {},
          "execution_count": 2
        }
      ]
    },
    {
      "cell_type": "code",
      "metadata": {
        "colab": {
          "base_uri": "https://localhost:8080/"
        },
        "id": "g6tCdlW-_MO3",
        "outputId": "6a425409-6106-42a1-abb8-d356559a1240"
      },
      "source": [
        "a.shape     # 1차원 - vector 라고 함"
      ],
      "execution_count": 3,
      "outputs": [
        {
          "output_type": "execute_result",
          "data": {
            "text/plain": [
              "(4,)"
            ]
          },
          "metadata": {},
          "execution_count": 3
        }
      ]
    },
    {
      "cell_type": "code",
      "metadata": {
        "colab": {
          "base_uri": "https://localhost:8080/"
        },
        "id": "H2Xm_yqa_YLx",
        "outputId": "9133e5ce-9d04-427f-e911-9ccda125b685"
      },
      "source": [
        "a.dtype     # float64 - double precision"
      ],
      "execution_count": 4,
      "outputs": [
        {
          "output_type": "execute_result",
          "data": {
            "text/plain": [
              "dtype('float64')"
            ]
          },
          "metadata": {},
          "execution_count": 4
        }
      ]
    },
    {
      "cell_type": "code",
      "metadata": {
        "colab": {
          "base_uri": "https://localhost:8080/"
        },
        "id": "Hux8IYt5_gDs",
        "outputId": "9146fee7-6ff2-4eb7-f0fe-89b3049b55c0"
      },
      "source": [
        "a[0], a[3], a[-1]"
      ],
      "execution_count": 5,
      "outputs": [
        {
          "output_type": "execute_result",
          "data": {
            "text/plain": [
              "(1.0, 4.0, 4.0)"
            ]
          },
          "metadata": {},
          "execution_count": 5
        }
      ]
    },
    {
      "cell_type": "code",
      "metadata": {
        "colab": {
          "base_uri": "https://localhost:8080/"
        },
        "id": "uvi_pTxI_ywp",
        "outputId": "c08b0a5b-da7d-4eb1-de32-ce898e3703f1"
      },
      "source": [
        "# 2차원 어레이(Matrix)\n",
        "mat = [[1,2,3,4], [5,6,7,8]]\n",
        "b = np.array(mat)\n",
        "b"
      ],
      "execution_count": 6,
      "outputs": [
        {
          "output_type": "execute_result",
          "data": {
            "text/plain": [
              "array([[1, 2, 3, 4],\n",
              "       [5, 6, 7, 8]])"
            ]
          },
          "metadata": {},
          "execution_count": 6
        }
      ]
    },
    {
      "cell_type": "code",
      "metadata": {
        "colab": {
          "base_uri": "https://localhost:8080/"
        },
        "id": "kT_q9REzA6dW",
        "outputId": "d56d8528-b8d5-42b9-d231-d1a082d03178"
      },
      "source": [
        "b.shape, b.dtype"
      ],
      "execution_count": 7,
      "outputs": [
        {
          "output_type": "execute_result",
          "data": {
            "text/plain": [
              "((2, 4), dtype('int64'))"
            ]
          },
          "metadata": {},
          "execution_count": 7
        }
      ]
    },
    {
      "cell_type": "code",
      "metadata": {
        "colab": {
          "base_uri": "https://localhost:8080/"
        },
        "id": "CM2JWyvcBDJs",
        "outputId": "d6d17fcc-609c-40d0-a1e8-f580d64bacd9"
      },
      "source": [
        "b = np.arange(1,9).reshape(2,4)\n",
        "b"
      ],
      "execution_count": 8,
      "outputs": [
        {
          "output_type": "execute_result",
          "data": {
            "text/plain": [
              "array([[1, 2, 3, 4],\n",
              "       [5, 6, 7, 8]])"
            ]
          },
          "metadata": {},
          "execution_count": 8
        }
      ]
    },
    {
      "cell_type": "code",
      "metadata": {
        "colab": {
          "base_uri": "https://localhost:8080/"
        },
        "id": "bK-COLFXBby9",
        "outputId": "31f457e7-e712-476d-b9c2-e478cbd9d94a"
      },
      "source": [
        "# 3차원 어레이(Tensor)\n",
        "c = np.arange(1,25).reshape(2,3,4)\n",
        "c"
      ],
      "execution_count": 9,
      "outputs": [
        {
          "output_type": "execute_result",
          "data": {
            "text/plain": [
              "array([[[ 1,  2,  3,  4],\n",
              "        [ 5,  6,  7,  8],\n",
              "        [ 9, 10, 11, 12]],\n",
              "\n",
              "       [[13, 14, 15, 16],\n",
              "        [17, 18, 19, 20],\n",
              "        [21, 22, 23, 24]]])"
            ]
          },
          "metadata": {},
          "execution_count": 9
        }
      ]
    },
    {
      "cell_type": "code",
      "metadata": {
        "colab": {
          "base_uri": "https://localhost:8080/"
        },
        "id": "lVpeC6xiCEue",
        "outputId": "fbed2e6d-7d43-4553-c4dd-e54bc87be7e1"
      },
      "source": [
        "c.shape"
      ],
      "execution_count": 10,
      "outputs": [
        {
          "output_type": "execute_result",
          "data": {
            "text/plain": [
              "(2, 3, 4)"
            ]
          },
          "metadata": {},
          "execution_count": 10
        }
      ]
    },
    {
      "cell_type": "code",
      "metadata": {
        "colab": {
          "base_uri": "https://localhost:8080/"
        },
        "id": "kYqpC1ERCNyY",
        "outputId": "37f24a3b-421e-4be6-ec8a-ab557447081a"
      },
      "source": [
        "c.size"
      ],
      "execution_count": 11,
      "outputs": [
        {
          "output_type": "execute_result",
          "data": {
            "text/plain": [
              "24"
            ]
          },
          "metadata": {},
          "execution_count": 11
        }
      ]
    },
    {
      "cell_type": "code",
      "metadata": {
        "colab": {
          "base_uri": "https://localhost:8080/"
        },
        "id": "Jrk8tCwWCZhy",
        "outputId": "8087656d-94a1-424d-9dad-249d5f4aacd4"
      },
      "source": [
        "# data type\n",
        "np.array([[1, 2, 3], [4.5, '5', '6']], dtype=np.float32)"
      ],
      "execution_count": 12,
      "outputs": [
        {
          "output_type": "execute_result",
          "data": {
            "text/plain": [
              "array([[1. , 2. , 3. ],\n",
              "       [4.5, 5. , 6. ]], dtype=float32)"
            ]
          },
          "metadata": {},
          "execution_count": 12
        }
      ]
    },
    {
      "cell_type": "code",
      "metadata": {
        "colab": {
          "base_uri": "https://localhost:8080/"
        },
        "id": "sfF_vew7Cre1",
        "outputId": "f32be43d-6e14-41b8-891f-358bd986cc81"
      },
      "source": [
        "# shape 변경 - 엘리먼트의 갯수가 동일\n",
        "c.reshape(4, 6)"
      ],
      "execution_count": 13,
      "outputs": [
        {
          "output_type": "execute_result",
          "data": {
            "text/plain": [
              "array([[ 1,  2,  3,  4,  5,  6],\n",
              "       [ 7,  8,  9, 10, 11, 12],\n",
              "       [13, 14, 15, 16, 17, 18],\n",
              "       [19, 20, 21, 22, 23, 24]])"
            ]
          },
          "metadata": {},
          "execution_count": 13
        }
      ]
    },
    {
      "cell_type": "code",
      "metadata": {
        "colab": {
          "base_uri": "https://localhost:8080/"
        },
        "id": "Ejl4HtCTDIEm",
        "outputId": "b4da3df4-c5eb-4c24-a07a-2866cae83675"
      },
      "source": [
        "c.reshape(4, -1)"
      ],
      "execution_count": 14,
      "outputs": [
        {
          "output_type": "execute_result",
          "data": {
            "text/plain": [
              "array([[ 1,  2,  3,  4,  5,  6],\n",
              "       [ 7,  8,  9, 10, 11, 12],\n",
              "       [13, 14, 15, 16, 17, 18],\n",
              "       [19, 20, 21, 22, 23, 24]])"
            ]
          },
          "metadata": {},
          "execution_count": 14
        }
      ]
    },
    {
      "cell_type": "code",
      "metadata": {
        "colab": {
          "base_uri": "https://localhost:8080/"
        },
        "id": "Ajj46Tu0DgVj",
        "outputId": "5966c0b4-236b-4fc3-983a-e415d07d0142"
      },
      "source": [
        "# flatten - 1차원으로 변경\n",
        "b"
      ],
      "execution_count": 15,
      "outputs": [
        {
          "output_type": "execute_result",
          "data": {
            "text/plain": [
              "array([[1, 2, 3, 4],\n",
              "       [5, 6, 7, 8]])"
            ]
          },
          "metadata": {},
          "execution_count": 15
        }
      ]
    },
    {
      "cell_type": "code",
      "metadata": {
        "colab": {
          "base_uri": "https://localhost:8080/"
        },
        "id": "58K5skrOESkQ",
        "outputId": "06e9ad9a-2b6b-4937-adff-11078aecdbb4"
      },
      "source": [
        "b.flatten()         # b.reshape(-1)"
      ],
      "execution_count": 16,
      "outputs": [
        {
          "output_type": "execute_result",
          "data": {
            "text/plain": [
              "array([1, 2, 3, 4, 5, 6, 7, 8])"
            ]
          },
          "metadata": {},
          "execution_count": 16
        }
      ]
    },
    {
      "cell_type": "markdown",
      "metadata": {
        "id": "L9aBhZvcEmnD"
      },
      "source": [
        "### 2) Indexing & Slicing"
      ]
    },
    {
      "cell_type": "code",
      "metadata": {
        "colab": {
          "base_uri": "https://localhost:8080/"
        },
        "id": "HCGgm_BBEV5N",
        "outputId": "359105f2-c132-4046-d29e-17bb78e58e6d"
      },
      "source": [
        "a = np.array([[1,2,3], [4,5,6]], int)\n",
        "a"
      ],
      "execution_count": 18,
      "outputs": [
        {
          "output_type": "execute_result",
          "data": {
            "text/plain": [
              "array([[1, 2, 3],\n",
              "       [4, 5, 6]])"
            ]
          },
          "metadata": {},
          "execution_count": 18
        }
      ]
    },
    {
      "cell_type": "code",
      "metadata": {
        "colab": {
          "base_uri": "https://localhost:8080/"
        },
        "id": "dwCt0KaNHsBr",
        "outputId": "276c7bf4-afab-4325-c042-e2d9bde733a6"
      },
      "source": [
        "a[1, 1], a[-1, 1], a[-1, -2]        # [행, 열]"
      ],
      "execution_count": 21,
      "outputs": [
        {
          "output_type": "execute_result",
          "data": {
            "text/plain": [
              "(5, 5, 5)"
            ]
          },
          "metadata": {},
          "execution_count": 21
        }
      ]
    },
    {
      "cell_type": "code",
      "metadata": {
        "colab": {
          "base_uri": "https://localhost:8080/"
        },
        "id": "K5WbyAPtH6Z7",
        "outputId": "9d6c2bed-f10b-4ddb-d539-34712e02b5f9"
      },
      "source": [
        "d = c.reshape(4,-1)\n",
        "d"
      ],
      "execution_count": 23,
      "outputs": [
        {
          "output_type": "execute_result",
          "data": {
            "text/plain": [
              "array([[ 1,  2,  3,  4,  5,  6],\n",
              "       [ 7,  8,  9, 10, 11, 12],\n",
              "       [13, 14, 15, 16, 17, 18],\n",
              "       [19, 20, 21, 22, 23, 24]])"
            ]
          },
          "metadata": {},
          "execution_count": 23
        }
      ]
    },
    {
      "cell_type": "code",
      "metadata": {
        "colab": {
          "base_uri": "https://localhost:8080/"
        },
        "id": "KQq4XscbId_g",
        "outputId": "34a2a7c9-d8d5-48c0-befd-41e29a2e11de"
      },
      "source": [
        "d[0:3, 0:2]"
      ],
      "execution_count": 24,
      "outputs": [
        {
          "output_type": "execute_result",
          "data": {
            "text/plain": [
              "array([[ 1,  2],\n",
              "       [ 7,  8],\n",
              "       [13, 14]])"
            ]
          },
          "metadata": {},
          "execution_count": 24
        }
      ]
    },
    {
      "cell_type": "code",
      "metadata": {
        "colab": {
          "base_uri": "https://localhost:8080/"
        },
        "id": "uEEXDQ7yI19f",
        "outputId": "2ce81ec2-9bf9-42dc-856c-1d106fa3198f"
      },
      "source": [
        "d[:3, :2]"
      ],
      "execution_count": 25,
      "outputs": [
        {
          "output_type": "execute_result",
          "data": {
            "text/plain": [
              "array([[ 1,  2],\n",
              "       [ 7,  8],\n",
              "       [13, 14]])"
            ]
          },
          "metadata": {},
          "execution_count": 25
        }
      ]
    },
    {
      "cell_type": "code",
      "metadata": {
        "colab": {
          "base_uri": "https://localhost:8080/"
        },
        "id": "YHWMtotdJIf5",
        "outputId": "198bb6a9-407d-4a08-8084-ed88c57ed9b7"
      },
      "source": [
        "d[:2, 3:]"
      ],
      "execution_count": 26,
      "outputs": [
        {
          "output_type": "execute_result",
          "data": {
            "text/plain": [
              "array([[ 4,  5,  6],\n",
              "       [10, 11, 12]])"
            ]
          },
          "metadata": {},
          "execution_count": 26
        }
      ]
    },
    {
      "cell_type": "code",
      "metadata": {
        "colab": {
          "base_uri": "https://localhost:8080/"
        },
        "id": "frHPen63Jh1d",
        "outputId": "b76aa586-ebbc-494b-d4c0-6ec1e36a483c"
      },
      "source": [
        "d[:, 1::2]"
      ],
      "execution_count": 27,
      "outputs": [
        {
          "output_type": "execute_result",
          "data": {
            "text/plain": [
              "array([[ 2,  4,  6],\n",
              "       [ 8, 10, 12],\n",
              "       [14, 16, 18],\n",
              "       [20, 22, 24]])"
            ]
          },
          "metadata": {},
          "execution_count": 27
        }
      ]
    },
    {
      "cell_type": "markdown",
      "metadata": {
        "id": "U56-LbT3KUVi"
      },
      "source": [
        "### 3) Creation"
      ]
    },
    {
      "cell_type": "markdown",
      "metadata": {
        "id": "5dB8_wh8KdZZ"
      },
      "source": [
        "- arange"
      ]
    },
    {
      "cell_type": "code",
      "metadata": {
        "colab": {
          "base_uri": "https://localhost:8080/"
        },
        "id": "-3WIwbfKJ9Si",
        "outputId": "c995d815-49b8-488f-a427-c2e89b27f921"
      },
      "source": [
        "np.arange(10)"
      ],
      "execution_count": 28,
      "outputs": [
        {
          "output_type": "execute_result",
          "data": {
            "text/plain": [
              "array([0, 1, 2, 3, 4, 5, 6, 7, 8, 9])"
            ]
          },
          "metadata": {},
          "execution_count": 28
        }
      ]
    },
    {
      "cell_type": "code",
      "metadata": {
        "colab": {
          "base_uri": "https://localhost:8080/"
        },
        "id": "SlkHbo-XKjZk",
        "outputId": "d1b01a39-99c7-4f0b-f17a-294747bc88e3"
      },
      "source": [
        "np.arange(0, 5, 0.5)"
      ],
      "execution_count": 29,
      "outputs": [
        {
          "output_type": "execute_result",
          "data": {
            "text/plain": [
              "array([0. , 0.5, 1. , 1.5, 2. , 2.5, 3. , 3.5, 4. , 4.5])"
            ]
          },
          "metadata": {},
          "execution_count": 29
        }
      ]
    },
    {
      "cell_type": "code",
      "metadata": {
        "colab": {
          "base_uri": "https://localhost:8080/"
        },
        "id": "v88kjqJZK26A",
        "outputId": "ae052dcc-58ae-44ba-902c-fdf25fcfb436"
      },
      "source": [
        "float_list = np.arange(0, 5, 0.5).tolist()\n",
        "float_list"
      ],
      "execution_count": 30,
      "outputs": [
        {
          "output_type": "execute_result",
          "data": {
            "text/plain": [
              "[0.0, 0.5, 1.0, 1.5, 2.0, 2.5, 3.0, 3.5, 4.0, 4.5]"
            ]
          },
          "metadata": {},
          "execution_count": 30
        }
      ]
    },
    {
      "cell_type": "code",
      "metadata": {
        "colab": {
          "base_uri": "https://localhost:8080/"
        },
        "id": "EW-jxTGJLHJH",
        "outputId": "da496192-a3ba-4c23-f393-0d3f7712698a"
      },
      "source": [
        "a = np.arange(-1, 1.01, 0.01)\n",
        "a.shape"
      ],
      "execution_count": 31,
      "outputs": [
        {
          "output_type": "execute_result",
          "data": {
            "text/plain": [
              "(201,)"
            ]
          },
          "metadata": {},
          "execution_count": 31
        }
      ]
    },
    {
      "cell_type": "code",
      "metadata": {
        "colab": {
          "base_uri": "https://localhost:8080/",
          "height": 264
        },
        "id": "EEb1skDaLwBV",
        "outputId": "b4d9138c-97a5-49fe-8d26-4688a0f5d886"
      },
      "source": [
        "import matplotlib.pyplot as plt\n",
        "plt.plot(a, a*a)\n",
        "plt.grid()\n",
        "plt.show()"
      ],
      "execution_count": 33,
      "outputs": [
        {
          "output_type": "display_data",
          "data": {
            "image/png": "[encoded data removed]",
            "text/plain": [
              "<Figure size 432x288 with 1 Axes>"
            ]
          },
          "metadata": {
            "needs_background": "light"
          }
        }
      ]
    },
    {
      "cell_type": "markdown",
      "metadata": {
        "id": "9SRxl-CIMLL1"
      },
      "source": [
        "- linspace"
      ]
    },
    {
      "cell_type": "code",
      "metadata": {
        "colab": {
          "base_uri": "https://localhost:8080/"
        },
        "id": "k8vlqMeNL9_V",
        "outputId": "507a210d-654c-47f9-f70c-0fd0786ce3c3"
      },
      "source": [
        "b = np.linspace(-1, 1, 201)     # -1 ~ 1 을 201 등분\n",
        "b.shape"
      ],
      "execution_count": 34,
      "outputs": [
        {
          "output_type": "execute_result",
          "data": {
            "text/plain": [
              "(201,)"
            ]
          },
          "metadata": {},
          "execution_count": 34
        }
      ]
    },
    {
      "cell_type": "markdown",
      "metadata": {
        "id": "WJZg6iwkMt_r"
      },
      "source": [
        "- ones, zeros, empty"
      ]
    },
    {
      "cell_type": "code",
      "metadata": {
        "colab": {
          "base_uri": "https://localhost:8080/"
        },
        "id": "joekncXUMfO-",
        "outputId": "1cd87651-bd1d-4af7-f97f-3986db1eacae"
      },
      "source": [
        "np.ones(10)"
      ],
      "execution_count": 35,
      "outputs": [
        {
          "output_type": "execute_result",
          "data": {
            "text/plain": [
              "array([1., 1., 1., 1., 1., 1., 1., 1., 1., 1.])"
            ]
          },
          "metadata": {},
          "execution_count": 35
        }
      ]
    },
    {
      "cell_type": "code",
      "metadata": {
        "colab": {
          "base_uri": "https://localhost:8080/"
        },
        "id": "FuVzj-M7M5Rk",
        "outputId": "399874e6-4219-4260-bb02-a1a723709d36"
      },
      "source": [
        "np.ones(10, dtype=np.int32)"
      ],
      "execution_count": 36,
      "outputs": [
        {
          "output_type": "execute_result",
          "data": {
            "text/plain": [
              "array([1, 1, 1, 1, 1, 1, 1, 1, 1, 1], dtype=int32)"
            ]
          },
          "metadata": {},
          "execution_count": 36
        }
      ]
    },
    {
      "cell_type": "code",
      "metadata": {
        "colab": {
          "base_uri": "https://localhost:8080/"
        },
        "id": "iwwwFm4ANIVi",
        "outputId": "4a22c9e5-1aab-4582-cfaf-7bd936af16f2"
      },
      "source": [
        "np.ones((2,3), np.int32)"
      ],
      "execution_count": 38,
      "outputs": [
        {
          "output_type": "execute_result",
          "data": {
            "text/plain": [
              "array([[1, 1, 1],\n",
              "       [1, 1, 1]], dtype=int32)"
            ]
          },
          "metadata": {},
          "execution_count": 38
        }
      ]
    },
    {
      "cell_type": "code",
      "metadata": {
        "colab": {
          "base_uri": "https://localhost:8080/"
        },
        "id": "bqaLt5E9NPny",
        "outputId": "bbe466ed-e327-4a95-f6f4-1c5a55f25772"
      },
      "source": [
        "np.zeros(5)"
      ],
      "execution_count": 39,
      "outputs": [
        {
          "output_type": "execute_result",
          "data": {
            "text/plain": [
              "array([0., 0., 0., 0., 0.])"
            ]
          },
          "metadata": {},
          "execution_count": 39
        }
      ]
    },
    {
      "cell_type": "code",
      "metadata": {
        "colab": {
          "base_uri": "https://localhost:8080/"
        },
        "id": "xESwt9WXNiOs",
        "outputId": "047bb7fc-71f5-4c19-ab31-3792719b6837"
      },
      "source": [
        "np.empty(5)"
      ],
      "execution_count": 40,
      "outputs": [
        {
          "output_type": "execute_result",
          "data": {
            "text/plain": [
              "array([0., 0., 0., 0., 0.])"
            ]
          },
          "metadata": {},
          "execution_count": 40
        }
      ]
    },
    {
      "cell_type": "markdown",
      "metadata": {
        "id": "8OHs2T6xONDo"
      },
      "source": [
        "- identity"
      ]
    },
    {
      "cell_type": "code",
      "metadata": {
        "colab": {
          "base_uri": "https://localhost:8080/"
        },
        "id": "oFGVpmPNNqub",
        "outputId": "699299e4-d626-4fe9-80c1-a14ffc5725fa"
      },
      "source": [
        "np.identity(n=3, dtype=np.int32)"
      ],
      "execution_count": 41,
      "outputs": [
        {
          "output_type": "execute_result",
          "data": {
            "text/plain": [
              "array([[1, 0, 0],\n",
              "       [0, 1, 0],\n",
              "       [0, 0, 1]], dtype=int32)"
            ]
          },
          "metadata": {},
          "execution_count": 41
        }
      ]
    },
    {
      "cell_type": "code",
      "metadata": {
        "colab": {
          "base_uri": "https://localhost:8080/"
        },
        "id": "Bck-BDQMOuRx",
        "outputId": "9b308edf-ff13-4445-857d-8224c2f2a133"
      },
      "source": [
        "np.identity(3, np.int32)"
      ],
      "execution_count": 42,
      "outputs": [
        {
          "output_type": "execute_result",
          "data": {
            "text/plain": [
              "array([[1, 0, 0],\n",
              "       [0, 1, 0],\n",
              "       [0, 0, 1]], dtype=int32)"
            ]
          },
          "metadata": {},
          "execution_count": 42
        }
      ]
    },
    {
      "cell_type": "code",
      "metadata": {
        "colab": {
          "base_uri": "https://localhost:8080/"
        },
        "id": "liCHVbGtOy3-",
        "outputId": "eff42fbb-90b4-468c-e6b0-49544909ba73"
      },
      "source": [
        "a = np.arange(1,10).reshape(3,3)\n",
        "a"
      ],
      "execution_count": 43,
      "outputs": [
        {
          "output_type": "execute_result",
          "data": {
            "text/plain": [
              "array([[1, 2, 3],\n",
              "       [4, 5, 6],\n",
              "       [7, 8, 9]])"
            ]
          },
          "metadata": {},
          "execution_count": 43
        }
      ]
    },
    {
      "cell_type": "code",
      "metadata": {
        "colab": {
          "base_uri": "https://localhost:8080/"
        },
        "id": "T2ELtFosPCMm",
        "outputId": "2ef0b371-b8be-4f76-9aca-28931e6ddca4"
      },
      "source": [
        "I = np.identity(3, np.int32)\n",
        "I"
      ],
      "execution_count": 45,
      "outputs": [
        {
          "output_type": "execute_result",
          "data": {
            "text/plain": [
              "array([[1, 0, 0],\n",
              "       [0, 1, 0],\n",
              "       [0, 0, 1]], dtype=int32)"
            ]
          },
          "metadata": {},
          "execution_count": 45
        }
      ]
    },
    {
      "cell_type": "code",
      "metadata": {
        "colab": {
          "base_uri": "https://localhost:8080/"
        },
        "id": "GIbQiMFvPIXd",
        "outputId": "2eb08a6d-8e2b-4252-9580-1c2d8d03a7da"
      },
      "source": [
        "np.dot(a, I)"
      ],
      "execution_count": 46,
      "outputs": [
        {
          "output_type": "execute_result",
          "data": {
            "text/plain": [
              "array([[1, 2, 3],\n",
              "       [4, 5, 6],\n",
              "       [7, 8, 9]])"
            ]
          },
          "metadata": {},
          "execution_count": 46
        }
      ]
    },
    {
      "cell_type": "markdown",
      "metadata": {
        "id": "d769XvusPX85"
      },
      "source": [
        "- eye"
      ]
    },
    {
      "cell_type": "code",
      "metadata": {
        "colab": {
          "base_uri": "https://localhost:8080/"
        },
        "id": "KYx6vsa6PPJD",
        "outputId": "f3926cae-5994-495f-d167-6e8b291d5eda"
      },
      "source": [
        "np.eye(N=3, M=5, k=0, dtype=np.int32)"
      ],
      "execution_count": 48,
      "outputs": [
        {
          "output_type": "execute_result",
          "data": {
            "text/plain": [
              "array([[1, 0, 0, 0, 0],\n",
              "       [0, 1, 0, 0, 0],\n",
              "       [0, 0, 1, 0, 0]], dtype=int32)"
            ]
          },
          "metadata": {},
          "execution_count": 48
        }
      ]
    },
    {
      "cell_type": "code",
      "metadata": {
        "colab": {
          "base_uri": "https://localhost:8080/"
        },
        "id": "FB8oOe1oPrtR",
        "outputId": "cabbda87-8ddf-4b75-9c46-89372c5cd694"
      },
      "source": [
        "np.eye(3, 5, 2, int)"
      ],
      "execution_count": 49,
      "outputs": [
        {
          "output_type": "execute_result",
          "data": {
            "text/plain": [
              "array([[0, 0, 1, 0, 0],\n",
              "       [0, 0, 0, 1, 0],\n",
              "       [0, 0, 0, 0, 1]])"
            ]
          },
          "metadata": {},
          "execution_count": 49
        }
      ]
    },
    {
      "cell_type": "markdown",
      "metadata": {
        "id": "pkegDQy4QQVx"
      },
      "source": [
        "- 분포의 random sampling"
      ]
    },
    {
      "cell_type": "code",
      "metadata": {
        "colab": {
          "base_uri": "https://localhost:8080/"
        },
        "id": "4MHuhEn3P--5",
        "outputId": "eb02593a-b91a-433c-e813-a3522c06bc07"
      },
      "source": [
        "np.random.seed(2021)\n",
        "np.random.uniform(0, 1, 10).reshape(2,5)    # 최소, 최대, 갯수"
      ],
      "execution_count": 52,
      "outputs": [
        {
          "output_type": "execute_result",
          "data": {
            "text/plain": [
              "array([[0.60597828, 0.73336936, 0.13894716, 0.31267308, 0.99724328],\n",
              "       [0.12816238, 0.17899311, 0.75292543, 0.66216051, 0.78431013]])"
            ]
          },
          "metadata": {},
          "execution_count": 52
        }
      ]
    },
    {
      "cell_type": "code",
      "metadata": {
        "colab": {
          "base_uri": "https://localhost:8080/"
        },
        "id": "g2--R4CDQnbc",
        "outputId": "596b9482-7f58-4d0c-d0f0-818ad6333742"
      },
      "source": [
        "np.random.normal(0, 1, 10).reshape(2,5)     # 정규분포 - 평균, 표준편차, 갯수"
      ],
      "execution_count": 53,
      "outputs": [
        {
          "output_type": "execute_result",
          "data": {
            "text/plain": [
              "array([[ 0.10641374,  0.42215483,  0.12420684, -0.83795346,  0.4090157 ],\n",
              "       [ 0.10275122, -1.90772239,  1.1002243 , -1.40232506, -0.22508127]])"
            ]
          },
          "metadata": {},
          "execution_count": 53
        }
      ]
    },
    {
      "cell_type": "code",
      "metadata": {
        "colab": {
          "base_uri": "https://localhost:8080/"
        },
        "id": "zWaX79YlRD3_",
        "outputId": "f5af7930-5efb-4100-fd16-2fa439081042"
      },
      "source": [
        "np.random.binomial(10, 0.5, 5)              # 이항분포 - 갯수, 확률, 샘플링 갯수"
      ],
      "execution_count": 54,
      "outputs": [
        {
          "output_type": "execute_result",
          "data": {
            "text/plain": [
              "array([5, 4, 5, 5, 5])"
            ]
          },
          "metadata": {},
          "execution_count": 54
        }
      ]
    },
    {
      "cell_type": "markdown",
      "metadata": {
        "id": "-_qUXrlQVO2e"
      },
      "source": [
        "### 4) Operation"
      ]
    },
    {
      "cell_type": "code",
      "metadata": {
        "colab": {
          "base_uri": "https://localhost:8080/"
        },
        "id": "3sq8V2TTRn6x",
        "outputId": "23fc70f9-26c1-42a2-d9bf-83cbcaf0ffa3"
      },
      "source": [
        "# sum\n",
        "a = np.arange(11)\n",
        "a.sum()             # 넘파이 메소드"
      ],
      "execution_count": 55,
      "outputs": [
        {
          "output_type": "execute_result",
          "data": {
            "text/plain": [
              "55"
            ]
          },
          "metadata": {},
          "execution_count": 55
        }
      ]
    },
    {
      "cell_type": "code",
      "metadata": {
        "colab": {
          "base_uri": "https://localhost:8080/"
        },
        "id": "7iMwdJTYVb0x",
        "outputId": "6229da6b-5ab8-4bf3-9679-679f944443bf"
      },
      "source": [
        "sum(a)              # python 내장함수"
      ],
      "execution_count": 56,
      "outputs": [
        {
          "output_type": "execute_result",
          "data": {
            "text/plain": [
              "55"
            ]
          },
          "metadata": {},
          "execution_count": 56
        }
      ]
    },
    {
      "cell_type": "markdown",
      "metadata": {
        "id": "YKrgS2_HVtIR"
      },
      "source": [
        "- axis"
      ]
    },
    {
      "cell_type": "code",
      "metadata": {
        "colab": {
          "base_uri": "https://localhost:8080/"
        },
        "id": "kHBSlmpVVeVs",
        "outputId": "312493ed-f575-44dd-879d-0e4409f271e4"
      },
      "source": [
        "a = np.arange(1,13).reshape(3,4)\n",
        "a"
      ],
      "execution_count": 58,
      "outputs": [
        {
          "output_type": "execute_result",
          "data": {
            "text/plain": [
              "array([[ 1,  2,  3,  4],\n",
              "       [ 5,  6,  7,  8],\n",
              "       [ 9, 10, 11, 12]])"
            ]
          },
          "metadata": {},
          "execution_count": 58
        }
      ]
    },
    {
      "cell_type": "code",
      "metadata": {
        "colab": {
          "base_uri": "https://localhost:8080/"
        },
        "id": "mMSCXlmTV4nc",
        "outputId": "e5beae6b-0390-482d-f466-89841f440e99"
      },
      "source": [
        "a.sum()"
      ],
      "execution_count": 59,
      "outputs": [
        {
          "output_type": "execute_result",
          "data": {
            "text/plain": [
              "78"
            ]
          },
          "metadata": {},
          "execution_count": 59
        }
      ]
    },
    {
      "cell_type": "code",
      "metadata": {
        "colab": {
          "base_uri": "https://localhost:8080/"
        },
        "id": "BvNd7JMKV_mw",
        "outputId": "cb74e20f-0659-4ddb-9896-d907085a1cb7"
      },
      "source": [
        "a.sum(axis=0)"
      ],
      "execution_count": 60,
      "outputs": [
        {
          "output_type": "execute_result",
          "data": {
            "text/plain": [
              "array([15, 18, 21, 24])"
            ]
          },
          "metadata": {},
          "execution_count": 60
        }
      ]
    },
    {
      "cell_type": "code",
      "metadata": {
        "colab": {
          "base_uri": "https://localhost:8080/"
        },
        "id": "6cjLE35HWPCh",
        "outputId": "dc6fcaaf-e5f6-48ac-e740-1f53595c3d2b"
      },
      "source": [
        "a.sum(axis=1)"
      ],
      "execution_count": 61,
      "outputs": [
        {
          "output_type": "execute_result",
          "data": {
            "text/plain": [
              "array([10, 26, 42])"
            ]
          },
          "metadata": {},
          "execution_count": 61
        }
      ]
    },
    {
      "cell_type": "code",
      "metadata": {
        "colab": {
          "base_uri": "https://localhost:8080/"
        },
        "id": "-6Cwkx40WUc2",
        "outputId": "7b45ddc4-152b-4f83-d7b1-d3e8622fefa8"
      },
      "source": [
        "a.mean(), a.mean(axis=0), a.mean(axis=1)"
      ],
      "execution_count": 62,
      "outputs": [
        {
          "output_type": "execute_result",
          "data": {
            "text/plain": [
              "(6.5, array([5., 6., 7., 8.]), array([ 2.5,  6.5, 10.5]))"
            ]
          },
          "metadata": {},
          "execution_count": 62
        }
      ]
    },
    {
      "cell_type": "markdown",
      "metadata": {
        "id": "Pa5ePgEhW6xj"
      },
      "source": [
        "- sorting"
      ]
    },
    {
      "cell_type": "code",
      "metadata": {
        "colab": {
          "base_uri": "https://localhost:8080/"
        },
        "id": "PlUbsgkMWvKA",
        "outputId": "5a07ddc4-2624-4b8d-d985-6c4f7dced3eb"
      },
      "source": [
        "a = np.array([[4,3,5,7],[1,12,11,9],[2,5,1,14]])\n",
        "a"
      ],
      "execution_count": 73,
      "outputs": [
        {
          "output_type": "execute_result",
          "data": {
            "text/plain": [
              "array([[ 4,  3,  5,  7],\n",
              "       [ 1, 12, 11,  9],\n",
              "       [ 2,  5,  1, 14]])"
            ]
          },
          "metadata": {},
          "execution_count": 73
        }
      ]
    },
    {
      "cell_type": "code",
      "metadata": {
        "colab": {
          "base_uri": "https://localhost:8080/"
        },
        "id": "3JeyOf_0XDTC",
        "outputId": "cb48375e-d9d3-43d7-d289-421f45d5bebb"
      },
      "source": [
        "a.sort(axis=0)\n",
        "a"
      ],
      "execution_count": 74,
      "outputs": [
        {
          "output_type": "execute_result",
          "data": {
            "text/plain": [
              "array([[ 1,  3,  1,  7],\n",
              "       [ 2,  5,  5,  9],\n",
              "       [ 4, 12, 11, 14]])"
            ]
          },
          "metadata": {},
          "execution_count": 74
        }
      ]
    },
    {
      "cell_type": "code",
      "metadata": {
        "colab": {
          "base_uri": "https://localhost:8080/"
        },
        "id": "0mSUOaXJYGA1",
        "outputId": "f9f8226f-1732-42e1-bbe6-d92c1f21ceb5"
      },
      "source": [
        "# 내림차순\n",
        "a[::-1, :]"
      ],
      "execution_count": 75,
      "outputs": [
        {
          "output_type": "execute_result",
          "data": {
            "text/plain": [
              "array([[ 4, 12, 11, 14],\n",
              "       [ 2,  5,  5,  9],\n",
              "       [ 1,  3,  1,  7]])"
            ]
          },
          "metadata": {},
          "execution_count": 75
        }
      ]
    },
    {
      "cell_type": "code",
      "metadata": {
        "colab": {
          "base_uri": "https://localhost:8080/"
        },
        "id": "5kg_j5voXLHz",
        "outputId": "2b6fb584-35b3-4a00-b9cc-f6226b5c95a5"
      },
      "source": [
        "a = np.array([[4,3,5,7],[1,12,11,9],[2,5,1,14]])\n",
        "a.sort(axis=1)\n",
        "a"
      ],
      "execution_count": 71,
      "outputs": [
        {
          "output_type": "execute_result",
          "data": {
            "text/plain": [
              "array([[ 3,  4,  5,  7],\n",
              "       [ 1,  9, 11, 12],\n",
              "       [ 1,  2,  5, 14]])"
            ]
          },
          "metadata": {},
          "execution_count": 71
        }
      ]
    },
    {
      "cell_type": "code",
      "metadata": {
        "colab": {
          "base_uri": "https://localhost:8080/"
        },
        "id": "6_saoFhjXmIG",
        "outputId": "726fefa1-40cd-4196-a19f-dee70e271434"
      },
      "source": [
        "# 내림차순\n",
        "a[:, ::-1]"
      ],
      "execution_count": 72,
      "outputs": [
        {
          "output_type": "execute_result",
          "data": {
            "text/plain": [
              "array([[ 7,  5,  4,  3],\n",
              "       [12, 11,  9,  1],\n",
              "       [14,  5,  2,  1]])"
            ]
          },
          "metadata": {},
          "execution_count": 72
        }
      ]
    },
    {
      "cell_type": "markdown",
      "metadata": {
        "id": "mviU90WSYXp7"
      },
      "source": [
        "- argsort"
      ]
    },
    {
      "cell_type": "code",
      "metadata": {
        "colab": {
          "base_uri": "https://localhost:8080/"
        },
        "id": "bmFT2zVTX_rS",
        "outputId": "b5a51b8a-5a96-4b7a-8490-ff0db5a76206"
      },
      "source": [
        "a = np.array([42,38,12,25])\n",
        "np.argsort(a)"
      ],
      "execution_count": 76,
      "outputs": [
        {
          "output_type": "execute_result",
          "data": {
            "text/plain": [
              "array([2, 3, 1, 0])"
            ]
          },
          "metadata": {},
          "execution_count": 76
        }
      ]
    },
    {
      "cell_type": "markdown",
      "metadata": {
        "id": "oGOGed8-YoAD"
      },
      "source": [
        "- mathematical"
      ]
    },
    {
      "cell_type": "code",
      "metadata": {
        "colab": {
          "base_uri": "https://localhost:8080/"
        },
        "id": "vlaMPLkUYff2",
        "outputId": "eadac904-2c67-462e-ede4-f4ff944d8cdc"
      },
      "source": [
        "np.sin(a)"
      ],
      "execution_count": 77,
      "outputs": [
        {
          "output_type": "execute_result",
          "data": {
            "text/plain": [
              "array([-0.91652155,  0.29636858, -0.53657292, -0.13235175])"
            ]
          },
          "metadata": {},
          "execution_count": 77
        }
      ]
    },
    {
      "cell_type": "code",
      "metadata": {
        "colab": {
          "base_uri": "https://localhost:8080/",
          "height": 264
        },
        "id": "vb0mhIaiY78w",
        "outputId": "fd39d804-9327-43c8-aad6-e19f7a42eb47"
      },
      "source": [
        "x = np.linspace(0, 2*np.pi, 500)\n",
        "y = np.sin(x)\n",
        "plt.plot(x, y)\n",
        "plt.grid()\n",
        "plt.show()"
      ],
      "execution_count": 79,
      "outputs": [
        {
          "output_type": "display_data",
          "data": {
            "image/png": "[encoded data removed]",
            "text/plain": [
              "<Figure size 432x288 with 1 Axes>"
            ]
          },
          "metadata": {
            "needs_background": "light"
          }
        }
      ]
    },
    {
      "cell_type": "markdown",
      "metadata": {
        "id": "1USMAC4sZy4o"
      },
      "source": [
        "- concatenate"
      ]
    },
    {
      "cell_type": "code",
      "metadata": {
        "colab": {
          "base_uri": "https://localhost:8080/"
        },
        "id": "H4bqRDu2ZU77",
        "outputId": "0d9b2b16-3dbd-4627-bfab-03b83ab9189f"
      },
      "source": [
        "a = np.array([[1, 2], [3, 4]])\n",
        "b = np.array([[5, 6]])\n",
        "a"
      ],
      "execution_count": 80,
      "outputs": [
        {
          "output_type": "execute_result",
          "data": {
            "text/plain": [
              "array([[1, 2],\n",
              "       [3, 4]])"
            ]
          },
          "metadata": {},
          "execution_count": 80
        }
      ]
    },
    {
      "cell_type": "code",
      "metadata": {
        "colab": {
          "base_uri": "https://localhost:8080/"
        },
        "id": "De-0YKZ2adMM",
        "outputId": "1d9848a0-0a2f-4e2f-e75a-616ca540f429"
      },
      "source": [
        "a.shape, b.shape"
      ],
      "execution_count": 83,
      "outputs": [
        {
          "output_type": "execute_result",
          "data": {
            "text/plain": [
              "((2, 2), (1, 2))"
            ]
          },
          "metadata": {},
          "execution_count": 83
        }
      ]
    },
    {
      "cell_type": "code",
      "metadata": {
        "colab": {
          "base_uri": "https://localhost:8080/"
        },
        "id": "zjsQqLU2Z5XM",
        "outputId": "57504a69-6730-4836-f970-4e2075c8311b"
      },
      "source": [
        "np.vstack((a, b))"
      ],
      "execution_count": 81,
      "outputs": [
        {
          "output_type": "execute_result",
          "data": {
            "text/plain": [
              "array([[1, 2],\n",
              "       [3, 4],\n",
              "       [5, 6]])"
            ]
          },
          "metadata": {},
          "execution_count": 81
        }
      ]
    },
    {
      "cell_type": "code",
      "metadata": {
        "colab": {
          "base_uri": "https://localhost:8080/"
        },
        "id": "68j2eOzOaDYG",
        "outputId": "198dec51-6855-4380-b21b-74776c4bb7b6"
      },
      "source": [
        "np.concatenate((a, b), axis=0)"
      ],
      "execution_count": 82,
      "outputs": [
        {
          "output_type": "execute_result",
          "data": {
            "text/plain": [
              "array([[1, 2],\n",
              "       [3, 4],\n",
              "       [5, 6]])"
            ]
          },
          "metadata": {},
          "execution_count": 82
        }
      ]
    },
    {
      "cell_type": "code",
      "metadata": {
        "colab": {
          "base_uri": "https://localhost:8080/"
        },
        "id": "gUSJDO4zaUPG",
        "outputId": "9531a8ca-dc6e-4239-e36a-58982aea8c97"
      },
      "source": [
        "c = np.array([5, 6])\n",
        "np.vstack((a, c))"
      ],
      "execution_count": 84,
      "outputs": [
        {
          "output_type": "execute_result",
          "data": {
            "text/plain": [
              "array([[1, 2],\n",
              "       [3, 4],\n",
              "       [5, 6]])"
            ]
          },
          "metadata": {},
          "execution_count": 84
        }
      ]
    },
    {
      "cell_type": "markdown",
      "metadata": {
        "id": "FovsUm7ca0kg"
      },
      "source": [
        "- transpose"
      ]
    },
    {
      "cell_type": "code",
      "metadata": {
        "colab": {
          "base_uri": "https://localhost:8080/"
        },
        "id": "zIZXBn3Waqaw",
        "outputId": "da22c8a4-ac6a-4e72-8fc4-1b0ebc9e9d08"
      },
      "source": [
        "b.T"
      ],
      "execution_count": 86,
      "outputs": [
        {
          "output_type": "execute_result",
          "data": {
            "text/plain": [
              "array([[5],\n",
              "       [6]])"
            ]
          },
          "metadata": {},
          "execution_count": 86
        }
      ]
    },
    {
      "cell_type": "code",
      "metadata": {
        "colab": {
          "base_uri": "https://localhost:8080/"
        },
        "id": "AliGvVZda2ym",
        "outputId": "4b815def-d8dd-42a8-88f2-865fa15eec2e"
      },
      "source": [
        "b.T.shape"
      ],
      "execution_count": 87,
      "outputs": [
        {
          "output_type": "execute_result",
          "data": {
            "text/plain": [
              "(2, 1)"
            ]
          },
          "metadata": {},
          "execution_count": 87
        }
      ]
    },
    {
      "cell_type": "code",
      "metadata": {
        "colab": {
          "base_uri": "https://localhost:8080/"
        },
        "id": "dxIFgmMAa9xX",
        "outputId": "2977934f-a48e-43c8-b2ab-01876131768a"
      },
      "source": [
        "np.hstack((a, b.T))"
      ],
      "execution_count": 88,
      "outputs": [
        {
          "output_type": "execute_result",
          "data": {
            "text/plain": [
              "array([[1, 2, 5],\n",
              "       [3, 4, 6]])"
            ]
          },
          "metadata": {},
          "execution_count": 88
        }
      ]
    },
    {
      "cell_type": "markdown",
      "metadata": {
        "id": "YTETcrxmbcUA"
      },
      "source": [
        "- 사칙연산"
      ]
    },
    {
      "cell_type": "code",
      "metadata": {
        "colab": {
          "base_uri": "https://localhost:8080/"
        },
        "id": "BmvddF8MbLHQ",
        "outputId": "4500e1a1-3565-45e5-b8ac-7683893bb5a7"
      },
      "source": [
        "a + a"
      ],
      "execution_count": 90,
      "outputs": [
        {
          "output_type": "execute_result",
          "data": {
            "text/plain": [
              "array([[2, 4],\n",
              "       [6, 8]])"
            ]
          },
          "metadata": {},
          "execution_count": 90
        }
      ]
    },
    {
      "cell_type": "code",
      "metadata": {
        "colab": {
          "base_uri": "https://localhost:8080/"
        },
        "id": "9Segg7hVbiQy",
        "outputId": "bf125003-c273-49a3-cae9-458973fb0af9"
      },
      "source": [
        "a * a       # element-wise 곱셈"
      ],
      "execution_count": 93,
      "outputs": [
        {
          "output_type": "execute_result",
          "data": {
            "text/plain": [
              "array([[ 1,  4],\n",
              "       [ 9, 16]])"
            ]
          },
          "metadata": {},
          "execution_count": 93
        }
      ]
    },
    {
      "cell_type": "code",
      "metadata": {
        "colab": {
          "base_uri": "https://localhost:8080/"
        },
        "id": "OlDuQsSebmAE",
        "outputId": "425980ad-dc72-4a36-c10e-7159a1449b0f"
      },
      "source": [
        "a / a"
      ],
      "execution_count": 92,
      "outputs": [
        {
          "output_type": "execute_result",
          "data": {
            "text/plain": [
              "array([[1., 1.],\n",
              "       [1., 1.]])"
            ]
          },
          "metadata": {},
          "execution_count": 92
        }
      ]
    },
    {
      "cell_type": "markdown",
      "metadata": {
        "id": "25ocPcFPbzqh"
      },
      "source": [
        "- dot product"
      ]
    },
    {
      "cell_type": "code",
      "metadata": {
        "colab": {
          "base_uri": "https://localhost:8080/"
        },
        "id": "RbWz24ZPbquF",
        "outputId": "5541f2a9-312b-40a5-ec4c-02d36ffb8d5a"
      },
      "source": [
        "a = np.arange(1,7).reshape(2,3)\n",
        "a"
      ],
      "execution_count": 94,
      "outputs": [
        {
          "output_type": "execute_result",
          "data": {
            "text/plain": [
              "array([[1, 2, 3],\n",
              "       [4, 5, 6]])"
            ]
          },
          "metadata": {},
          "execution_count": 94
        }
      ]
    },
    {
      "cell_type": "code",
      "metadata": {
        "colab": {
          "base_uri": "https://localhost:8080/"
        },
        "id": "JBrpgfGYcSHN",
        "outputId": "be4b1823-afca-4bf3-ae66-09cce7921d8d"
      },
      "source": [
        "b = np.arange(1,7).reshape(3,2)\n",
        "b"
      ],
      "execution_count": 95,
      "outputs": [
        {
          "output_type": "execute_result",
          "data": {
            "text/plain": [
              "array([[1, 2],\n",
              "       [3, 4],\n",
              "       [5, 6]])"
            ]
          },
          "metadata": {},
          "execution_count": 95
        }
      ]
    },
    {
      "cell_type": "code",
      "metadata": {
        "colab": {
          "base_uri": "https://localhost:8080/"
        },
        "id": "07leG7N2cX4N",
        "outputId": "e3e585f2-feff-422b-b22d-685ca6134310"
      },
      "source": [
        "np.dot(a, b)"
      ],
      "execution_count": 96,
      "outputs": [
        {
          "output_type": "execute_result",
          "data": {
            "text/plain": [
              "array([[22, 28],\n",
              "       [49, 64]])"
            ]
          },
          "metadata": {},
          "execution_count": 96
        }
      ]
    },
    {
      "cell_type": "code",
      "metadata": {
        "colab": {
          "base_uri": "https://localhost:8080/"
        },
        "id": "a4HhyM3rdBxt",
        "outputId": "86652dd3-91d5-4ea4-f6f8-07bda49b1c94"
      },
      "source": [
        "a.dot(b)"
      ],
      "execution_count": 97,
      "outputs": [
        {
          "output_type": "execute_result",
          "data": {
            "text/plain": [
              "array([[22, 28],\n",
              "       [49, 64]])"
            ]
          },
          "metadata": {},
          "execution_count": 97
        }
      ]
    },
    {
      "cell_type": "markdown",
      "metadata": {
        "id": "jgUr7qiDdX8Q"
      },
      "source": [
        "- Broadcasting"
      ]
    },
    {
      "cell_type": "code",
      "metadata": {
        "colab": {
          "base_uri": "https://localhost:8080/"
        },
        "id": "ItJTt_k8dDyU",
        "outputId": "edfce2a5-b6c8-414a-cf4a-54881eab4050"
      },
      "source": [
        "a * 3"
      ],
      "execution_count": 98,
      "outputs": [
        {
          "output_type": "execute_result",
          "data": {
            "text/plain": [
              "array([[ 3,  6,  9],\n",
              "       [12, 15, 18]])"
            ]
          },
          "metadata": {},
          "execution_count": 98
        }
      ]
    },
    {
      "cell_type": "code",
      "metadata": {
        "colab": {
          "base_uri": "https://localhost:8080/"
        },
        "id": "aVDC6HVLddgy",
        "outputId": "4f1d5ae9-3c53-47b4-eb72-48a57067fa25"
      },
      "source": [
        "b - 2"
      ],
      "execution_count": 99,
      "outputs": [
        {
          "output_type": "execute_result",
          "data": {
            "text/plain": [
              "array([[-1,  0],\n",
              "       [ 1,  2],\n",
              "       [ 3,  4]])"
            ]
          },
          "metadata": {},
          "execution_count": 99
        }
      ]
    },
    {
      "cell_type": "markdown",
      "metadata": {
        "id": "g6MdV9z6n-By"
      },
      "source": [
        "### 5) Comparison"
      ]
    },
    {
      "cell_type": "markdown",
      "metadata": {
        "id": "KuCz0BYsxVKm"
      },
      "source": [
        "- All & Any"
      ]
    },
    {
      "cell_type": "code",
      "metadata": {
        "colab": {
          "base_uri": "https://localhost:8080/"
        },
        "id": "6R8CwE5jdffv",
        "outputId": "f088e6a6-3826-40ae-ba41-e5ba47aab559"
      },
      "source": [
        "a = np.arange(10)\n",
        "a"
      ],
      "execution_count": 100,
      "outputs": [
        {
          "output_type": "execute_result",
          "data": {
            "text/plain": [
              "array([0, 1, 2, 3, 4, 5, 6, 7, 8, 9])"
            ]
          },
          "metadata": {},
          "execution_count": 100
        }
      ]
    },
    {
      "cell_type": "code",
      "metadata": {
        "colab": {
          "base_uri": "https://localhost:8080/"
        },
        "id": "8H8Kdg2wxai6",
        "outputId": "2cce49dc-c2fb-4fec-feeb-23310731f23c"
      },
      "source": [
        "np.all(a > 5)       # 교집합"
      ],
      "execution_count": 101,
      "outputs": [
        {
          "output_type": "execute_result",
          "data": {
            "text/plain": [
              "False"
            ]
          },
          "metadata": {},
          "execution_count": 101
        }
      ]
    },
    {
      "cell_type": "code",
      "metadata": {
        "colab": {
          "base_uri": "https://localhost:8080/"
        },
        "id": "eSRQlPQgxg8_",
        "outputId": "b874a254-dd4d-4302-f5d6-a80864d0cdc4"
      },
      "source": [
        "a > 5"
      ],
      "execution_count": 102,
      "outputs": [
        {
          "output_type": "execute_result",
          "data": {
            "text/plain": [
              "array([False, False, False, False, False, False,  True,  True,  True,\n",
              "        True])"
            ]
          },
          "metadata": {},
          "execution_count": 102
        }
      ]
    },
    {
      "cell_type": "code",
      "metadata": {
        "colab": {
          "base_uri": "https://localhost:8080/"
        },
        "id": "eLdPC-v2xk18",
        "outputId": "dc4dd57e-7b45-4396-f62c-24417dd98242"
      },
      "source": [
        "np.any(a > 5)       # 합집합"
      ],
      "execution_count": 103,
      "outputs": [
        {
          "output_type": "execute_result",
          "data": {
            "text/plain": [
              "True"
            ]
          },
          "metadata": {},
          "execution_count": 103
        }
      ]
    },
    {
      "cell_type": "markdown",
      "metadata": {
        "id": "CbEmCjt5x6Ed"
      },
      "source": [
        "- Logical operation"
      ]
    },
    {
      "cell_type": "code",
      "metadata": {
        "colab": {
          "base_uri": "https://localhost:8080/"
        },
        "id": "E7wgO_xxxqsL",
        "outputId": "a985df7f-6085-4f92-8602-0f18d0a00e92"
      },
      "source": [
        "a = np.array([1,3,0])\n",
        "b = np.logical_and(a>0, a<3)\n",
        "b"
      ],
      "execution_count": 106,
      "outputs": [
        {
          "output_type": "execute_result",
          "data": {
            "text/plain": [
              "array([ True, False, False])"
            ]
          },
          "metadata": {},
          "execution_count": 106
        }
      ]
    },
    {
      "cell_type": "code",
      "metadata": {
        "colab": {
          "base_uri": "https://localhost:8080/"
        },
        "id": "-SVD9ZxQyNaq",
        "outputId": "3da563c7-ac3a-498c-a2dd-6b69f4f735f4"
      },
      "source": [
        "c = np.logical_not(b)\n",
        "c"
      ],
      "execution_count": 108,
      "outputs": [
        {
          "output_type": "execute_result",
          "data": {
            "text/plain": [
              "array([False,  True,  True])"
            ]
          },
          "metadata": {},
          "execution_count": 108
        }
      ]
    },
    {
      "cell_type": "markdown",
      "metadata": {
        "id": "8aNAP7BfypbO"
      },
      "source": [
        "- argmax, argmin"
      ]
    },
    {
      "cell_type": "code",
      "metadata": {
        "colab": {
          "base_uri": "https://localhost:8080/"
        },
        "id": "0mJahSamyd5Y",
        "outputId": "0e104b58-e468-41e8-db03-f2b69a888ca6"
      },
      "source": [
        "a = np.array([1,2,4,5,8,78,23,3])\n",
        "np.argmax(a), np.argmin(a)"
      ],
      "execution_count": 109,
      "outputs": [
        {
          "output_type": "execute_result",
          "data": {
            "text/plain": [
              "(5, 0)"
            ]
          },
          "metadata": {},
          "execution_count": 109
        }
      ]
    },
    {
      "cell_type": "code",
      "metadata": {
        "colab": {
          "base_uri": "https://localhost:8080/"
        },
        "id": "fmczWRmOy5XM",
        "outputId": "63145629-fa19-4fe3-b635-369f4c207afd"
      },
      "source": [
        "a = np.array([[1,2,4,7],[9,88,6,45],[8,78,23,3]])\n",
        "a"
      ],
      "execution_count": 110,
      "outputs": [
        {
          "output_type": "execute_result",
          "data": {
            "text/plain": [
              "array([[ 1,  2,  4,  7],\n",
              "       [ 9, 88,  6, 45],\n",
              "       [ 8, 78, 23,  3]])"
            ]
          },
          "metadata": {},
          "execution_count": 110
        }
      ]
    },
    {
      "cell_type": "code",
      "metadata": {
        "colab": {
          "base_uri": "https://localhost:8080/"
        },
        "id": "iclp-XcSzCy0",
        "outputId": "36051a48-18f0-459e-9c1b-9c4e2cdd8147"
      },
      "source": [
        "np.argmax(a, axis=0)"
      ],
      "execution_count": 111,
      "outputs": [
        {
          "output_type": "execute_result",
          "data": {
            "text/plain": [
              "array([1, 1, 2, 1])"
            ]
          },
          "metadata": {},
          "execution_count": 111
        }
      ]
    },
    {
      "cell_type": "code",
      "metadata": {
        "colab": {
          "base_uri": "https://localhost:8080/"
        },
        "id": "4HqvT-wZzQ4r",
        "outputId": "9be6f558-85fd-42b6-f993-ef173b649f64"
      },
      "source": [
        "np.argmin(a, axis=1)"
      ],
      "execution_count": 112,
      "outputs": [
        {
          "output_type": "execute_result",
          "data": {
            "text/plain": [
              "array([0, 2, 3])"
            ]
          },
          "metadata": {},
          "execution_count": 112
        }
      ]
    },
    {
      "cell_type": "markdown",
      "metadata": {
        "id": "bokTXEh9zjFe"
      },
      "source": [
        "### 6) Boolean and fancy indexing"
      ]
    },
    {
      "cell_type": "markdown",
      "metadata": {
        "id": "RYfREIowzpDd"
      },
      "source": [
        "- boolean index"
      ]
    },
    {
      "cell_type": "code",
      "metadata": {
        "colab": {
          "base_uri": "https://localhost:8080/"
        },
        "id": "BB5H0K5tzX5F",
        "outputId": "b9d90577-c874-4498-8bb2-d8f1cc3a5fa4"
      },
      "source": [
        "a = np.arange(10)\n",
        "a > 5"
      ],
      "execution_count": 113,
      "outputs": [
        {
          "output_type": "execute_result",
          "data": {
            "text/plain": [
              "array([False, False, False, False, False, False,  True,  True,  True,\n",
              "        True])"
            ]
          },
          "metadata": {},
          "execution_count": 113
        }
      ]
    },
    {
      "cell_type": "code",
      "metadata": {
        "colab": {
          "base_uri": "https://localhost:8080/"
        },
        "id": "zNPCAvjfzytk",
        "outputId": "5dbf89f3-d588-4221-abfe-e86e2dea2fe7"
      },
      "source": [
        "# filtering\n",
        "a[a > 5]"
      ],
      "execution_count": 114,
      "outputs": [
        {
          "output_type": "execute_result",
          "data": {
            "text/plain": [
              "array([6, 7, 8, 9])"
            ]
          },
          "metadata": {},
          "execution_count": 114
        }
      ]
    },
    {
      "cell_type": "code",
      "metadata": {
        "colab": {
          "base_uri": "https://localhost:8080/"
        },
        "id": "6BmVACUMz5PF",
        "outputId": "05ca434e-66c1-4311-affe-7e14083cc378"
      },
      "source": [
        "np.random.seed(2021)\n",
        "b = np.random.normal(0,1,10)\n",
        "b"
      ],
      "execution_count": 115,
      "outputs": [
        {
          "output_type": "execute_result",
          "data": {
            "text/plain": [
              "array([ 1.48860905,  0.67601087, -0.41845137, -0.80652081,  0.55587583,\n",
              "       -0.70550429,  1.13085826,  0.64500184,  0.10641374,  0.42215483])"
            ]
          },
          "metadata": {},
          "execution_count": 115
        }
      ]
    },
    {
      "cell_type": "code",
      "metadata": {
        "colab": {
          "base_uri": "https://localhost:8080/"
        },
        "id": "nHb-UrYp0KVJ",
        "outputId": "d4d4bc3f-376f-42ba-e64f-ffbcdc8b6954"
      },
      "source": [
        "b[b>0]"
      ],
      "execution_count": 116,
      "outputs": [
        {
          "output_type": "execute_result",
          "data": {
            "text/plain": [
              "array([1.48860905, 0.67601087, 0.55587583, 1.13085826, 0.64500184,\n",
              "       0.10641374, 0.42215483])"
            ]
          },
          "metadata": {},
          "execution_count": 116
        }
      ]
    },
    {
      "cell_type": "markdown",
      "metadata": {
        "id": "58F9U7PG0XSw"
      },
      "source": [
        "- fancy index"
      ]
    },
    {
      "cell_type": "code",
      "metadata": {
        "colab": {
          "base_uri": "https://localhost:8080/"
        },
        "id": "-NgdmPtd0Nbg",
        "outputId": "40fedb03-12be-4b47-c5a5-b7af43bdb4ad"
      },
      "source": [
        "c = [1, 3, 4, 8]\n",
        "b[c]"
      ],
      "execution_count": 117,
      "outputs": [
        {
          "output_type": "execute_result",
          "data": {
            "text/plain": [
              "array([ 0.67601087, -0.80652081,  0.55587583,  0.10641374])"
            ]
          },
          "metadata": {},
          "execution_count": 117
        }
      ]
    },
    {
      "cell_type": "code",
      "metadata": {
        "colab": {
          "base_uri": "https://localhost:8080/"
        },
        "id": "7E6lYmu-0iSI",
        "outputId": "57159da2-5a4d-4d5e-9dda-b87360940d60"
      },
      "source": [
        "b.take(c)"
      ],
      "execution_count": 118,
      "outputs": [
        {
          "output_type": "execute_result",
          "data": {
            "text/plain": [
              "array([ 0.67601087, -0.80652081,  0.55587583,  0.10641374])"
            ]
          },
          "metadata": {},
          "execution_count": 118
        }
      ]
    },
    {
      "cell_type": "markdown",
      "metadata": {
        "id": "mN2amQCP09aG"
      },
      "source": [
        "### 7) 통계"
      ]
    },
    {
      "cell_type": "code",
      "metadata": {
        "colab": {
          "base_uri": "https://localhost:8080/"
        },
        "id": "oVl6qxK506be",
        "outputId": "a8919f37-9be1-424f-cbdc-0f21e679de21"
      },
      "source": [
        "b"
      ],
      "execution_count": 119,
      "outputs": [
        {
          "output_type": "execute_result",
          "data": {
            "text/plain": [
              "array([ 1.48860905,  0.67601087, -0.41845137, -0.80652081,  0.55587583,\n",
              "       -0.70550429,  1.13085826,  0.64500184,  0.10641374,  0.42215483])"
            ]
          },
          "metadata": {},
          "execution_count": 119
        }
      ]
    },
    {
      "cell_type": "code",
      "metadata": {
        "colab": {
          "base_uri": "https://localhost:8080/"
        },
        "id": "1TdRMiME1OBG",
        "outputId": "7c52281d-9916-46d5-b0f5-6f755287eb7d"
      },
      "source": [
        "b.mean()"
      ],
      "execution_count": 120,
      "outputs": [
        {
          "output_type": "execute_result",
          "data": {
            "text/plain": [
              "0.30944479572955147"
            ]
          },
          "metadata": {},
          "execution_count": 120
        }
      ]
    },
    {
      "cell_type": "code",
      "metadata": {
        "colab": {
          "base_uri": "https://localhost:8080/"
        },
        "id": "Riglszi11QNt",
        "outputId": "78b5cf90-b5c9-42bd-dc15-44abbe44cb20"
      },
      "source": [
        "b.var(), np.var(b)"
      ],
      "execution_count": 122,
      "outputs": [
        {
          "output_type": "execute_result",
          "data": {
            "text/plain": [
              "(0.5232104765430056, 0.5232104765430056)"
            ]
          },
          "metadata": {},
          "execution_count": 122
        }
      ]
    },
    {
      "cell_type": "code",
      "metadata": {
        "id": "G0fKmNSN1Zrt"
      },
      "source": [
        ""
      ],
      "execution_count": null,
      "outputs": []
    }
  ]
}