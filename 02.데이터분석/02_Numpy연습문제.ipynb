{
  "nbformat": 4,
  "nbformat_minor": 0,
  "metadata": {
    "colab": {
      "name": "02_Numpy연습문제.ipynb",
      "provenance": [],
      "collapsed_sections": []
    },
    "kernelspec": {
      "name": "python3",
      "display_name": "Python 3"
    },
    "language_info": {
      "name": "python"
    }
  },
  "cells": [
    {
      "cell_type": "markdown",
      "metadata": {
        "id": "AuFYkbcp5qXI"
      },
      "source": [
        "# Numpy 연습문제"
      ]
    },
    {
      "cell_type": "code",
      "metadata": {
        "id": "JOlP_o4w6Ow-"
      },
      "source": [
        "import numpy as np"
      ],
      "execution_count": 1,
      "outputs": []
    },
    {
      "cell_type": "markdown",
      "metadata": {
        "id": "cZDowHeG5v3n"
      },
      "source": [
        "### 1. 넘파이를 사용하여 다음과 같은 행렬을 만드시오.\n",
        "<pre>\n",
        "    10 20 30 40\n",
        "    50 60 70 80\n",
        "</pre>"
      ]
    },
    {
      "cell_type": "code",
      "metadata": {
        "colab": {
          "base_uri": "https://localhost:8080/"
        },
        "id": "wY9be3-J5t4n",
        "outputId": "c48f721e-b6cd-40b8-f747-d75cd7bb5095"
      },
      "source": [
        "np.arange(10, 81, 10).reshape(2,4)"
      ],
      "execution_count": 2,
      "outputs": [
        {
          "output_type": "execute_result",
          "data": {
            "text/plain": [
              "array([[10, 20, 30, 40],\n",
              "       [50, 60, 70, 80]])"
            ]
          },
          "metadata": {},
          "execution_count": 2
        }
      ]
    },
    {
      "cell_type": "code",
      "metadata": {
        "colab": {
          "base_uri": "https://localhost:8080/"
        },
        "id": "l5-z-BGeDNJd",
        "outputId": "58100a87-7c2d-4e8d-9ccc-b11a988b12a7"
      },
      "source": [
        "np.arange(1,9).reshape(2,4) * 10"
      ],
      "execution_count": 3,
      "outputs": [
        {
          "output_type": "execute_result",
          "data": {
            "text/plain": [
              "array([[10, 20, 30, 40],\n",
              "       [50, 60, 70, 80]])"
            ]
          },
          "metadata": {},
          "execution_count": 3
        }
      ]
    },
    {
      "cell_type": "markdown",
      "metadata": {
        "id": "NDj4UbKt57fy"
      },
      "source": [
        "### 2. 다음 행렬과 같은 행렬이 있다.\n",
        "<pre>\n",
        "m = np.array([[ 0,  1,  2,  3,  4],\n",
        "              [ 5,  6,  7,  8,  9],\n",
        "              [10, 11, 12, 13, 14]])\n",
        " </pre>"
      ]
    },
    {
      "cell_type": "code",
      "metadata": {
        "id": "iP6GtgGxDXlU"
      },
      "source": [
        "m = np.arange(15).reshape(3,5)"
      ],
      "execution_count": 4,
      "outputs": []
    },
    {
      "cell_type": "code",
      "metadata": {
        "colab": {
          "base_uri": "https://localhost:8080/"
        },
        "id": "4has8GyE6Q4f",
        "outputId": "034f7f5c-96b2-489e-8446-76e8d8176cd2"
      },
      "source": [
        "# 1) 이 행렬에서 값 7 을 인덱싱한다.\n",
        "m[1,2]"
      ],
      "execution_count": 5,
      "outputs": [
        {
          "output_type": "execute_result",
          "data": {
            "text/plain": [
              "7"
            ]
          },
          "metadata": {},
          "execution_count": 5
        }
      ]
    },
    {
      "cell_type": "code",
      "metadata": {
        "colab": {
          "base_uri": "https://localhost:8080/"
        },
        "id": "vrNOKwDh5k2W",
        "outputId": "e17f47a8-adbe-4235-f6c4-58e77ef83730"
      },
      "source": [
        "# 2) 이 행렬에서 값 14 을 인덱싱한다.\n",
        "m[2,4], m[-1,-1]"
      ],
      "execution_count": 7,
      "outputs": [
        {
          "output_type": "execute_result",
          "data": {
            "text/plain": [
              "(14, 14)"
            ]
          },
          "metadata": {},
          "execution_count": 7
        }
      ]
    },
    {
      "cell_type": "code",
      "metadata": {
        "colab": {
          "base_uri": "https://localhost:8080/"
        },
        "id": "RJs73Ggj6ahX",
        "outputId": "503c589f-0edd-4cb9-9517-074f5540eb17"
      },
      "source": [
        "# 3) 이 행렬에서 배열 [6, 7] 을 슬라이싱한다.\n",
        "m[1, 1:3]"
      ],
      "execution_count": 8,
      "outputs": [
        {
          "output_type": "execute_result",
          "data": {
            "text/plain": [
              "array([6, 7])"
            ]
          },
          "metadata": {},
          "execution_count": 8
        }
      ]
    },
    {
      "cell_type": "code",
      "metadata": {
        "colab": {
          "base_uri": "https://localhost:8080/"
        },
        "id": "72k9J0TD6fAf",
        "outputId": "368b8ce9-25e3-485d-cdf4-9450c9217746"
      },
      "source": [
        "# 4) 이 행렬에서 배열 [7, 12] 을 슬라이싱한다.\n",
        "m[1:, 2]"
      ],
      "execution_count": 9,
      "outputs": [
        {
          "output_type": "execute_result",
          "data": {
            "text/plain": [
              "array([ 7, 12])"
            ]
          },
          "metadata": {},
          "execution_count": 9
        }
      ]
    },
    {
      "cell_type": "code",
      "metadata": {
        "colab": {
          "base_uri": "https://localhost:8080/"
        },
        "id": "QfSLFjZb6e72",
        "outputId": "23351057-542a-4f13-9af1-66f8286b7a50"
      },
      "source": [
        "# 5) 이 행렬에서 배열 [[3, 4], [8, 9]] 을 슬라이싱한다.\n",
        "m[:2, 3:]"
      ],
      "execution_count": 10,
      "outputs": [
        {
          "output_type": "execute_result",
          "data": {
            "text/plain": [
              "array([[3, 4],\n",
              "       [8, 9]])"
            ]
          },
          "metadata": {},
          "execution_count": 10
        }
      ]
    },
    {
      "cell_type": "markdown",
      "metadata": {
        "id": "T-G01MGb6muw"
      },
      "source": [
        "### 3. 2번의 행렬 m을 1차원 벡터 f 로 변환한 후 다음의 문제를 푸시오."
      ]
    },
    {
      "cell_type": "code",
      "metadata": {
        "id": "rThDJBWGEAq5"
      },
      "source": [
        "f = m.flatten()"
      ],
      "execution_count": 11,
      "outputs": []
    },
    {
      "cell_type": "code",
      "metadata": {
        "colab": {
          "base_uri": "https://localhost:8080/"
        },
        "id": "ifs2FBDU6e4B",
        "outputId": "d22c911a-8c90-40e1-e4da-c634d922dbf0"
      },
      "source": [
        "# 1) 이 배열에서 3의 배수를 찾아라.\n",
        "f[f % 3 == 0]"
      ],
      "execution_count": 12,
      "outputs": [
        {
          "output_type": "execute_result",
          "data": {
            "text/plain": [
              "array([ 0,  3,  6,  9, 12])"
            ]
          },
          "metadata": {},
          "execution_count": 12
        }
      ]
    },
    {
      "cell_type": "code",
      "metadata": {
        "colab": {
          "base_uri": "https://localhost:8080/"
        },
        "id": "a8C2lqO46e0J",
        "outputId": "a2256a8b-1afe-4a6d-ca6a-166644ec7168"
      },
      "source": [
        "# 2) 이 배열에서 4로 나누면 1이 남는 수를 찾아라.\n",
        "f[f % 4 == 1]"
      ],
      "execution_count": 13,
      "outputs": [
        {
          "output_type": "execute_result",
          "data": {
            "text/plain": [
              "array([ 1,  5,  9, 13])"
            ]
          },
          "metadata": {},
          "execution_count": 13
        }
      ]
    },
    {
      "cell_type": "code",
      "metadata": {
        "colab": {
          "base_uri": "https://localhost:8080/"
        },
        "id": "_9cLT4ls6ewm",
        "outputId": "270e5dc0-7fba-4e53-ae19-cb39411a4118"
      },
      "source": [
        "# 3) 이 배열에서 3으로 나누면 나누어지고 4로 나누면 1이 남는 수를 찾아라.\n",
        "f[np.logical_and(f % 3 == 0, f % 4 == 1)]"
      ],
      "execution_count": 14,
      "outputs": [
        {
          "output_type": "execute_result",
          "data": {
            "text/plain": [
              "array([9])"
            ]
          },
          "metadata": {},
          "execution_count": 14
        }
      ]
    },
    {
      "cell_type": "markdown",
      "metadata": {
        "id": "zwvNZXdI67hG"
      },
      "source": [
        "### 4. 값을 직접 입력하지 말고 다음의 행렬을 만드시오.\n",
        "<pre>\n",
        "    2, 1, 0, 0, 0\n",
        "    3, 2, 1, 0, 0\n",
        "    0, 3, 2, 1, 0\n",
        "    0, 0, 3, 2, 1\n",
        "    0, 0, 0, 3, 2\n",
        "</pre>"
      ]
    },
    {
      "cell_type": "code",
      "metadata": {
        "colab": {
          "base_uri": "https://localhost:8080/"
        },
        "id": "z8m7ttFE67En",
        "outputId": "71749ac1-934d-4e03-b577-6ae12225befa"
      },
      "source": [
        "np.eye(M=5, N=5, k=-1, dtype=int)*3 + np.eye(5,5,dtype=int)*2 + np.eye(5,5,1,int)"
      ],
      "execution_count": 19,
      "outputs": [
        {
          "output_type": "execute_result",
          "data": {
            "text/plain": [
              "array([[2, 1, 0, 0, 0],\n",
              "       [3, 2, 1, 0, 0],\n",
              "       [0, 3, 2, 1, 0],\n",
              "       [0, 0, 3, 2, 1],\n",
              "       [0, 0, 0, 3, 2]])"
            ]
          },
          "metadata": {},
          "execution_count": 19
        }
      ]
    },
    {
      "cell_type": "markdown",
      "metadata": {
        "id": "Ujg4dojp7SoG"
      },
      "source": [
        "### 5. 0에서 10까지 랜덤 실수값으로 이루어진 5 x 6 형태의 데이터 행렬을 만들고 이 데이터에 대해 다음과 같은 값을 구하시오."
      ]
    },
    {
      "cell_type": "code",
      "metadata": {
        "colab": {
          "base_uri": "https://localhost:8080/"
        },
        "id": "3knl5qxCFT6c",
        "outputId": "2302e3b2-b905-4d1f-a02b-dcf238f1fff7"
      },
      "source": [
        "np.random.seed(2021)\n",
        "m = np.random.uniform(0, 10, 30).reshape(5,6).round(4)\n",
        "m"
      ],
      "execution_count": 22,
      "outputs": [
        {
          "output_type": "execute_result",
          "data": {
            "text/plain": [
              "array([[6.0598, 7.3337, 1.3895, 3.1267, 9.9724, 1.2816],\n",
              "       [1.7899, 7.5293, 6.6216, 7.8431, 0.9689, 0.5857],\n",
              "       [9.624 , 6.1656, 0.8663, 5.6127, 6.1652, 9.6384],\n",
              "       [5.743 , 3.7116, 4.5215, 2.0185, 5.6931, 1.951 ],\n",
              "       [5.837 , 4.7631, 5.1781, 8.231 , 7.3223, 0.6906]])"
            ]
          },
          "metadata": {},
          "execution_count": 22
        }
      ]
    },
    {
      "cell_type": "code",
      "metadata": {
        "colab": {
          "base_uri": "https://localhost:8080/"
        },
        "id": "BswYmOWe67An",
        "outputId": "5d317b27-4e74-40e5-aca7-2869ce9f9a6c"
      },
      "source": [
        "# 1) 전체의 최댓값\n",
        "m.max(), np.max(m)"
      ],
      "execution_count": 23,
      "outputs": [
        {
          "output_type": "execute_result",
          "data": {
            "text/plain": [
              "(9.9724, 9.9724)"
            ]
          },
          "metadata": {},
          "execution_count": 23
        }
      ]
    },
    {
      "cell_type": "code",
      "metadata": {
        "colab": {
          "base_uri": "https://localhost:8080/"
        },
        "id": "6snv9yTy7ZZD",
        "outputId": "93a7096d-3e1b-4cf8-c899-5526872ece78"
      },
      "source": [
        "# 2) 각 행의 합\n",
        "np.sum(m, axis=1)"
      ],
      "execution_count": 24,
      "outputs": [
        {
          "output_type": "execute_result",
          "data": {
            "text/plain": [
              "array([29.1637, 25.3385, 38.0722, 23.6387, 32.0221])"
            ]
          },
          "metadata": {},
          "execution_count": 24
        }
      ]
    },
    {
      "cell_type": "code",
      "metadata": {
        "colab": {
          "base_uri": "https://localhost:8080/"
        },
        "id": "hQwHHe8j7ZUu",
        "outputId": "8afd8aec-c315-4b1f-e208-f2ddc1da57fc"
      },
      "source": [
        "# 3) 각 행의 최댓값\n",
        "np.max(m, axis=1)"
      ],
      "execution_count": 25,
      "outputs": [
        {
          "output_type": "execute_result",
          "data": {
            "text/plain": [
              "array([9.9724, 7.8431, 9.6384, 5.743 , 8.231 ])"
            ]
          },
          "metadata": {},
          "execution_count": 25
        }
      ]
    },
    {
      "cell_type": "code",
      "metadata": {
        "colab": {
          "base_uri": "https://localhost:8080/"
        },
        "id": "mwEUaJCo7ZRW",
        "outputId": "ee46be8e-81a8-46c4-a31b-4b6666aa4fde"
      },
      "source": [
        "# 4) 각 열의 평균\n",
        "np.mean(m, axis=0)"
      ],
      "execution_count": 26,
      "outputs": [
        {
          "output_type": "execute_result",
          "data": {
            "text/plain": [
              "array([5.81074, 5.90066, 3.7154 , 5.3664 , 6.02438, 2.82946])"
            ]
          },
          "metadata": {},
          "execution_count": 26
        }
      ]
    },
    {
      "cell_type": "code",
      "metadata": {
        "colab": {
          "base_uri": "https://localhost:8080/"
        },
        "id": "2pFx2Pa37ZNm",
        "outputId": "1828ccf3-8009-4501-99f4-744cdb08de05"
      },
      "source": [
        "# 5) 각 열의 최솟값\n",
        "np.min(m, axis=0)"
      ],
      "execution_count": 27,
      "outputs": [
        {
          "output_type": "execute_result",
          "data": {
            "text/plain": [
              "array([1.7899, 3.7116, 0.8663, 2.0185, 0.9689, 0.5857])"
            ]
          },
          "metadata": {},
          "execution_count": 27
        }
      ]
    },
    {
      "cell_type": "markdown",
      "metadata": {
        "id": "3Aw8XuBu7n3u"
      },
      "source": [
        "### 6. 다음 배열은 첫번째 행(row)에 학번, 두번째 행에 영어 성적, 세번째 행에 수학 성적을 적은 배열이다. 영어 성적을 기준으로 각 열(column)을 재정렬하시오.\n",
        "<pre>\n",
        "array([[ 1,   2,   3,   4],\n",
        "       [ 46, 99, 100,  71],\n",
        "       [ 81, 59,  90, 100]])\n",
        "</pre>"
      ]
    },
    {
      "cell_type": "code",
      "metadata": {
        "colab": {
          "base_uri": "https://localhost:8080/"
        },
        "id": "LthJc3hu668-",
        "outputId": "d73be5c4-1d5b-47ec-a9dd-3a4d93d02be6"
      },
      "source": [
        "score = np.array([[ 1,   2,   3,   4],\n",
        "       [ 46, 99, 100,  71],\n",
        "       [ 81, 59,  90, 100]])\n",
        "np.sort(score, axis=1)"
      ],
      "execution_count": 28,
      "outputs": [
        {
          "output_type": "execute_result",
          "data": {
            "text/plain": [
              "array([[  1,   2,   3,   4],\n",
              "       [ 46,  71,  99, 100],\n",
              "       [ 59,  81,  90, 100]])"
            ]
          },
          "metadata": {},
          "execution_count": 28
        }
      ]
    },
    {
      "cell_type": "code",
      "metadata": {
        "colab": {
          "base_uri": "https://localhost:8080/"
        },
        "id": "Hsa821Ib6642",
        "outputId": "328bcd10-5c81-49d4-f26f-28ca23a25d7e"
      },
      "source": [
        "# 오름차순\n",
        "eng = np.argsort(score[1])\n",
        "eng"
      ],
      "execution_count": 29,
      "outputs": [
        {
          "output_type": "execute_result",
          "data": {
            "text/plain": [
              "array([0, 3, 1, 2])"
            ]
          },
          "metadata": {},
          "execution_count": 29
        }
      ]
    },
    {
      "cell_type": "code",
      "metadata": {
        "colab": {
          "base_uri": "https://localhost:8080/"
        },
        "id": "dary4DvM6esX",
        "outputId": "36210fac-f555-4f44-868f-db7a7e9b5eb1"
      },
      "source": [
        "# 내림차순\n",
        "s = eng[::-1]\n",
        "s"
      ],
      "execution_count": 30,
      "outputs": [
        {
          "output_type": "execute_result",
          "data": {
            "text/plain": [
              "array([2, 1, 3, 0])"
            ]
          },
          "metadata": {},
          "execution_count": 30
        }
      ]
    },
    {
      "cell_type": "code",
      "metadata": {
        "colab": {
          "base_uri": "https://localhost:8080/"
        },
        "id": "5qvAqVdTHqb0",
        "outputId": "11197286-157b-4735-f953-843e7b838862"
      },
      "source": [
        "score[:, s]"
      ],
      "execution_count": 31,
      "outputs": [
        {
          "output_type": "execute_result",
          "data": {
            "text/plain": [
              "array([[  3,   2,   4,   1],\n",
              "       [100,  99,  71,  46],\n",
              "       [ 90,  59, 100,  81]])"
            ]
          },
          "metadata": {},
          "execution_count": 31
        }
      ]
    },
    {
      "cell_type": "code",
      "metadata": {
        "colab": {
          "base_uri": "https://localhost:8080/"
        },
        "id": "uUVsC3eJH6KS",
        "outputId": "53818049-ab4b-409a-c4bd-fadc925d4007"
      },
      "source": [
        "# 한번에 수행\n",
        "score[:, np.argsort(score[1])[::-1]]"
      ],
      "execution_count": 32,
      "outputs": [
        {
          "output_type": "execute_result",
          "data": {
            "text/plain": [
              "array([[  3,   2,   4,   1],\n",
              "       [100,  99,  71,  46],\n",
              "       [ 90,  59, 100,  81]])"
            ]
          },
          "metadata": {},
          "execution_count": 32
        }
      ]
    },
    {
      "cell_type": "markdown",
      "metadata": {
        "id": "oaTJqnyU8FEW"
      },
      "source": [
        "### 7. 주사위를 100번 던지는 가상 실험을 파이썬으로 작성하고, 던져서 나오는 숫자의 평균을 구하시오.\n"
      ]
    },
    {
      "cell_type": "code",
      "metadata": {
        "colab": {
          "base_uri": "https://localhost:8080/"
        },
        "id": "0ZhTE9PT6eoa",
        "outputId": "4ab8a193-f5d7-4b92-ca99-b692f7e13509"
      },
      "source": [
        "np.random.seed(2021)\n",
        "dice = np.random.randint(1, 7, 100)\n",
        "dice"
      ],
      "execution_count": 33,
      "outputs": [
        {
          "output_type": "execute_result",
          "data": {
            "text/plain": [
              "array([5, 6, 2, 1, 6, 5, 4, 6, 6, 6, 1, 5, 2, 6, 2, 2, 5, 6, 3, 3, 1, 4,\n",
              "       2, 1, 3, 4, 5, 6, 1, 6, 2, 3, 6, 2, 6, 2, 3, 3, 5, 6, 3, 4, 2, 3,\n",
              "       3, 1, 3, 5, 6, 4, 4, 2, 2, 2, 3, 6, 4, 4, 5, 4, 2, 5, 2, 2, 5, 4,\n",
              "       6, 4, 4, 4, 3, 2, 4, 3, 6, 3, 3, 1, 5, 4, 2, 4, 2, 5, 3, 4, 2, 3,\n",
              "       6, 3, 6, 3, 4, 5, 6, 2, 2, 6, 1, 6])"
            ]
          },
          "metadata": {},
          "execution_count": 33
        }
      ]
    },
    {
      "cell_type": "code",
      "metadata": {
        "colab": {
          "base_uri": "https://localhost:8080/"
        },
        "id": "YzoMrVec8Vie",
        "outputId": "b3319fb2-c14e-486e-96ad-11b3117bc525"
      },
      "source": [
        "np.mean(dice)"
      ],
      "execution_count": 34,
      "outputs": [
        {
          "output_type": "execute_result",
          "data": {
            "text/plain": [
              "3.7"
            ]
          },
          "metadata": {},
          "execution_count": 34
        }
      ]
    },
    {
      "cell_type": "markdown",
      "metadata": {
        "id": "kQMgkX4n8JlG"
      },
      "source": [
        "### 8. 가격이 10,000원인 주식이 있다. 이 주식의 일간 수익률(%)은 기댓값이 0%이고 표준편차가 1%인 표준 정규 분포를 따른다고 하자. 250일 동안의 주가를 무작위로 생성하시오."
      ]
    },
    {
      "cell_type": "code",
      "metadata": {
        "id": "7PmPXZHt6ehe"
      },
      "source": [
        "np.random.seed(2021)\n",
        "price = 10000\n",
        "rate = np.random.normal(0, 1, 250)"
      ],
      "execution_count": 35,
      "outputs": []
    },
    {
      "cell_type": "code",
      "metadata": {
        "id": "yIWi165SJP2M"
      },
      "source": [
        "price_list = []\n",
        "price_array = np.empty(250)\n",
        "for i in range(250):\n",
        "    price += np.round(price * rate[i] * 0.01)\n",
        "    price_list.append(price)\n",
        "    price_array[i] = price"
      ],
      "execution_count": 36,
      "outputs": []
    },
    {
      "cell_type": "code",
      "metadata": {
        "colab": {
          "base_uri": "https://localhost:8080/"
        },
        "id": "fAhONL7AJzoI",
        "outputId": "32b1c705-f5f1-4c23-8bf3-38784dc00bbc"
      },
      "source": [
        "print(price_array[:5], price_list[:5])\n",
        "print(price_array[-5:], price_list[-5:])"
      ],
      "execution_count": 37,
      "outputs": [
        {
          "output_type": "stream",
          "name": "stdout",
          "text": [
            "[10149. 10218. 10175. 10093. 10149.] [10149.0, 10218.0, 10175.0, 10093.0, 10149.0]\n",
            "[12262. 12136. 12010. 11984. 12113.] [12262.0, 12136.0, 12010.0, 11984.0, 12113.0]\n"
          ]
        }
      ]
    },
    {
      "cell_type": "code",
      "metadata": {
        "id": "OXApS14gKDD2"
      },
      "source": [
        ""
      ],
      "execution_count": null,
      "outputs": []
    }
  ]
}