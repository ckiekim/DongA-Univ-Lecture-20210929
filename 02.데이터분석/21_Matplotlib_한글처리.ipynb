{
  "nbformat": 4,
  "nbformat_minor": 0,
  "metadata": {
    "colab": {
      "name": "21_Matplotlib_한글처리.ipynb",
      "provenance": [],
      "collapsed_sections": []
    },
    "kernelspec": {
      "name": "python3",
      "display_name": "Python 3"
    },
    "language_info": {
      "name": "python"
    }
  },
  "cells": [
    {
      "cell_type": "markdown",
      "metadata": {
        "id": "mCuptyESfxsG"
      },
      "source": [
        "# 데이터 시각화 - Matplotlib"
      ]
    },
    {
      "cell_type": "code",
      "metadata": {
        "id": "_syRQ4Vdf2rd"
      },
      "source": [
        "import numpy as np\n",
        "import pandas as pd\n",
        "import matplotlib.pyplot as plt"
      ],
      "execution_count": 1,
      "outputs": []
    },
    {
      "cell_type": "code",
      "metadata": {
        "id": "q8hmMchpb49N"
      },
      "source": [
        "# Jupyter notebook 구 버전\n",
        "%matplotlib inline"
      ],
      "execution_count": 2,
      "outputs": []
    },
    {
      "cell_type": "markdown",
      "metadata": {
        "id": "ceh0iCTJgWl1"
      },
      "source": [
        "### 1. Sample Graph 그려보기"
      ]
    },
    {
      "cell_type": "code",
      "metadata": {
        "colab": {
          "base_uri": "https://localhost:8080/",
          "height": 281
        },
        "id": "MZ9p8SkDgPV8",
        "outputId": "f8883616-106f-4ed2-b840-1f05b8fe3fad"
      },
      "source": [
        "plt.title('Plot')\n",
        "plt.plot([1,4,9,16])        # y data, y = (x+1) ** 2\n",
        "plt.plot([2,4,6,8])         # y = 2 * (x+1)\n",
        "plt.grid()\n",
        "plt.show()"
      ],
      "execution_count": 4,
      "outputs": [
        {
          "output_type": "display_data",
          "data": {
            "image/png": "[encoded data removed]",
            "text/plain": [
              "<Figure size 432x288 with 1 Axes>"
            ]
          },
          "metadata": {
            "needs_background": "light"
          }
        }
      ]
    },
    {
      "cell_type": "markdown",
      "metadata": {
        "id": "wfHNsyP3iXoR"
      },
      "source": [
        "### 2. 한글 처리"
      ]
    },
    {
      "cell_type": "code",
      "metadata": {
        "id": "_OEtoky_iTsG"
      },
      "source": [
        "!apt-get install -y fonts-nanum > /dev/null\n",
        "!fc-cache -fv > /dev/null\n",
        "!rm -rf ~/.cache/matplotlib > /dev/null"
      ],
      "execution_count": 6,
      "outputs": []
    },
    {
      "cell_type": "markdown",
      "metadata": {
        "id": "MbhxoYJYi-wI"
      },
      "source": [
        "- 런타임 다시 시작"
      ]
    },
    {
      "cell_type": "code",
      "metadata": {
        "id": "q94SLbitioMW"
      },
      "source": [
        "import matplotlib as mpl\n",
        "import matplotlib.pyplot as plt\n",
        "mpl.rcParams['axes.unicode_minus'] = False\n",
        "plt.rc('font', family='NanumBarunGothic')"
      ],
      "execution_count": 1,
      "outputs": []
    },
    {
      "cell_type": "code",
      "metadata": {
        "colab": {
          "base_uri": "https://localhost:8080/",
          "height": 280
        },
        "id": "6VjW2ec8jGpY",
        "outputId": "517a1df6-6442-4d46-e6db-9a15dc94a6eb"
      },
      "source": [
        "plt.title(\"X ticks를 사용한 플롯\")\n",
        "plt.plot([10, 20, 30, 40], [1, 4, 9, 16])\n",
        "plt.grid()\n",
        "plt.show()"
      ],
      "execution_count": 2,
      "outputs": [
        {
          "output_type": "display_data",
          "data": {
            "image/png": "[encoded data removed]",
            "text/plain": [
              "<Figure size 432x288 with 1 Axes>"
            ]
          },
          "metadata": {
            "needs_background": "light"
          }
        }
      ]
    },
    {
      "cell_type": "code",
      "metadata": {
        "id": "fdIYsKjrjKGd"
      },
      "source": [
        ""
      ],
      "execution_count": null,
      "outputs": []
    }
  ]
}