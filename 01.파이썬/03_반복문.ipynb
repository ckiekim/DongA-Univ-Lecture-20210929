{
  "nbformat": 4,
  "nbformat_minor": 0,
  "metadata": {
    "colab": {
      "name": "03_반복문.ipynb",
      "provenance": [],
      "collapsed_sections": []
    },
    "kernelspec": {
      "name": "python3",
      "display_name": "Python 3"
    },
    "language_info": {
      "name": "python"
    }
  },
  "cells": [
    {
      "cell_type": "markdown",
      "metadata": {
        "id": "4u17olh971UY"
      },
      "source": [
        "# 3. 반복문"
      ]
    },
    {
      "cell_type": "markdown",
      "metadata": {
        "id": "9wL7G1LqBbZd"
      },
      "source": [
        "### for 반복문"
      ]
    },
    {
      "cell_type": "code",
      "metadata": {
        "colab": {
          "base_uri": "https://localhost:8080/"
        },
        "id": "t8df9iby7xNa",
        "outputId": "64672f57-30d7-4b6a-a533-acafe6f53ddf"
      },
      "source": [
        "sum_of_number = 0\n",
        "for i in range(1,11):   # 시작값, 끝값+1\n",
        "    sum_of_number += i\n",
        "sum_of_number"
      ],
      "execution_count": 1,
      "outputs": [
        {
          "output_type": "execute_result",
          "data": {
            "text/plain": [
              "55"
            ]
          },
          "metadata": {},
          "execution_count": 1
        }
      ]
    },
    {
      "cell_type": "code",
      "metadata": {
        "colab": {
          "base_uri": "https://localhost:8080/"
        },
        "id": "6C4NKr-q8ryn",
        "outputId": "705687c3-7266-4c6c-f577-9ff7fe18e4f6"
      },
      "source": [
        "for i in range(10):\n",
        "    print(i)"
      ],
      "execution_count": 2,
      "outputs": [
        {
          "output_type": "stream",
          "name": "stdout",
          "text": [
            "0\n",
            "1\n",
            "2\n",
            "3\n",
            "4\n",
            "5\n",
            "6\n",
            "7\n",
            "8\n",
            "9\n"
          ]
        }
      ]
    },
    {
      "cell_type": "code",
      "metadata": {
        "colab": {
          "base_uri": "https://localhost:8080/"
        },
        "id": "wLNk3wK79IU2",
        "outputId": "843e7651-49c3-4003-894d-bbed4257a431"
      },
      "source": [
        "# sum() 이라는 내장 함수가 있음\n",
        "sum(list(range(1,11)))"
      ],
      "execution_count": 3,
      "outputs": [
        {
          "output_type": "execute_result",
          "data": {
            "text/plain": [
              "55"
            ]
          },
          "metadata": {},
          "execution_count": 3
        }
      ]
    },
    {
      "cell_type": "code",
      "metadata": {
        "colab": {
          "base_uri": "https://localhost:8080/"
        },
        "id": "6aH1TVqD9WB8",
        "outputId": "8580f91c-ef4b-4217-91f6-3f013ac42d18"
      },
      "source": [
        "for i in range(1, 10, 2):\n",
        "    print(i)"
      ],
      "execution_count": 4,
      "outputs": [
        {
          "output_type": "stream",
          "name": "stdout",
          "text": [
            "1\n",
            "3\n",
            "5\n",
            "7\n",
            "9\n"
          ]
        }
      ]
    },
    {
      "cell_type": "code",
      "metadata": {
        "colab": {
          "base_uri": "https://localhost:8080/"
        },
        "id": "lygNxGsF-Cw5",
        "outputId": "ca8429e1-83ff-4383-bc54-d98602c99f11"
      },
      "source": [
        "for i in range(10, 1, -2):\n",
        "    print(i)"
      ],
      "execution_count": 5,
      "outputs": [
        {
          "output_type": "stream",
          "name": "stdout",
          "text": [
            "10\n",
            "8\n",
            "6\n",
            "4\n",
            "2\n"
          ]
        }
      ]
    },
    {
      "cell_type": "code",
      "metadata": {
        "colab": {
          "base_uri": "https://localhost:8080/"
        },
        "id": "b0iwR64t-PTt",
        "outputId": "829a511c-42e1-4a40-c18d-9a6492d3020a"
      },
      "source": [
        "product = 1\n",
        "for i in range(1,11):\n",
        "    product *= i\n",
        "print(product)"
      ],
      "execution_count": 7,
      "outputs": [
        {
          "output_type": "stream",
          "name": "stdout",
          "text": [
            "3628800\n"
          ]
        }
      ]
    },
    {
      "cell_type": "code",
      "metadata": {
        "colab": {
          "base_uri": "https://localhost:8080/"
        },
        "id": "PWY-r_9A-3eW",
        "outputId": "65ee89fa-2abd-46d1-83b5-762bd45d5e39"
      },
      "source": [
        "for fruit in ['apple','banana','cherry']:\n",
        "    print(fruit)"
      ],
      "execution_count": 8,
      "outputs": [
        {
          "output_type": "stream",
          "name": "stdout",
          "text": [
            "apple\n",
            "banana\n",
            "cherry\n"
          ]
        }
      ]
    },
    {
      "cell_type": "code",
      "metadata": {
        "colab": {
          "base_uri": "https://localhost:8080/"
        },
        "id": "BfUP29Qr_SVz",
        "outputId": "b47de4c6-a04f-40a0-dd95-624171a8b419"
      },
      "source": [
        "for c in 'alphabet':\n",
        "    print(c)"
      ],
      "execution_count": 9,
      "outputs": [
        {
          "output_type": "stream",
          "name": "stdout",
          "text": [
            "a\n",
            "l\n",
            "p\n",
            "h\n",
            "a\n",
            "b\n",
            "e\n",
            "t\n"
          ]
        }
      ]
    },
    {
      "cell_type": "markdown",
      "metadata": {
        "id": "C8x-S1_j_ufF"
      },
      "source": [
        "### 반복문에서 사용 가능한 객체 - Sequence 객체\n",
        "- range()\n",
        "- 문자열\n",
        "- 리스트\n",
        "- 튜플"
      ]
    },
    {
      "cell_type": "code",
      "metadata": {
        "colab": {
          "base_uri": "https://localhost:8080/"
        },
        "id": "kkfchAAP_ezf",
        "outputId": "79443437-6ec6-4b07-c88f-e66d79d7630c"
      },
      "source": [
        "d = {'name':'홍길동', 'age':30, '성별':'남'}\n",
        "for item in d.keys():       # d는 d.keys()를 의미\n",
        "    print(item)"
      ],
      "execution_count": 11,
      "outputs": [
        {
          "output_type": "stream",
          "name": "stdout",
          "text": [
            "name\n",
            "age\n",
            "성별\n"
          ]
        }
      ]
    },
    {
      "cell_type": "code",
      "metadata": {
        "colab": {
          "base_uri": "https://localhost:8080/"
        },
        "id": "7YR20gchAyBn",
        "outputId": "1d673cb9-0574-47b6-bbc5-2ae8ec76862d"
      },
      "source": [
        "for key, value in d.items():\n",
        "    print(key, value)"
      ],
      "execution_count": 12,
      "outputs": [
        {
          "output_type": "stream",
          "name": "stdout",
          "text": [
            "name 홍길동\n",
            "age 30\n",
            "성별 남\n"
          ]
        }
      ]
    },
    {
      "cell_type": "markdown",
      "metadata": {
        "id": "VssDWiMxBX2w"
      },
      "source": [
        "### while 반복문"
      ]
    },
    {
      "cell_type": "code",
      "metadata": {
        "colab": {
          "base_uri": "https://localhost:8080/"
        },
        "id": "UJzIwAYWBDi8",
        "outputId": "e1a405aa-168e-47b0-c81c-0b109fb44d8f"
      },
      "source": [
        "sum_of_num = 0\n",
        "i = 1\n",
        "while i <= 10:\n",
        "    sum_of_num += i\n",
        "    i = i + 1\n",
        "print(sum_of_num)"
      ],
      "execution_count": 14,
      "outputs": [
        {
          "output_type": "stream",
          "name": "stdout",
          "text": [
            "55\n"
          ]
        }
      ]
    },
    {
      "cell_type": "code",
      "metadata": {
        "colab": {
          "base_uri": "https://localhost:8080/"
        },
        "id": "WisgPWDJCAUb",
        "outputId": "045c9e1f-b604-4b73-ba74-fafb994e477e"
      },
      "source": [
        "sum_of_num = 0\n",
        "i = 1\n",
        "while True:\n",
        "    sum_of_num += i\n",
        "    i += 1\n",
        "    if i > 10:\n",
        "        break\n",
        "print(sum_of_num)"
      ],
      "execution_count": 16,
      "outputs": [
        {
          "output_type": "stream",
          "name": "stdout",
          "text": [
            "55\n"
          ]
        }
      ]
    },
    {
      "cell_type": "markdown",
      "metadata": {
        "id": "j8GNRuMeDMe1"
      },
      "source": [
        "### 중첩(Nested) 반복문"
      ]
    },
    {
      "cell_type": "code",
      "metadata": {
        "colab": {
          "base_uri": "https://localhost:8080/"
        },
        "id": "vHnE_UrQCen7",
        "outputId": "215b0cf8-c930-4e77-bc35-479bf1df68e8"
      },
      "source": [
        "# 구구단\n",
        "print('='*30)\n",
        "for i in range(2, 10):\n",
        "    for k in range(1, 10):\n",
        "        print(f'{i} * {k} = {i*k}')\n",
        "    print('='*30)"
      ],
      "execution_count": 18,
      "outputs": [
        {
          "output_type": "stream",
          "name": "stdout",
          "text": [
            "==============================\n",
            "2 * 1 = 2\n",
            "2 * 2 = 4\n",
            "2 * 3 = 6\n",
            "2 * 4 = 8\n",
            "2 * 5 = 10\n",
            "2 * 6 = 12\n",
            "2 * 7 = 14\n",
            "2 * 8 = 16\n",
            "2 * 9 = 18\n",
            "==============================\n",
            "3 * 1 = 3\n",
            "3 * 2 = 6\n",
            "3 * 3 = 9\n",
            "3 * 4 = 12\n",
            "3 * 5 = 15\n",
            "3 * 6 = 18\n",
            "3 * 7 = 21\n",
            "3 * 8 = 24\n",
            "3 * 9 = 27\n",
            "==============================\n",
            "4 * 1 = 4\n",
            "4 * 2 = 8\n",
            "4 * 3 = 12\n",
            "4 * 4 = 16\n",
            "4 * 5 = 20\n",
            "4 * 6 = 24\n",
            "4 * 7 = 28\n",
            "4 * 8 = 32\n",
            "4 * 9 = 36\n",
            "==============================\n",
            "5 * 1 = 5\n",
            "5 * 2 = 10\n",
            "5 * 3 = 15\n",
            "5 * 4 = 20\n",
            "5 * 5 = 25\n",
            "5 * 6 = 30\n",
            "5 * 7 = 35\n",
            "5 * 8 = 40\n",
            "5 * 9 = 45\n",
            "==============================\n",
            "6 * 1 = 6\n",
            "6 * 2 = 12\n",
            "6 * 3 = 18\n",
            "6 * 4 = 24\n",
            "6 * 5 = 30\n",
            "6 * 6 = 36\n",
            "6 * 7 = 42\n",
            "6 * 8 = 48\n",
            "6 * 9 = 54\n",
            "==============================\n",
            "7 * 1 = 7\n",
            "7 * 2 = 14\n",
            "7 * 3 = 21\n",
            "7 * 4 = 28\n",
            "7 * 5 = 35\n",
            "7 * 6 = 42\n",
            "7 * 7 = 49\n",
            "7 * 8 = 56\n",
            "7 * 9 = 63\n",
            "==============================\n",
            "8 * 1 = 8\n",
            "8 * 2 = 16\n",
            "8 * 3 = 24\n",
            "8 * 4 = 32\n",
            "8 * 5 = 40\n",
            "8 * 6 = 48\n",
            "8 * 7 = 56\n",
            "8 * 8 = 64\n",
            "8 * 9 = 72\n",
            "==============================\n",
            "9 * 1 = 9\n",
            "9 * 2 = 18\n",
            "9 * 3 = 27\n",
            "9 * 4 = 36\n",
            "9 * 5 = 45\n",
            "9 * 6 = 54\n",
            "9 * 7 = 63\n",
            "9 * 8 = 72\n",
            "9 * 9 = 81\n",
            "==============================\n"
          ]
        }
      ]
    },
    {
      "cell_type": "code",
      "metadata": {
        "colab": {
          "base_uri": "https://localhost:8080/"
        },
        "id": "sH3DzaQmD77-",
        "outputId": "15a48eb8-966a-440c-cd04-674b2ab8eb08"
      },
      "source": [
        "# 별모양 그리기\n",
        "for i in range(1, 6):\n",
        "    for k in range(i):\n",
        "        print('*', end='')\n",
        "    print()"
      ],
      "execution_count": 19,
      "outputs": [
        {
          "output_type": "stream",
          "name": "stdout",
          "text": [
            "*\n",
            "**\n",
            "***\n",
            "****\n",
            "*****\n"
          ]
        }
      ]
    },
    {
      "cell_type": "code",
      "metadata": {
        "colab": {
          "base_uri": "https://localhost:8080/"
        },
        "id": "5Tk8HJpNFoeL",
        "outputId": "3feb0f8a-abfe-41aa-b24f-f22fc6d15171"
      },
      "source": [
        "for i in range(5):\n",
        "    for k in range(i+1):\n",
        "        print('*', end='')\n",
        "    print()"
      ],
      "execution_count": 20,
      "outputs": [
        {
          "output_type": "stream",
          "name": "stdout",
          "text": [
            "*\n",
            "**\n",
            "***\n",
            "****\n",
            "*****\n"
          ]
        }
      ]
    },
    {
      "cell_type": "code",
      "metadata": {
        "colab": {
          "base_uri": "https://localhost:8080/"
        },
        "id": "udAbtgoBFwsx",
        "outputId": "6ce1af59-40d2-4571-a5a3-359af9c04207"
      },
      "source": [
        "for i in range(5,0,-1):\n",
        "    for k in range(i):\n",
        "        print('*', end='')\n",
        "    print()"
      ],
      "execution_count": 21,
      "outputs": [
        {
          "output_type": "stream",
          "name": "stdout",
          "text": [
            "*****\n",
            "****\n",
            "***\n",
            "**\n",
            "*\n"
          ]
        }
      ]
    },
    {
      "cell_type": "code",
      "metadata": {
        "colab": {
          "base_uri": "https://localhost:8080/"
        },
        "id": "ZIeXB03qKqZ0",
        "outputId": "c70ba301-c592-4007-e9e7-6a7975baf1d4"
      },
      "source": [
        "for i in range(5):\n",
        "    for k in range(5-i):\n",
        "        print('*', end='')\n",
        "    print()"
      ],
      "execution_count": 22,
      "outputs": [
        {
          "output_type": "stream",
          "name": "stdout",
          "text": [
            "*****\n",
            "****\n",
            "***\n",
            "**\n",
            "*\n"
          ]
        }
      ]
    },
    {
      "cell_type": "markdown",
      "metadata": {
        "id": "wFum5ZO5NniU"
      },
      "source": [
        "### 피타고라스 수"
      ]
    },
    {
      "cell_type": "code",
      "metadata": {
        "colab": {
          "base_uri": "https://localhost:8080/"
        },
        "id": "BkZFD5rsK3C0",
        "outputId": "33201c49-f2bf-43cb-dd6c-1a0193a8e864"
      },
      "source": [
        "for a in range(1,333):\n",
        "    for b in range(a+1,500):\n",
        "        c = 1000 - a - b\n",
        "        if c**2 == a**2 + b**2:\n",
        "            print(a, b, c, sep=', ')\n",
        "            break"
      ],
      "execution_count": 24,
      "outputs": [
        {
          "output_type": "stream",
          "name": "stdout",
          "text": [
            "200, 375, 425\n"
          ]
        }
      ]
    },
    {
      "cell_type": "code",
      "metadata": {
        "id": "cD-Xdv0jOEBJ"
      },
      "source": [
        ""
      ],
      "execution_count": null,
      "outputs": []
    }
  ]
}