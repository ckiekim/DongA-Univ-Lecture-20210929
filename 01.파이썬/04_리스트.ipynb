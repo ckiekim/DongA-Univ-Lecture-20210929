{
  "nbformat": 4,
  "nbformat_minor": 0,
  "metadata": {
    "colab": {
      "name": "04_리스트.ipynb",
      "provenance": [],
      "collapsed_sections": []
    },
    "kernelspec": {
      "name": "python3",
      "display_name": "Python 3"
    },
    "language_info": {
      "name": "python"
    }
  },
  "cells": [
    {
      "cell_type": "markdown",
      "metadata": {
        "id": "Aj1zmwgkPfWF"
      },
      "source": [
        "# 4. 리스트"
      ]
    },
    {
      "cell_type": "code",
      "metadata": {
        "colab": {
          "base_uri": "https://localhost:8080/"
        },
        "id": "Ip5wr5aEPa_0",
        "outputId": "d624bdb4-4308-4db6-8681-196d86dd437c"
      },
      "source": [
        "fruits = ['사과', '오렌지', '딸기', '포도', '감', '키위', '멜론', '수박']\n",
        "fruits"
      ],
      "execution_count": 1,
      "outputs": [
        {
          "output_type": "execute_result",
          "data": {
            "text/plain": [
              "['사과', '오렌지', '딸기', '포도', '감', '키위', '멜론', '수박']"
            ]
          },
          "metadata": {},
          "execution_count": 1
        }
      ]
    },
    {
      "cell_type": "code",
      "metadata": {
        "id": "tJlmJNX2QH1S"
      },
      "source": [
        "# 빈 리스트\n",
        "empty_list = []\n",
        "empty_list = list()"
      ],
      "execution_count": 2,
      "outputs": []
    },
    {
      "cell_type": "code",
      "metadata": {
        "colab": {
          "base_uri": "https://localhost:8080/"
        },
        "id": "U8CFo-uGQUxv",
        "outputId": "3333bedb-960c-4291-b661-da60bdd33fe7"
      },
      "source": [
        "person = ['james', 17, 175.3, True]\n",
        "person"
      ],
      "execution_count": 3,
      "outputs": [
        {
          "output_type": "execute_result",
          "data": {
            "text/plain": [
              "['james', 17, 175.3, True]"
            ]
          },
          "metadata": {},
          "execution_count": 3
        }
      ]
    },
    {
      "cell_type": "markdown",
      "metadata": {
        "id": "6V5tT3b0QnSm"
      },
      "source": [
        "### 인덱싱, 슬라이싱"
      ]
    },
    {
      "cell_type": "code",
      "metadata": {
        "colab": {
          "base_uri": "https://localhost:8080/"
        },
        "id": "m652-FBPQhdz",
        "outputId": "67c3caea-b75c-429c-c46f-2684561f3815"
      },
      "source": [
        "fruits[0], fruits[7]"
      ],
      "execution_count": 4,
      "outputs": [
        {
          "output_type": "execute_result",
          "data": {
            "text/plain": [
              "('사과', '수박')"
            ]
          },
          "metadata": {},
          "execution_count": 4
        }
      ]
    },
    {
      "cell_type": "code",
      "metadata": {
        "colab": {
          "base_uri": "https://localhost:8080/"
        },
        "id": "0VxhBPvtRN-N",
        "outputId": "b3858318-f041-4e71-905b-a50ab387406f"
      },
      "source": [
        "len(fruits)"
      ],
      "execution_count": 5,
      "outputs": [
        {
          "output_type": "execute_result",
          "data": {
            "text/plain": [
              "8"
            ]
          },
          "metadata": {},
          "execution_count": 5
        }
      ]
    },
    {
      "cell_type": "code",
      "metadata": {
        "colab": {
          "base_uri": "https://localhost:8080/"
        },
        "id": "FhE8uIusRYJs",
        "outputId": "71b671ec-c1cc-4a87-9358-0da8836f9078"
      },
      "source": [
        "fruits[len(fruits)-1], fruits[-1]"
      ],
      "execution_count": 6,
      "outputs": [
        {
          "output_type": "execute_result",
          "data": {
            "text/plain": [
              "('수박', '수박')"
            ]
          },
          "metadata": {},
          "execution_count": 6
        }
      ]
    },
    {
      "cell_type": "code",
      "metadata": {
        "colab": {
          "base_uri": "https://localhost:8080/",
          "height": 35
        },
        "id": "aQxfBbgARivh",
        "outputId": "a5087024-c6f4-4f64-97f4-0e66c334c531"
      },
      "source": [
        "fruits[-8]"
      ],
      "execution_count": 7,
      "outputs": [
        {
          "output_type": "execute_result",
          "data": {
            "application/vnd.google.colaboratory.intrinsic+json": {
              "type": "string"
            },
            "text/plain": [
              "'사과'"
            ]
          },
          "metadata": {},
          "execution_count": 7
        }
      ]
    },
    {
      "cell_type": "code",
      "metadata": {
        "colab": {
          "base_uri": "https://localhost:8080/"
        },
        "id": "le1Vqww_Ro60",
        "outputId": "4514f0c2-52f6-4c7a-9f89-d8caf5f5208c"
      },
      "source": [
        "fruits[0:3]     # 슬라이싱, index 0 부터 index 3 - 1 까지"
      ],
      "execution_count": 8,
      "outputs": [
        {
          "output_type": "execute_result",
          "data": {
            "text/plain": [
              "['사과', '오렌지', '딸기']"
            ]
          },
          "metadata": {},
          "execution_count": 8
        }
      ]
    },
    {
      "cell_type": "code",
      "metadata": {
        "colab": {
          "base_uri": "https://localhost:8080/"
        },
        "id": "SZwKG-1RR7FZ",
        "outputId": "4442694d-1c23-4aa6-928e-7a20bddefcef"
      },
      "source": [
        "fruits[0:8:2]"
      ],
      "execution_count": 9,
      "outputs": [
        {
          "output_type": "execute_result",
          "data": {
            "text/plain": [
              "['사과', '딸기', '감', '멜론']"
            ]
          },
          "metadata": {},
          "execution_count": 9
        }
      ]
    },
    {
      "cell_type": "code",
      "metadata": {
        "colab": {
          "base_uri": "https://localhost:8080/"
        },
        "id": "eYAGmsTZSYea",
        "outputId": "a8fbc7ac-1855-43af-9a02-87b8e6bf4815"
      },
      "source": [
        "fruits[:3]      # 숫자가 생략되면 처음과 끝을 의미"
      ],
      "execution_count": 10,
      "outputs": [
        {
          "output_type": "execute_result",
          "data": {
            "text/plain": [
              "['사과', '오렌지', '딸기']"
            ]
          },
          "metadata": {},
          "execution_count": 10
        }
      ]
    },
    {
      "cell_type": "code",
      "metadata": {
        "colab": {
          "base_uri": "https://localhost:8080/"
        },
        "id": "2qQao1ddSkS2",
        "outputId": "73561d34-dc51-45a9-e796-dd0b6f55eb58"
      },
      "source": [
        "fruits[::2]"
      ],
      "execution_count": 11,
      "outputs": [
        {
          "output_type": "execute_result",
          "data": {
            "text/plain": [
              "['사과', '딸기', '감', '멜론']"
            ]
          },
          "metadata": {},
          "execution_count": 11
        }
      ]
    },
    {
      "cell_type": "code",
      "metadata": {
        "colab": {
          "base_uri": "https://localhost:8080/"
        },
        "id": "TaTU1zH5Snoq",
        "outputId": "d861031d-64ae-4eca-ac16-08bcf9475d10"
      },
      "source": [
        "fruits[::-1]"
      ],
      "execution_count": 12,
      "outputs": [
        {
          "output_type": "execute_result",
          "data": {
            "text/plain": [
              "['수박', '멜론', '키위', '감', '포도', '딸기', '오렌지', '사과']"
            ]
          },
          "metadata": {},
          "execution_count": 12
        }
      ]
    },
    {
      "cell_type": "code",
      "metadata": {
        "colab": {
          "base_uri": "https://localhost:8080/"
        },
        "id": "kY6gt0PFS2Kl",
        "outputId": "11b3920f-2cf4-4b06-b475-e6220be887e0"
      },
      "source": [
        "nested_list = [\n",
        "    [1, 2, 3, 4],\n",
        "    [5, 6, 7, 8],\n",
        "    [9,10,11,12]\n",
        "]\n",
        "nested_list[1][1]       # 중첩 리스트 인덱싱"
      ],
      "execution_count": 13,
      "outputs": [
        {
          "output_type": "execute_result",
          "data": {
            "text/plain": [
              "6"
            ]
          },
          "metadata": {},
          "execution_count": 13
        }
      ]
    },
    {
      "cell_type": "markdown",
      "metadata": {
        "id": "DoXxT0_qW268"
      },
      "source": [
        "### 요소 추가"
      ]
    },
    {
      "cell_type": "code",
      "metadata": {
        "colab": {
          "base_uri": "https://localhost:8080/"
        },
        "id": "_NjxBQdMTXgU",
        "outputId": "2be9b2fd-693a-41f4-847a-78862bb70d43"
      },
      "source": [
        "a = ['red','green','blue']\n",
        "a.append('yellow')\n",
        "a"
      ],
      "execution_count": 14,
      "outputs": [
        {
          "output_type": "execute_result",
          "data": {
            "text/plain": [
              "['red', 'green', 'blue', 'yellow']"
            ]
          },
          "metadata": {},
          "execution_count": 14
        }
      ]
    },
    {
      "cell_type": "code",
      "metadata": {
        "colab": {
          "base_uri": "https://localhost:8080/"
        },
        "id": "CtiB38xjXiH5",
        "outputId": "90c7ca9b-1a85-4640-ff37-85b4109c0dd8"
      },
      "source": [
        "# fruits 에서 이름의 길이가 2인 것들로 새로운 리스트 만들기\n",
        "two_fruits = []\n",
        "for fruit in fruits:\n",
        "    if len(fruit) == 2:\n",
        "        two_fruits.append(fruit)\n",
        "two_fruits"
      ],
      "execution_count": 15,
      "outputs": [
        {
          "output_type": "execute_result",
          "data": {
            "text/plain": [
              "['사과', '딸기', '포도', '키위', '멜론', '수박']"
            ]
          },
          "metadata": {},
          "execution_count": 15
        }
      ]
    },
    {
      "cell_type": "code",
      "metadata": {
        "colab": {
          "base_uri": "https://localhost:8080/"
        },
        "id": "nfZNkoX6YOLA",
        "outputId": "56fe14b9-feb6-4a9e-e608-e6a2dcf40305"
      },
      "source": [
        "# 리스트 표현식 (List Comprehension)\n",
        "two_fruits = [fruit for fruit in fruits if len(fruit) == 2]\n",
        "two_fruits"
      ],
      "execution_count": 16,
      "outputs": [
        {
          "output_type": "execute_result",
          "data": {
            "text/plain": [
              "['사과', '딸기', '포도', '키위', '멜론', '수박']"
            ]
          },
          "metadata": {},
          "execution_count": 16
        }
      ]
    },
    {
      "cell_type": "code",
      "metadata": {
        "colab": {
          "base_uri": "https://localhost:8080/"
        },
        "id": "LEFozEpzYra3",
        "outputId": "8367e378-4d1a-4e23-ba13-64bf520c26ec"
      },
      "source": [
        "a = [1, 2, 3]\n",
        "a.append([4, 5])\n",
        "a"
      ],
      "execution_count": 17,
      "outputs": [
        {
          "output_type": "execute_result",
          "data": {
            "text/plain": [
              "[1, 2, 3, [4, 5]]"
            ]
          },
          "metadata": {},
          "execution_count": 17
        }
      ]
    },
    {
      "cell_type": "code",
      "metadata": {
        "colab": {
          "base_uri": "https://localhost:8080/"
        },
        "id": "UJGRVHf8Zvx3",
        "outputId": "1470b837-171f-4195-f87b-f39bd9b22859"
      },
      "source": [
        "a[-1]"
      ],
      "execution_count": 18,
      "outputs": [
        {
          "output_type": "execute_result",
          "data": {
            "text/plain": [
              "[4, 5]"
            ]
          },
          "metadata": {},
          "execution_count": 18
        }
      ]
    },
    {
      "cell_type": "code",
      "metadata": {
        "colab": {
          "base_uri": "https://localhost:8080/"
        },
        "id": "5l95LGQIZzhV",
        "outputId": "840d06fb-3b48-4167-a546-3a797b525424"
      },
      "source": [
        "b = [1, 2, 3]\n",
        "b.extend([4, 5])\n",
        "b"
      ],
      "execution_count": 19,
      "outputs": [
        {
          "output_type": "execute_result",
          "data": {
            "text/plain": [
              "[1, 2, 3, 4, 5]"
            ]
          },
          "metadata": {},
          "execution_count": 19
        }
      ]
    },
    {
      "cell_type": "code",
      "metadata": {
        "colab": {
          "base_uri": "https://localhost:8080/"
        },
        "id": "u-vgnOdAZ5u1",
        "outputId": "07ed7f3e-af2a-4d79-ae54-5679fdb60c52"
      },
      "source": [
        "# 맨끝 요소 추출하고 삭제\n",
        "b.pop()"
      ],
      "execution_count": 20,
      "outputs": [
        {
          "output_type": "execute_result",
          "data": {
            "text/plain": [
              "5"
            ]
          },
          "metadata": {},
          "execution_count": 20
        }
      ]
    },
    {
      "cell_type": "code",
      "metadata": {
        "colab": {
          "base_uri": "https://localhost:8080/"
        },
        "id": "QC7lhMveaGDQ",
        "outputId": "7c13d3d1-a1cc-40e3-9c86-86ab1ae5bf06"
      },
      "source": [
        "b"
      ],
      "execution_count": 21,
      "outputs": [
        {
          "output_type": "execute_result",
          "data": {
            "text/plain": [
              "[1, 2, 3, 4]"
            ]
          },
          "metadata": {},
          "execution_count": 21
        }
      ]
    },
    {
      "cell_type": "code",
      "metadata": {
        "colab": {
          "base_uri": "https://localhost:8080/"
        },
        "id": "s6dkXYORaHuM",
        "outputId": "aa3cf68c-6463-4621-be9e-5c1b18e9586e"
      },
      "source": [
        "del b[2]\n",
        "b"
      ],
      "execution_count": 22,
      "outputs": [
        {
          "output_type": "execute_result",
          "data": {
            "text/plain": [
              "[1, 2, 4]"
            ]
          },
          "metadata": {},
          "execution_count": 22
        }
      ]
    },
    {
      "cell_type": "code",
      "metadata": {
        "colab": {
          "base_uri": "https://localhost:8080/"
        },
        "id": "nxavh-Laag4k",
        "outputId": "66fa432d-ac5c-4d71-a34c-18e576c5e62e"
      },
      "source": [
        "b.index(1)"
      ],
      "execution_count": 24,
      "outputs": [
        {
          "output_type": "execute_result",
          "data": {
            "text/plain": [
              "0"
            ]
          },
          "metadata": {},
          "execution_count": 24
        }
      ]
    },
    {
      "cell_type": "code",
      "metadata": {
        "colab": {
          "base_uri": "https://localhost:8080/"
        },
        "id": "LVDj0NioazIK",
        "outputId": "ab33e216-26bb-44de-bdf4-af77b1aa0070"
      },
      "source": [
        "# 오름차순(ascending order) 정렬\n",
        "c = [1, 5, 3, 9, 7]\n",
        "c.sort()\n",
        "c"
      ],
      "execution_count": 28,
      "outputs": [
        {
          "output_type": "execute_result",
          "data": {
            "text/plain": [
              "[1, 3, 5, 7, 9]"
            ]
          },
          "metadata": {},
          "execution_count": 28
        }
      ]
    },
    {
      "cell_type": "code",
      "metadata": {
        "colab": {
          "base_uri": "https://localhost:8080/"
        },
        "id": "Mo0u2IwEbCvl",
        "outputId": "d177e504-bacd-4679-93e8-1f4cfbf0bfa4"
      },
      "source": [
        "# 내림차순(descending order) 정렬\n",
        "c = [1, 5, 3, 9, 7]\n",
        "c.sort(reverse=True)\n",
        "c"
      ],
      "execution_count": 29,
      "outputs": [
        {
          "output_type": "execute_result",
          "data": {
            "text/plain": [
              "[9, 7, 5, 3, 1]"
            ]
          },
          "metadata": {},
          "execution_count": 29
        }
      ]
    },
    {
      "cell_type": "markdown",
      "metadata": {
        "id": "O89W3JGNdOV7"
      },
      "source": [
        "### map 함수"
      ]
    },
    {
      "cell_type": "code",
      "metadata": {
        "id": "pT_tyZAGbE_3"
      },
      "source": [
        "import math\n",
        "a = [1, 4, 9]"
      ],
      "execution_count": 30,
      "outputs": []
    },
    {
      "cell_type": "code",
      "metadata": {
        "colab": {
          "base_uri": "https://localhost:8080/"
        },
        "id": "D5_QphVFdZsq",
        "outputId": "7d86581c-798a-45f2-f0c2-72a2d072a8b4"
      },
      "source": [
        "list(map(math.sqrt, a))"
      ],
      "execution_count": 32,
      "outputs": [
        {
          "output_type": "execute_result",
          "data": {
            "text/plain": [
              "[1.0, 2.0, 3.0]"
            ]
          },
          "metadata": {},
          "execution_count": 32
        }
      ]
    },
    {
      "cell_type": "code",
      "metadata": {
        "colab": {
          "base_uri": "https://localhost:8080/"
        },
        "id": "5FSq4TmydkAk",
        "outputId": "5c80eece-341b-4140-c72a-5b9e5ac368a1"
      },
      "source": [
        "# 입력에서의 응용\n",
        "x = int(input())\n",
        "y = int(input())"
      ],
      "execution_count": 33,
      "outputs": [
        {
          "name": "stdout",
          "output_type": "stream",
          "text": [
            "3\n",
            "4\n"
          ]
        }
      ]
    },
    {
      "cell_type": "code",
      "metadata": {
        "colab": {
          "base_uri": "https://localhost:8080/"
        },
        "id": "2EzgxJSCd6Tu",
        "outputId": "a8e7b0a8-d4b2-4769-9c89-1fbb2ff19e4b"
      },
      "source": [
        "x, y"
      ],
      "execution_count": 34,
      "outputs": [
        {
          "output_type": "execute_result",
          "data": {
            "text/plain": [
              "(3, 4)"
            ]
          },
          "metadata": {},
          "execution_count": 34
        }
      ]
    },
    {
      "cell_type": "code",
      "metadata": {
        "colab": {
          "base_uri": "https://localhost:8080/"
        },
        "id": "4YFWNAnFd-kK",
        "outputId": "7c4e8d4a-2aef-4c2c-fc41-1c40c59269a8"
      },
      "source": [
        "# map 함수와 list unpacking\n",
        "x, y, z = map(int, input().split())"
      ],
      "execution_count": 37,
      "outputs": [
        {
          "name": "stdout",
          "output_type": "stream",
          "text": [
            "3 4 5\n"
          ]
        }
      ]
    },
    {
      "cell_type": "code",
      "metadata": {
        "colab": {
          "base_uri": "https://localhost:8080/"
        },
        "id": "9JDELWDrePAJ",
        "outputId": "67fdcce1-5ab0-4cbb-d83a-0ba7232d27d7"
      },
      "source": [
        "x, y, z"
      ],
      "execution_count": 38,
      "outputs": [
        {
          "output_type": "execute_result",
          "data": {
            "text/plain": [
              "(3, 4, 5)"
            ]
          },
          "metadata": {},
          "execution_count": 38
        }
      ]
    },
    {
      "cell_type": "markdown",
      "metadata": {
        "id": "OUPfraL7gG-m"
      },
      "source": [
        "### 리스트와 반복문"
      ]
    },
    {
      "cell_type": "code",
      "metadata": {
        "colab": {
          "base_uri": "https://localhost:8080/"
        },
        "id": "XIjoLBjqeRpl",
        "outputId": "8919d992-1c45-4fd0-d774-1a3a4c5c9fdc"
      },
      "source": [
        "import random\n",
        "a = []\n",
        "for _ in range(5):          # for 반복문 안에서 인덱스값이 사용되지 않을 때\n",
        "    a.append(random.randint(1,10))\n",
        "a"
      ],
      "execution_count": 41,
      "outputs": [
        {
          "output_type": "execute_result",
          "data": {
            "text/plain": [
              "[4, 9, 10, 6, 4]"
            ]
          },
          "metadata": {},
          "execution_count": 41
        }
      ]
    },
    {
      "cell_type": "code",
      "metadata": {
        "colab": {
          "base_uri": "https://localhost:8080/"
        },
        "id": "es6EJgizfRWk",
        "outputId": "2f3fd64f-cc04-4e43-e50c-0612b5d3cca4"
      },
      "source": [
        "# enumerate() 함수 - 인덱스와 요소를 추출\n",
        "fruits = ['apple', 'orange', 'banana']\n",
        "for index, fruit in enumerate(fruits):\n",
        "    print(index, fruit, sep=', ')"
      ],
      "execution_count": 42,
      "outputs": [
        {
          "output_type": "stream",
          "name": "stdout",
          "text": [
            "0, apple\n",
            "1, orange\n",
            "2, banana\n"
          ]
        }
      ]
    },
    {
      "cell_type": "code",
      "metadata": {
        "colab": {
          "base_uri": "https://localhost:8080/"
        },
        "id": "UlGaj4bigbTy",
        "outputId": "820b5cca-4a88-4807-8adb-44263c19b766"
      },
      "source": [
        "# 리스트 표현식\n",
        "sq_list = [i*i for i in range(1,11)]\n",
        "sq_list"
      ],
      "execution_count": 43,
      "outputs": [
        {
          "output_type": "execute_result",
          "data": {
            "text/plain": [
              "[1, 4, 9, 16, 25, 36, 49, 64, 81, 100]"
            ]
          },
          "metadata": {},
          "execution_count": 43
        }
      ]
    },
    {
      "cell_type": "code",
      "metadata": {
        "id": "NJmFJQn0g5Yn"
      },
      "source": [
        ""
      ],
      "execution_count": null,
      "outputs": []
    }
  ]
}