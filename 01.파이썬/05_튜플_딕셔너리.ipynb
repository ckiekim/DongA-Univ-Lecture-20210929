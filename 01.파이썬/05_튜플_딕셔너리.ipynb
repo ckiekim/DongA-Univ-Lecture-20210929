{
  "nbformat": 4,
  "nbformat_minor": 0,
  "metadata": {
    "colab": {
      "name": "05_튜플_딕셔너리.ipynb",
      "provenance": [],
      "collapsed_sections": []
    },
    "kernelspec": {
      "name": "python3",
      "display_name": "Python 3"
    },
    "language_info": {
      "name": "python"
    }
  },
  "cells": [
    {
      "cell_type": "markdown",
      "metadata": {
        "id": "FM-GIJZuGV8_"
      },
      "source": [
        "# 5. 튜플과 딕셔너리"
      ]
    },
    {
      "cell_type": "markdown",
      "metadata": {
        "id": "hjirYp89IAR8"
      },
      "source": [
        "### Tuple"
      ]
    },
    {
      "cell_type": "code",
      "metadata": {
        "colab": {
          "base_uri": "https://localhost:8080/"
        },
        "id": "3BF-dpgiGAS8",
        "outputId": "cfbfeb67-090b-41f1-b3d3-f5763b096bae"
      },
      "source": [
        "t = ('짜장면', '짬뽕', '탕수육', 8000, 6000, 15000)\n",
        "t"
      ],
      "execution_count": 1,
      "outputs": [
        {
          "output_type": "execute_result",
          "data": {
            "text/plain": [
              "('짜장면', '짬뽕', '탕수육', 8000, 6000, 15000)"
            ]
          },
          "metadata": {},
          "execution_count": 1
        }
      ]
    },
    {
      "cell_type": "code",
      "metadata": {
        "colab": {
          "base_uri": "https://localhost:8080/"
        },
        "id": "YVBp8c-BGw13",
        "outputId": "766b1d3c-9598-4236-b111-35c31e00f674"
      },
      "source": [
        "type(t)"
      ],
      "execution_count": 2,
      "outputs": [
        {
          "output_type": "execute_result",
          "data": {
            "text/plain": [
              "tuple"
            ]
          },
          "metadata": {},
          "execution_count": 2
        }
      ]
    },
    {
      "cell_type": "code",
      "metadata": {
        "colab": {
          "base_uri": "https://localhost:8080/"
        },
        "id": "qfNXLsPbG0Pp",
        "outputId": "c5bf3007-f59f-4d94-a568-2fc3b09c5c7e"
      },
      "source": [
        "t[0], t[-1]"
      ],
      "execution_count": 3,
      "outputs": [
        {
          "output_type": "execute_result",
          "data": {
            "text/plain": [
              "('짜장면', 15000)"
            ]
          },
          "metadata": {},
          "execution_count": 3
        }
      ]
    },
    {
      "cell_type": "code",
      "metadata": {
        "colab": {
          "base_uri": "https://localhost:8080/",
          "height": 200
        },
        "id": "vCFjaA06G59X",
        "outputId": "272bce8d-ed03-4dd4-c48f-0795f48b958e"
      },
      "source": [
        "# 수정 불가\n",
        "t[0] = 1"
      ],
      "execution_count": 4,
      "outputs": [
        {
          "output_type": "error",
          "ename": "TypeError",
          "evalue": "ignored",
          "traceback": [
            "\u001b[0;31m---------------------------------------------------------------------------\u001b[0m",
            "\u001b[0;31mTypeError\u001b[0m                                 Traceback (most recent call last)",
            "\u001b[0;32m<ipython-input-4-dc013bb23493>\u001b[0m in \u001b[0;36m<module>\u001b[0;34m()\u001b[0m\n\u001b[1;32m      1\u001b[0m \u001b[0;31m# 수정 불가\u001b[0m\u001b[0;34m\u001b[0m\u001b[0;34m\u001b[0m\u001b[0;34m\u001b[0m\u001b[0m\n\u001b[0;32m----> 2\u001b[0;31m \u001b[0mt\u001b[0m\u001b[0;34m[\u001b[0m\u001b[0;36m0\u001b[0m\u001b[0;34m]\u001b[0m \u001b[0;34m=\u001b[0m \u001b[0;36m1\u001b[0m\u001b[0;34m\u001b[0m\u001b[0;34m\u001b[0m\u001b[0m\n\u001b[0m",
            "\u001b[0;31mTypeError\u001b[0m: 'tuple' object does not support item assignment"
          ]
        }
      ]
    },
    {
      "cell_type": "code",
      "metadata": {
        "colab": {
          "base_uri": "https://localhost:8080/"
        },
        "id": "1nISaVRbG-uS",
        "outputId": "ade443c6-a4c2-4eb6-9eb6-e928f952d14f"
      },
      "source": [
        "a = 3, 4        # 괄호를 생략해도 tuple\n",
        "type(a)"
      ],
      "execution_count": 5,
      "outputs": [
        {
          "output_type": "execute_result",
          "data": {
            "text/plain": [
              "tuple"
            ]
          },
          "metadata": {},
          "execution_count": 5
        }
      ]
    },
    {
      "cell_type": "code",
      "metadata": {
        "colab": {
          "base_uri": "https://localhost:8080/"
        },
        "id": "27HjKT-XHHyc",
        "outputId": "19410a90-c7f0-46f4-8f07-9006f0cf2fa7"
      },
      "source": [
        "# Single element를 갖는 튜플\n",
        "st = (4, )\n",
        "type(st)"
      ],
      "execution_count": 6,
      "outputs": [
        {
          "output_type": "execute_result",
          "data": {
            "text/plain": [
              "tuple"
            ]
          },
          "metadata": {},
          "execution_count": 6
        }
      ]
    },
    {
      "cell_type": "markdown",
      "metadata": {
        "id": "SZW3MEX8IECV"
      },
      "source": [
        "### Dictionary"
      ]
    },
    {
      "cell_type": "code",
      "metadata": {
        "id": "gMystMg0Hw7Y"
      },
      "source": [
        "# 딕셔너리 생성\n",
        "scores = {'kor':85, 'eng':90, 'math':100} \n",
        "members = {'name':'홍길동', 'age':25, 'phone':'010-3787-3146'}"
      ],
      "execution_count": 9,
      "outputs": []
    },
    {
      "cell_type": "code",
      "metadata": {
        "colab": {
          "base_uri": "https://localhost:8080/"
        },
        "id": "4-YNI327I87p",
        "outputId": "06238351-a644-4f13-d989-dbb43eb5d493"
      },
      "source": [
        "scores      # 순서 보장이 안됨"
      ],
      "execution_count": 10,
      "outputs": [
        {
          "output_type": "execute_result",
          "data": {
            "text/plain": [
              "{'eng': 90, 'kor': 85, 'math': 100}"
            ]
          },
          "metadata": {},
          "execution_count": 10
        }
      ]
    },
    {
      "cell_type": "code",
      "metadata": {
        "colab": {
          "base_uri": "https://localhost:8080/"
        },
        "id": "lFvh538xI-sW",
        "outputId": "26868459-9c12-457f-9c82-9e665c2bbacf"
      },
      "source": [
        "members"
      ],
      "execution_count": 11,
      "outputs": [
        {
          "output_type": "execute_result",
          "data": {
            "text/plain": [
              "{'age': 25, 'name': '홍길동', 'phone': '010-3787-3146'}"
            ]
          },
          "metadata": {},
          "execution_count": 11
        }
      ]
    },
    {
      "cell_type": "code",
      "metadata": {
        "colab": {
          "base_uri": "https://localhost:8080/"
        },
        "id": "6tySCHskJzjl",
        "outputId": "56974ab5-0e10-42a3-c8fc-4640706cb77c"
      },
      "source": [
        "d = {1:34, 2:35}    # key로 정수형을 사용할 수 있음\n",
        "d"
      ],
      "execution_count": 14,
      "outputs": [
        {
          "output_type": "execute_result",
          "data": {
            "text/plain": [
              "{1: 34, 2: 35}"
            ]
          },
          "metadata": {},
          "execution_count": 14
        }
      ]
    },
    {
      "cell_type": "code",
      "metadata": {
        "colab": {
          "base_uri": "https://localhost:8080/"
        },
        "id": "-__SHKagJT1a",
        "outputId": "94e626cb-91d7-4d6b-d744-f929bdf1c5e5"
      },
      "source": [
        "# 딕셔너리 값 추출 (인덱싱)\n",
        "scores['kor']"
      ],
      "execution_count": 12,
      "outputs": [
        {
          "output_type": "execute_result",
          "data": {
            "text/plain": [
              "85"
            ]
          },
          "metadata": {},
          "execution_count": 12
        }
      ]
    },
    {
      "cell_type": "code",
      "metadata": {
        "colab": {
          "base_uri": "https://localhost:8080/",
          "height": 36
        },
        "id": "QpyBz4ZpJl5m",
        "outputId": "b5781afa-5ad0-4b47-ae35-1d6ed86bc075"
      },
      "source": [
        "members['name']"
      ],
      "execution_count": 13,
      "outputs": [
        {
          "output_type": "execute_result",
          "data": {
            "application/vnd.google.colaboratory.intrinsic+json": {
              "type": "string"
            },
            "text/plain": [
              "'홍길동'"
            ]
          },
          "metadata": {},
          "execution_count": 13
        }
      ]
    },
    {
      "cell_type": "code",
      "metadata": {
        "colab": {
          "base_uri": "https://localhost:8080/"
        },
        "id": "WqS0tUUYJrhM",
        "outputId": "6fab9f48-0dae-4c53-e6c4-8fec041c8ef7"
      },
      "source": [
        "# 딕셔너리 값 할당\n",
        "scores['kor'] = 88\n",
        "scores"
      ],
      "execution_count": 15,
      "outputs": [
        {
          "output_type": "execute_result",
          "data": {
            "text/plain": [
              "{'eng': 90, 'kor': 88, 'math': 100}"
            ]
          },
          "metadata": {},
          "execution_count": 15
        }
      ]
    },
    {
      "cell_type": "code",
      "metadata": {
        "id": "1FEu2TLZKOvi"
      },
      "source": [
        "# 딕셔너리의 리스트\n",
        "shipping1 = [\n",
        "    {'kor':80, 'eng':90, 'math':100},\n",
        "    {'kor':90, 'eng':92, 'math':98},\n",
        "    {'kor':95, 'eng':88, 'math':94} \n",
        "]"
      ],
      "execution_count": 23,
      "outputs": []
    },
    {
      "cell_type": "code",
      "metadata": {
        "id": "Yx8he3dyKyDr"
      },
      "source": [
        "# 리스트의 딕셔너리\n",
        "shipping2 = {              # 향후 DataFrame을 만들 때 이런식으로 사용\n",
        "    'kor': [80, 90, 95],\n",
        "    'eng': [90, 92, 88],\n",
        "    'math': [100, 98, 94]\n",
        "}"
      ],
      "execution_count": 24,
      "outputs": []
    },
    {
      "cell_type": "code",
      "metadata": {
        "id": "-06-IA04RjrS"
      },
      "source": [
        "# 빈 딕셔너리 만들기\n",
        "d = {}\n",
        "d = dict()"
      ],
      "execution_count": 37,
      "outputs": []
    },
    {
      "cell_type": "markdown",
      "metadata": {
        "id": "xtHM37MpPPAd"
      },
      "source": [
        "### 딕셔너리와 반복문"
      ]
    },
    {
      "cell_type": "code",
      "metadata": {
        "colab": {
          "base_uri": "https://localhost:8080/"
        },
        "id": "tOmMtJisNkQ9",
        "outputId": "945bf2a3-ed25-459f-d074-f8cce8562b3c"
      },
      "source": [
        "# scores의 평균\n",
        "sum_of_scores = 0\n",
        "for key in scores.keys():\n",
        "    sum_of_scores += scores[key]\n",
        "avg = sum_of_scores / len(scores)\n",
        "round(avg, 2)"
      ],
      "execution_count": 31,
      "outputs": [
        {
          "output_type": "execute_result",
          "data": {
            "text/plain": [
              "92.67"
            ]
          },
          "metadata": {},
          "execution_count": 31
        }
      ]
    },
    {
      "cell_type": "code",
      "metadata": {
        "colab": {
          "base_uri": "https://localhost:8080/"
        },
        "id": "fSxH9GAzPcPy",
        "outputId": "693db173-ef14-4355-ab96-1371989fcfba"
      },
      "source": [
        "sum_of_scores = 0\n",
        "for key, value in scores.items():\n",
        "    sum_of_scores += value\n",
        "avg = sum_of_scores / len(scores)\n",
        "round(avg, 2)"
      ],
      "execution_count": 32,
      "outputs": [
        {
          "output_type": "execute_result",
          "data": {
            "text/plain": [
              "92.67"
            ]
          },
          "metadata": {},
          "execution_count": 32
        }
      ]
    },
    {
      "cell_type": "code",
      "metadata": {
        "colab": {
          "base_uri": "https://localhost:8080/"
        },
        "id": "RvbeiVBMQg7x",
        "outputId": "eddc91fe-9862-463c-d3e9-8f7a2efa4cbd"
      },
      "source": [
        "sum(scores.values()) /len(scores)"
      ],
      "execution_count": 34,
      "outputs": [
        {
          "output_type": "execute_result",
          "data": {
            "text/plain": [
              "92.66666666666667"
            ]
          },
          "metadata": {},
          "execution_count": 34
        }
      ]
    },
    {
      "cell_type": "markdown",
      "metadata": {
        "id": "hPLCComgRDFG"
      },
      "source": [
        "### Set(집합)"
      ]
    },
    {
      "cell_type": "code",
      "metadata": {
        "colab": {
          "base_uri": "https://localhost:8080/"
        },
        "id": "YFnyji9WQnjw",
        "outputId": "c1f0ce4c-f816-4c8c-b760-6e864c02b122"
      },
      "source": [
        "a = set((3, 4, 5, 3, 7))        # 중복 배제\n",
        "a"
      ],
      "execution_count": 36,
      "outputs": [
        {
          "output_type": "execute_result",
          "data": {
            "text/plain": [
              "{3, 4, 5, 7}"
            ]
          },
          "metadata": {},
          "execution_count": 36
        }
      ]
    },
    {
      "cell_type": "code",
      "metadata": {
        "id": "gP8vA9QyRQpC"
      },
      "source": [
        ""
      ],
      "execution_count": null,
      "outputs": []
    }
  ]
}