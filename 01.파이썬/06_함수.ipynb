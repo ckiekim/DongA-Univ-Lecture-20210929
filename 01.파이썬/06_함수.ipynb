{
  "nbformat": 4,
  "nbformat_minor": 0,
  "metadata": {
    "colab": {
      "name": "06_함수.ipynb",
      "provenance": [],
      "collapsed_sections": []
    },
    "kernelspec": {
      "name": "python3",
      "display_name": "Python 3"
    },
    "language_info": {
      "name": "python"
    }
  },
  "cells": [
    {
      "cell_type": "markdown",
      "metadata": {
        "id": "q7yXc7G_STQX"
      },
      "source": [
        "# 6. 함수(Function)"
      ]
    },
    {
      "cell_type": "markdown",
      "metadata": {
        "id": "7iyZZl1SS_mL"
      },
      "source": [
        "### 함수 정의와 호출"
      ]
    },
    {
      "cell_type": "code",
      "metadata": {
        "id": "KZy-qJ6VSPjD"
      },
      "source": [
        "def hello():\n",
        "    print('안녕하세요?')"
      ],
      "execution_count": 1,
      "outputs": []
    },
    {
      "cell_type": "code",
      "metadata": {
        "colab": {
          "base_uri": "https://localhost:8080/"
        },
        "id": "FuGlzDzWSwa-",
        "outputId": "14476dad-0645-4511-fb89-9b232fdc9060"
      },
      "source": [
        "hello()"
      ],
      "execution_count": 2,
      "outputs": [
        {
          "output_type": "stream",
          "name": "stdout",
          "text": [
            "안녕하세요?\n"
          ]
        }
      ]
    },
    {
      "cell_type": "markdown",
      "metadata": {
        "id": "VWBMeCx-TFpb"
      },
      "source": [
        "### 파이썬 내장함수"
      ]
    },
    {
      "cell_type": "code",
      "metadata": {
        "colab": {
          "base_uri": "https://localhost:8080/"
        },
        "id": "MWfe98TLS2t7",
        "outputId": "1be1e122-5b79-497e-eac2-143b1afe9c6f"
      },
      "source": [
        "abs(-3.4)"
      ],
      "execution_count": 3,
      "outputs": [
        {
          "output_type": "execute_result",
          "data": {
            "text/plain": [
              "3.4"
            ]
          },
          "metadata": {},
          "execution_count": 3
        }
      ]
    },
    {
      "cell_type": "code",
      "metadata": {
        "colab": {
          "base_uri": "https://localhost:8080/"
        },
        "id": "wI8gUYfKTfKC",
        "outputId": "fad97a47-d902-4155-c2e9-489ddbf76fd7"
      },
      "source": [
        "type(5)"
      ],
      "execution_count": 4,
      "outputs": [
        {
          "output_type": "execute_result",
          "data": {
            "text/plain": [
              "int"
            ]
          },
          "metadata": {},
          "execution_count": 4
        }
      ]
    },
    {
      "cell_type": "markdown",
      "metadata": {
        "id": "VEoHeSrDVJtf"
      },
      "source": [
        "### 매개 변수(Parameter, Argument)"
      ]
    },
    {
      "cell_type": "code",
      "metadata": {
        "id": "RewN6y-wTirP"
      },
      "source": [
        "def even_odd(num):\n",
        "    if num % 2 == 0:\n",
        "        print(f'{num} 은/는 짝수입니다.')\n",
        "    else:\n",
        "        print(f'{num} 은/는 홀수입니다.')"
      ],
      "execution_count": 8,
      "outputs": []
    },
    {
      "cell_type": "code",
      "metadata": {
        "colab": {
          "base_uri": "https://localhost:8080/"
        },
        "id": "ln6a8O0KVmQl",
        "outputId": "04da6505-7a82-4c79-e37d-c3c2c9ebe134"
      },
      "source": [
        "even_odd(3)"
      ],
      "execution_count": 9,
      "outputs": [
        {
          "output_type": "stream",
          "name": "stdout",
          "text": [
            "3 은/는 홀수입니다.\n"
          ]
        }
      ]
    },
    {
      "cell_type": "code",
      "metadata": {
        "colab": {
          "base_uri": "https://localhost:8080/"
        },
        "id": "MEVZID4YVshj",
        "outputId": "7535c1ac-c5b7-4cdd-bc98-4461f23f7223"
      },
      "source": [
        "even_odd(4)"
      ],
      "execution_count": 10,
      "outputs": [
        {
          "output_type": "stream",
          "name": "stdout",
          "text": [
            "4 은/는 짝수입니다.\n"
          ]
        }
      ]
    },
    {
      "cell_type": "code",
      "metadata": {
        "colab": {
          "base_uri": "https://localhost:8080/"
        },
        "id": "hWBJ17jOVve6",
        "outputId": "02331376-eba2-4b2c-c002-504dbb9bf3b5"
      },
      "source": [
        "# 위치 인수, 가변 위치 인수, 키워드 인수, 가변 키워드 인수\n",
        "print(1, 2, 3, 4, 5, 6, sep='\\t')"
      ],
      "execution_count": 11,
      "outputs": [
        {
          "output_type": "stream",
          "name": "stdout",
          "text": [
            "1\t2\t3\t4\t5\t6\n"
          ]
        }
      ]
    },
    {
      "cell_type": "markdown",
      "metadata": {
        "id": "WxT8umGFXSZU"
      },
      "source": [
        "### 함수값의 반환"
      ]
    },
    {
      "cell_type": "code",
      "metadata": {
        "id": "9QXDT1R7XVnn"
      },
      "source": [
        "import math\n",
        "def circle_area(radius):\n",
        "    area = math.pi * radius * radius    # radius ** 2\n",
        "    return round(area, 5)"
      ],
      "execution_count": 18,
      "outputs": []
    },
    {
      "cell_type": "code",
      "metadata": {
        "colab": {
          "base_uri": "https://localhost:8080/"
        },
        "id": "xnsOr_aLXsOf",
        "outputId": "1d3bb702-41c8-4144-ce93-57abc966aecf"
      },
      "source": [
        "area = circle_area(10)\n",
        "area"
      ],
      "execution_count": 19,
      "outputs": [
        {
          "output_type": "execute_result",
          "data": {
            "text/plain": [
              "314.15927"
            ]
          },
          "metadata": {},
          "execution_count": 19
        }
      ]
    },
    {
      "cell_type": "code",
      "metadata": {
        "id": "0sJmzvyMX6hp"
      },
      "source": [
        "# 여러개의 값을 반환\n",
        "def circle_info(r):\n",
        "    area = math.pi * r * r \n",
        "    circum = 2 * math.pi * r \n",
        "    return round(area,2), round(circum,2)         # tuple 형태로 반환"
      ],
      "execution_count": 22,
      "outputs": []
    },
    {
      "cell_type": "code",
      "metadata": {
        "colab": {
          "base_uri": "https://localhost:8080/"
        },
        "id": "LyDtFRgDcW3e",
        "outputId": "82882c92-8a61-4476-d58d-4797ba870e14"
      },
      "source": [
        "area, circum = circle_info(10)\n",
        "area, circum"
      ],
      "execution_count": 23,
      "outputs": [
        {
          "output_type": "execute_result",
          "data": {
            "text/plain": [
              "(314.16, 62.83)"
            ]
          },
          "metadata": {},
          "execution_count": 23
        }
      ]
    },
    {
      "cell_type": "markdown",
      "metadata": {
        "id": "icc-gDMnc7FG"
      },
      "source": [
        "### 익명 함수(lambda 함수)"
      ]
    },
    {
      "cell_type": "code",
      "metadata": {
        "id": "oO9hvvj5cdRC"
      },
      "source": [
        "x = lambda a: a**3      # 세제곱을 구해주는 함수"
      ],
      "execution_count": 24,
      "outputs": []
    },
    {
      "cell_type": "code",
      "metadata": {
        "colab": {
          "base_uri": "https://localhost:8080/"
        },
        "id": "px_wdvszdk40",
        "outputId": "9521446c-6ec3-4fd1-f767-c5c70b479578"
      },
      "source": [
        "x(5)"
      ],
      "execution_count": 25,
      "outputs": [
        {
          "output_type": "execute_result",
          "data": {
            "text/plain": [
              "125"
            ]
          },
          "metadata": {},
          "execution_count": 25
        }
      ]
    },
    {
      "cell_type": "code",
      "metadata": {
        "id": "yHE3y-vldqwU"
      },
      "source": [
        "def x(a):\n",
        "    return a**3"
      ],
      "execution_count": 26,
      "outputs": []
    },
    {
      "cell_type": "markdown",
      "metadata": {
        "id": "PnUJG9ZzeAl8"
      },
      "source": [
        "- 1에서 10까지 홀수 제곱의 리스트 만들기"
      ]
    },
    {
      "cell_type": "code",
      "metadata": {
        "colab": {
          "base_uri": "https://localhost:8080/"
        },
        "id": "4-ieljmRdnrz",
        "outputId": "5a4bdc43-553b-4548-f49b-ebb8a04a516c"
      },
      "source": [
        "square_odd_list = []\n",
        "for i in range(1,11,2):\n",
        "    square_odd_list.append(i*i)\n",
        "square_odd_list"
      ],
      "execution_count": 30,
      "outputs": [
        {
          "output_type": "execute_result",
          "data": {
            "text/plain": [
              "[1, 9, 25, 49, 81]"
            ]
          },
          "metadata": {},
          "execution_count": 30
        }
      ]
    },
    {
      "cell_type": "code",
      "metadata": {
        "colab": {
          "base_uri": "https://localhost:8080/"
        },
        "id": "xVlZn_oceU3I",
        "outputId": "19c9bed3-8abd-4d50-ae05-739ebc1c99d7"
      },
      "source": [
        "odd_list = list(range(1, 11, 2))\n",
        "square_odd_list = list(map(lambda r: r*r, odd_list))\n",
        "square_odd_list"
      ],
      "execution_count": 28,
      "outputs": [
        {
          "output_type": "execute_result",
          "data": {
            "text/plain": [
              "[1, 9, 25, 49, 81]"
            ]
          },
          "metadata": {},
          "execution_count": 28
        }
      ]
    },
    {
      "cell_type": "code",
      "metadata": {
        "colab": {
          "base_uri": "https://localhost:8080/"
        },
        "id": "h5GDONmDezFI",
        "outputId": "4b972e7e-1f7a-4ef1-bc4a-c70b4ed46efb"
      },
      "source": [
        "square_odd_list = [i*i for i in range(1,11,2)]\n",
        "square_odd_list"
      ],
      "execution_count": 29,
      "outputs": [
        {
          "output_type": "execute_result",
          "data": {
            "text/plain": [
              "[1, 9, 25, 49, 81]"
            ]
          },
          "metadata": {},
          "execution_count": 29
        }
      ]
    },
    {
      "cell_type": "markdown",
      "metadata": {
        "id": "DffdjSBCfpgO"
      },
      "source": [
        "### 재귀 호출(Recursive Call)"
      ]
    },
    {
      "cell_type": "code",
      "metadata": {
        "id": "Om3vOkXPfI4u"
      },
      "source": [
        "def factorial(n):\n",
        "    if n == 0:\n",
        "        return 1\n",
        "    return n * factorial(n-1)"
      ],
      "execution_count": 31,
      "outputs": []
    },
    {
      "cell_type": "code",
      "metadata": {
        "colab": {
          "base_uri": "https://localhost:8080/"
        },
        "id": "pQYLbb9XgEh7",
        "outputId": "af5ebe23-3cd2-4914-b4fb-3b48640b1a56"
      },
      "source": [
        "factorial(10)"
      ],
      "execution_count": 32,
      "outputs": [
        {
          "output_type": "execute_result",
          "data": {
            "text/plain": [
              "3628800"
            ]
          },
          "metadata": {},
          "execution_count": 32
        }
      ]
    },
    {
      "cell_type": "code",
      "metadata": {
        "id": "gwQTjeHvgGFb"
      },
      "source": [
        "def fibo(n):\n",
        "    if n == 0 or n == 1:\n",
        "        return 1\n",
        "    return fibo(n-1) + fibo(n-2)"
      ],
      "execution_count": 33,
      "outputs": []
    },
    {
      "cell_type": "code",
      "metadata": {
        "colab": {
          "base_uri": "https://localhost:8080/"
        },
        "id": "3tACh7rJh_Dp",
        "outputId": "2074d8db-d814-4752-a71f-0d5e28e913cc"
      },
      "source": [
        "for i in range(10):\n",
        "    print(fibo(i))"
      ],
      "execution_count": 34,
      "outputs": [
        {
          "output_type": "stream",
          "name": "stdout",
          "text": [
            "1\n",
            "1\n",
            "2\n",
            "3\n",
            "5\n",
            "8\n",
            "13\n",
            "21\n",
            "34\n",
            "55\n"
          ]
        }
      ]
    },
    {
      "cell_type": "markdown",
      "metadata": {
        "id": "8PJzEIPviaX3"
      },
      "source": [
        "### Scope rule\n",
        "- 지역 변수(Local variable)\n",
        "- 전역 변수(Global variable)"
      ]
    },
    {
      "cell_type": "code",
      "metadata": {
        "colab": {
          "base_uri": "https://localhost:8080/"
        },
        "id": "t00HLvzRiFqh",
        "outputId": "74942c6f-5437-4b65-ff22-591ff8e02f7e"
      },
      "source": [
        "s, t = 10, 10           # global\n",
        "def scope():\n",
        "    s = 5               # local\n",
        "    print(s, t)         # t 변수는 사용하지 않도록 프로그래밍 할 것\n",
        "\n",
        "scope()\n",
        "print(s, t)"
      ],
      "execution_count": 37,
      "outputs": [
        {
          "output_type": "stream",
          "name": "stdout",
          "text": [
            "5 10\n",
            "10 10\n"
          ]
        }
      ]
    },
    {
      "cell_type": "markdown",
      "metadata": {
        "id": "_CueTj55j_F7"
      },
      "source": [
        "### 연습문제\n",
        "- Palindrome : 53435, madam, 소주 만병만 주소\n",
        "- 3자리 수 x, y를 곱해서 만든 수 중에서\n",
        "- 가장 값이 큰 팔린드롬수와 그때의 x, y를 구하세요."
      ]
    },
    {
      "cell_type": "code",
      "metadata": {
        "id": "P5g58trHjE_W"
      },
      "source": [
        "def is_palindrome(s):\n",
        "    return s == s[::-1]"
      ],
      "execution_count": 38,
      "outputs": []
    },
    {
      "cell_type": "code",
      "metadata": {
        "colab": {
          "base_uri": "https://localhost:8080/"
        },
        "id": "C6RXfJ1nlVxI",
        "outputId": "8e7cd8c6-5a4a-4ff0-b3ff-30c14bfb555e"
      },
      "source": [
        "is_palindrome('534435')"
      ],
      "execution_count": 42,
      "outputs": [
        {
          "output_type": "execute_result",
          "data": {
            "text/plain": [
              "True"
            ]
          },
          "metadata": {},
          "execution_count": 42
        }
      ]
    },
    {
      "cell_type": "code",
      "metadata": {
        "colab": {
          "base_uri": "https://localhost:8080/"
        },
        "id": "G34LNUOQlY7s",
        "outputId": "ab6b781a-60bb-4300-9b59-f8e66b327114"
      },
      "source": [
        "max_pal, x, y = 0, 0, 0\n",
        "for i in range(100, 1000):\n",
        "    for k in range(i, 1000):\n",
        "        num = i * k\n",
        "        if is_palindrome(str(num)):\n",
        "            if num > max_pal:\n",
        "                max_pal, x, y = num, i, k\n",
        "print(max_pal, x, y)"
      ],
      "execution_count": 44,
      "outputs": [
        {
          "output_type": "stream",
          "name": "stdout",
          "text": [
            "906609 913 993\n"
          ]
        }
      ]
    },
    {
      "cell_type": "code",
      "metadata": {
        "id": "788jXcmb4PJQ"
      },
      "source": [
        ""
      ],
      "execution_count": null,
      "outputs": []
    }
  ]
}