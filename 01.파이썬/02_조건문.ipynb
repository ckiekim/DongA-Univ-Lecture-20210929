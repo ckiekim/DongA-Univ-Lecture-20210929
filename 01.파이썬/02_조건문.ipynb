{
  "nbformat": 4,
  "nbformat_minor": 0,
  "metadata": {
    "colab": {
      "name": "02_조건문.ipynb",
      "provenance": [],
      "collapsed_sections": []
    },
    "kernelspec": {
      "name": "python3",
      "display_name": "Python 3"
    },
    "language_info": {
      "name": "python"
    }
  },
  "cells": [
    {
      "cell_type": "markdown",
      "metadata": {
        "id": "oLWY_7ajuh4g"
      },
      "source": [
        "# 2. 조건문"
      ]
    },
    {
      "cell_type": "code",
      "metadata": {
        "colab": {
          "base_uri": "https://localhost:8080/"
        },
        "id": "n7SGFMBKuc-S",
        "outputId": "a3c2440b-2b98-45bd-c437-d0901fb4ce39"
      },
      "source": [
        "import random\n",
        "score = random.randint(40,100)\n",
        "if score >= 80:\n",
        "    print(f'{score}점은 합격입니다.')\n",
        "else:\n",
        "    print(f'{score}점은 불합격입니다.')"
      ],
      "execution_count": 5,
      "outputs": [
        {
          "output_type": "stream",
          "name": "stdout",
          "text": [
            "80점은 합격입니다.\n"
          ]
        }
      ]
    },
    {
      "cell_type": "code",
      "metadata": {
        "colab": {
          "base_uri": "https://localhost:8080/"
        },
        "id": "p3HuSOJFvNe8",
        "outputId": "79f87b26-1c7d-4a8f-ab27-054899d4eb53"
      },
      "source": [
        "age = random.randint(1,100)\n",
        "if age >= 65:\n",
        "    fare = 0\n",
        "elif age <= 19:\n",
        "    fare = 500\n",
        "else:\n",
        "    fare = 1000\n",
        "age, fare"
      ],
      "execution_count": 20,
      "outputs": [
        {
          "output_type": "execute_result",
          "data": {
            "text/plain": [
              "(16, 500)"
            ]
          },
          "metadata": {},
          "execution_count": 20
        }
      ]
    },
    {
      "cell_type": "code",
      "metadata": {
        "colab": {
          "base_uri": "https://localhost:8080/"
        },
        "id": "FmOiflf-w_WL",
        "outputId": "e4b694fd-982f-4a04-a73c-a41983bce438"
      },
      "source": [
        "x = random.randint(1,10)\n",
        "print(x, end=', ')\n",
        "if x % 2 == 0:\n",
        "    print('짝수')\n",
        "else:\n",
        "    print('홀수')"
      ],
      "execution_count": 22,
      "outputs": [
        {
          "output_type": "stream",
          "name": "stdout",
          "text": [
            "9, 홀수\n"
          ]
        }
      ]
    },
    {
      "cell_type": "code",
      "metadata": {
        "colab": {
          "base_uri": "https://localhost:8080/"
        },
        "id": "GRLQg6SWzLDe",
        "outputId": "c433d33a-ec6a-4a88-f0f0-e735c7ba47a3"
      },
      "source": [
        "x = random.randint(1,10)\n",
        "if x % 2 == 0:\n",
        "    y = '짝수'\n",
        "else:\n",
        "    y = '홀수'\n",
        "print(x, y, sep=', ')"
      ],
      "execution_count": 23,
      "outputs": [
        {
          "output_type": "stream",
          "name": "stdout",
          "text": [
            "8, 짝수\n"
          ]
        }
      ]
    },
    {
      "cell_type": "code",
      "metadata": {
        "colab": {
          "base_uri": "https://localhost:8080/"
        },
        "id": "A-J-kxN0zntb",
        "outputId": "725acc08-5d79-4bd0-e283-010bae0633fa"
      },
      "source": [
        "x = random.randint(1,10)\n",
        "y = '짝수' if x % 2 == 0 else '홀수'    # 3항 연산자\n",
        "print(x, y, sep=', ')"
      ],
      "execution_count": 24,
      "outputs": [
        {
          "output_type": "stream",
          "name": "stdout",
          "text": [
            "5, 홀수\n"
          ]
        }
      ]
    },
    {
      "cell_type": "markdown",
      "metadata": {
        "id": "gB41CEU708WZ"
      },
      "source": [
        "### FizzBuzz\n",
        "- 3의 배수면 Fizz, 5의 배수면 Buzz, 15의 배수면 FizzBuzz, 아니면 숫자를 출력"
      ]
    },
    {
      "cell_type": "code",
      "metadata": {
        "colab": {
          "base_uri": "https://localhost:8080/"
        },
        "id": "S0UNc61106rG",
        "outputId": "5e3bef8c-6e0e-4b68-a804-86d3a44c7ae4"
      },
      "source": [
        "n = random.randint(1,100)\n",
        "print(n, end=', ')\n",
        "if n % 15 == 0:\n",
        "    print('FizzBuzz')\n",
        "elif n % 3 == 0:\n",
        "    print('Fizz')\n",
        "elif n % 5 == 0:\n",
        "    print('Buzz')\n",
        "else:\n",
        "    print(n)"
      ],
      "execution_count": 32,
      "outputs": [
        {
          "output_type": "stream",
          "name": "stdout",
          "text": [
            "33, Fizz\n"
          ]
        }
      ]
    },
    {
      "cell_type": "code",
      "metadata": {
        "colab": {
          "base_uri": "https://localhost:8080/"
        },
        "id": "rp5fyeED0Ld3",
        "outputId": "b1cffee4-a24d-4478-d1fb-dfed0a0fac0a"
      },
      "source": [
        "number = 4\n",
        "print('Fizz'*(number%3==0) + 'Buzz'*(number%5==0) or number)"
      ],
      "execution_count": 36,
      "outputs": [
        {
          "output_type": "stream",
          "name": "stdout",
          "text": [
            "4\n"
          ]
        }
      ]
    },
    {
      "cell_type": "code",
      "metadata": {
        "id": "TX70qbUh4AUP"
      },
      "source": [
        "'Fizz' * True       # True - 1, False - 0 으로 정수형 변환이 자동으로 이루어짐"
      ],
      "execution_count": null,
      "outputs": []
    },
    {
      "cell_type": "code",
      "metadata": {
        "colab": {
          "base_uri": "https://localhost:8080/"
        },
        "id": "TaazsOgY3D-T",
        "outputId": "8471fd28-dfd7-410a-ae4a-ec0d22d55d6d"
      },
      "source": [
        "s = ''          # 문자열이 None 또는 ''이면 조건식에서는 False\n",
        "if s:\n",
        "    print('Not null')\n",
        "else:\n",
        "    print('Null')"
      ],
      "execution_count": 43,
      "outputs": [
        {
          "output_type": "stream",
          "name": "stdout",
          "text": [
            "Not null\n"
          ]
        }
      ]
    },
    {
      "cell_type": "code",
      "metadata": {
        "id": "wOZxdRmJ3fvj"
      },
      "source": [
        ""
      ],
      "execution_count": null,
      "outputs": []
    }
  ]
}