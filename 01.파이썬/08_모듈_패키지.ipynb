{
  "nbformat": 4,
  "nbformat_minor": 0,
  "metadata": {
    "colab": {
      "name": "08_모듈_패키지.ipynb",
      "provenance": [],
      "collapsed_sections": []
    },
    "kernelspec": {
      "name": "python3",
      "display_name": "Python 3"
    },
    "language_info": {
      "name": "python"
    }
  },
  "cells": [
    {
      "cell_type": "markdown",
      "metadata": {
        "id": "0svp2FbrOHfr"
      },
      "source": [
        "# 8. 모듈과 패키지"
      ]
    },
    {
      "cell_type": "markdown",
      "metadata": {
        "id": "cI4QN-TpOSWS"
      },
      "source": [
        "### 내장 모듈 사용하는 방법"
      ]
    },
    {
      "cell_type": "code",
      "metadata": {
        "colab": {
          "base_uri": "https://localhost:8080/"
        },
        "id": "0wYXcuzmN_5h",
        "outputId": "c0bcfe1e-8bcd-44c3-803c-06cecd5c7699"
      },
      "source": [
        "# 기본 사용\n",
        "import math\n",
        "print(f'floor(7.7): {math.floor(7.7)}')\n",
        "print(f'ceil(10.1): {math.ceil(10.1)}')"
      ],
      "execution_count": 2,
      "outputs": [
        {
          "output_type": "stream",
          "name": "stdout",
          "text": [
            "floor(7.7): 7\n",
            "ceil(10.1): 11\n"
          ]
        }
      ]
    },
    {
      "cell_type": "code",
      "metadata": {
        "colab": {
          "base_uri": "https://localhost:8080/"
        },
        "id": "bJIYMUrKO6wF",
        "outputId": "ed35b877-06bd-4922-df53-3efca3c3053f"
      },
      "source": [
        "# 모듈 이름을 약자로 사용\n",
        "import math as m \n",
        "print(f'floor(7.7): {m.floor(7.7)}')\n",
        "print(f'ceil(10.1): {m.ceil(10.1)}')"
      ],
      "execution_count": 3,
      "outputs": [
        {
          "output_type": "stream",
          "name": "stdout",
          "text": [
            "floor(7.7): 7\n",
            "ceil(10.1): 11\n"
          ]
        }
      ]
    },
    {
      "cell_type": "code",
      "metadata": {
        "colab": {
          "base_uri": "https://localhost:8080/"
        },
        "id": "aRzU9bflS53-",
        "outputId": "e77b198a-93ab-4b9c-c0b5-dff3a530b4b2"
      },
      "source": [
        "# 모듈 내의 함수를 직접 사용\n",
        "from math import ceil, floor\n",
        "print(f'floor(7.7): {floor(7.7)}')\n",
        "print(f'ceil(10.1): {ceil(10.1)}')"
      ],
      "execution_count": 4,
      "outputs": [
        {
          "output_type": "stream",
          "name": "stdout",
          "text": [
            "floor(7.7): 7\n",
            "ceil(10.1): 11\n"
          ]
        }
      ]
    },
    {
      "cell_type": "markdown",
      "metadata": {
        "id": "-sHBZif9TjXT"
      },
      "source": [
        "### 내장(Built-in) 모듈과 외장 모듈"
      ]
    },
    {
      "cell_type": "markdown",
      "metadata": {
        "id": "6QGEBXedV44o"
      },
      "source": [
        "- 내장 모듈"
      ]
    },
    {
      "cell_type": "code",
      "metadata": {
        "colab": {
          "base_uri": "https://localhost:8080/"
        },
        "id": "zZLImTmmTNV5",
        "outputId": "ca105696-fcca-4a82-e786-ea3ce1e64a5d"
      },
      "source": [
        "import random\n",
        "dice = random.randint(1,6)\n",
        "dice"
      ],
      "execution_count": 5,
      "outputs": [
        {
          "output_type": "execute_result",
          "data": {
            "text/plain": [
              "3"
            ]
          },
          "metadata": {},
          "execution_count": 5
        }
      ]
    },
    {
      "cell_type": "code",
      "metadata": {
        "colab": {
          "base_uri": "https://localhost:8080/"
        },
        "id": "GUIMgabMT1T_",
        "outputId": "bb49e1ce-6690-40f4-c767-0baaf54b5b6c"
      },
      "source": [
        "from datetime import datetime\n",
        "datetime.now()"
      ],
      "execution_count": 6,
      "outputs": [
        {
          "output_type": "execute_result",
          "data": {
            "text/plain": [
              "datetime.datetime(2021, 9, 30, 6, 7, 1, 437045)"
            ]
          },
          "metadata": {},
          "execution_count": 6
        }
      ]
    },
    {
      "cell_type": "code",
      "metadata": {
        "colab": {
          "base_uri": "https://localhost:8080/",
          "height": 36
        },
        "id": "_e2c3VcdUDJv",
        "outputId": "2bd66dbf-1ae7-4757-a25d-b044dbcce818"
      },
      "source": [
        "import re           # Regular Expression(정규표현식)\n",
        "text = '나는 apple과 배를 좋아해!!!ㅋㅋ'\n",
        "re.sub('[^ㄱ-ㅎㅏ-ㅣ가-힣 ]', '', text)"
      ],
      "execution_count": 7,
      "outputs": [
        {
          "output_type": "execute_result",
          "data": {
            "application/vnd.google.colaboratory.intrinsic+json": {
              "type": "string"
            },
            "text/plain": [
              "'나는 과 배를 좋아해ㅋㅋ'"
            ]
          },
          "metadata": {},
          "execution_count": 7
        }
      ]
    },
    {
      "cell_type": "markdown",
      "metadata": {
        "id": "pX0vHECVVxtQ"
      },
      "source": [
        "- 외장 모듈: 설치해서 사용하는 모듈"
      ]
    },
    {
      "cell_type": "code",
      "metadata": {
        "colab": {
          "base_uri": "https://localhost:8080/"
        },
        "id": "4poK3q8HVgwE",
        "outputId": "f76700a5-68e5-4aa7-93fe-64d2495db304"
      },
      "source": [
        "import numpy as np\n",
        "np.arange(1,10).reshape(3,3)"
      ],
      "execution_count": 8,
      "outputs": [
        {
          "output_type": "execute_result",
          "data": {
            "text/plain": [
              "array([[1, 2, 3],\n",
              "       [4, 5, 6],\n",
              "       [7, 8, 9]])"
            ]
          },
          "metadata": {},
          "execution_count": 8
        }
      ]
    },
    {
      "cell_type": "code",
      "metadata": {
        "colab": {
          "base_uri": "https://localhost:8080/",
          "height": 143
        },
        "id": "JxVrGenRWIxZ",
        "outputId": "f5c4b132-51e0-453c-e00e-4725a52bb5f5"
      },
      "source": [
        "import pandas as pd\n",
        "pd.DataFrame(np.arange(1,10).reshape(3,3),\n",
        "             index=['r1','r2','r3'], columns=['c1','c2','c3'])"
      ],
      "execution_count": 9,
      "outputs": [
        {
          "output_type": "execute_result",
          "data": {
            "text/html": [
              "<div>\n",
              "<style scoped>\n",
              "    .dataframe tbody tr th:only-of-type {\n",
              "        vertical-align: middle;\n",
              "    }\n",
              "\n",
              "    .dataframe tbody tr th {\n",
              "        vertical-align: top;\n",
              "    }\n",
              "\n",
              "    .dataframe thead th {\n",
              "        text-align: right;\n",
              "    }\n",
              "</style>\n",
              "<table border=\"1\" class=\"dataframe\">\n",
              "  <thead>\n",
              "    <tr style=\"text-align: right;\">\n",
              "      <th></th>\n",
              "      <th>c1</th>\n",
              "      <th>c2</th>\n",
              "      <th>c3</th>\n",
              "    </tr>\n",
              "  </thead>\n",
              "  <tbody>\n",
              "    <tr>\n",
              "      <th>r1</th>\n",
              "      <td>1</td>\n",
              "      <td>2</td>\n",
              "      <td>3</td>\n",
              "    </tr>\n",
              "    <tr>\n",
              "      <th>r2</th>\n",
              "      <td>4</td>\n",
              "      <td>5</td>\n",
              "      <td>6</td>\n",
              "    </tr>\n",
              "    <tr>\n",
              "      <th>r3</th>\n",
              "      <td>7</td>\n",
              "      <td>8</td>\n",
              "      <td>9</td>\n",
              "    </tr>\n",
              "  </tbody>\n",
              "</table>\n",
              "</div>"
            ],
            "text/plain": [
              "    c1  c2  c3\n",
              "r1   1   2   3\n",
              "r2   4   5   6\n",
              "r3   7   8   9"
            ]
          },
          "metadata": {},
          "execution_count": 9
        }
      ]
    },
    {
      "cell_type": "code",
      "metadata": {
        "colab": {
          "base_uri": "https://localhost:8080/",
          "height": 264
        },
        "id": "XhwucJ0mWotH",
        "outputId": "faef7618-2628-4abd-b92f-0a54d4b1d0ef"
      },
      "source": [
        "import matplotlib.pyplot as plt\n",
        "plt.plot([0,1,4,9])                 # y = x**2\n",
        "plt.grid()\n",
        "plt.show()"
      ],
      "execution_count": 11,
      "outputs": [
        {
          "output_type": "display_data",
          "data": {
            "image/png": "[encoded data removed]",
            "text/plain": [
              "<Figure size 432x288 with 1 Axes>"
            ]
          },
          "metadata": {
            "needs_background": "light"
          }
        }
      ]
    },
    {
      "cell_type": "code",
      "metadata": {
        "id": "zMYmh07VXAdM"
      },
      "source": [
        "# Scikit-learn 패키지\n",
        "from sklearn.svm import SVC                     # Support Vector Classifier\n",
        "from sklearn.tree import DecisionTreeClassifier\n",
        "from sklearn.model_selection import train_test_split\n",
        "from sklearn.datasets import load_iris"
      ],
      "execution_count": 12,
      "outputs": []
    },
    {
      "cell_type": "code",
      "metadata": {
        "colab": {
          "base_uri": "https://localhost:8080/"
        },
        "id": "O2nbJQ0BYT3z",
        "outputId": "c1d0d6a9-546c-4a36-fc66-9026fdc9c9a4"
      },
      "source": [
        "iris = load_iris()\n",
        "iris.feature_names"
      ],
      "execution_count": 14,
      "outputs": [
        {
          "output_type": "execute_result",
          "data": {
            "text/plain": [
              "['sepal length (cm)',\n",
              " 'sepal width (cm)',\n",
              " 'petal length (cm)',\n",
              " 'petal width (cm)']"
            ]
          },
          "metadata": {},
          "execution_count": 14
        }
      ]
    },
    {
      "cell_type": "code",
      "metadata": {
        "colab": {
          "base_uri": "https://localhost:8080/"
        },
        "id": "zAj7Zq6TYZN4",
        "outputId": "29b532e1-6f95-4423-ccd3-dd43d708194c"
      },
      "source": [
        "iris.target_names"
      ],
      "execution_count": 15,
      "outputs": [
        {
          "output_type": "execute_result",
          "data": {
            "text/plain": [
              "array(['setosa', 'versicolor', 'virginica'], dtype='<U10')"
            ]
          },
          "metadata": {},
          "execution_count": 15
        }
      ]
    },
    {
      "cell_type": "markdown",
      "metadata": {
        "id": "cx5xl5cuZQuw"
      },
      "source": [
        "### 내가 모듈을 만들고 모듈안의 함수를 불러서 사용하는 방법"
      ]
    },
    {
      "cell_type": "code",
      "metadata": {
        "colab": {
          "base_uri": "https://localhost:8080/"
        },
        "id": "oL2k9KQgYuV7",
        "outputId": "974f47c4-ff8a-4ae2-cedb-ae653d123003"
      },
      "source": [
        "import my_util\n",
        "my_util.is_palindrome('소주 만병만 주소')"
      ],
      "execution_count": 16,
      "outputs": [
        {
          "output_type": "execute_result",
          "data": {
            "text/plain": [
              "True"
            ]
          },
          "metadata": {},
          "execution_count": 16
        }
      ]
    },
    {
      "cell_type": "code",
      "metadata": {
        "colab": {
          "base_uri": "https://localhost:8080/"
        },
        "id": "wmfDLVpcaYTh",
        "outputId": "9b2e20ba-c3df-4f80-d545-391ed4462bea"
      },
      "source": [
        "!ls -al"
      ],
      "execution_count": 17,
      "outputs": [
        {
          "output_type": "stream",
          "name": "stdout",
          "text": [
            "total 24\n",
            "drwxr-xr-x 1 root root 4096 Sep 30 06:34 .\n",
            "drwxr-xr-x 1 root root 4096 Sep 30 05:43 ..\n",
            "drwxr-xr-x 4 root root 4096 Sep 16 13:39 .config\n",
            "-rw-r--r-- 1 root root   54 Sep 30 06:33 my_util.py\n",
            "drwxr-xr-x 2 root root 4096 Sep 30 06:34 __pycache__\n",
            "drwxr-xr-x 1 root root 4096 Sep 16 13:40 sample_data\n"
          ]
        }
      ]
    },
    {
      "cell_type": "code",
      "metadata": {
        "colab": {
          "base_uri": "https://localhost:8080/"
        },
        "id": "jddsvinSahDv",
        "outputId": "5cb5117a-dd1d-43aa-f275-7b77802ef587"
      },
      "source": [
        "from my_util import is_palindrome\n",
        "is_palindrome('madam')"
      ],
      "execution_count": 18,
      "outputs": [
        {
          "output_type": "execute_result",
          "data": {
            "text/plain": [
              "True"
            ]
          },
          "metadata": {},
          "execution_count": 18
        }
      ]
    },
    {
      "cell_type": "code",
      "metadata": {
        "colab": {
          "base_uri": "https://localhost:8080/"
        },
        "id": "Mczlwcoia069",
        "outputId": "2145f2a0-6eb2-4454-cf12-1ccd312ab8a8"
      },
      "source": [
        "!mkdir lib\n",
        "!cp my_util.py lib\n",
        "!ls -l lib"
      ],
      "execution_count": 19,
      "outputs": [
        {
          "output_type": "stream",
          "name": "stdout",
          "text": [
            "total 4\n",
            "-rw-r--r-- 1 root root 54 Sep 30 06:38 my_util.py\n"
          ]
        }
      ]
    },
    {
      "cell_type": "code",
      "metadata": {
        "colab": {
          "base_uri": "https://localhost:8080/"
        },
        "id": "x1KZi_9XbJTb",
        "outputId": "28a084c1-4204-4093-b8aa-12153714e839"
      },
      "source": [
        "import lib.my_util as mu\n",
        "mu.is_palindrome('12345632')"
      ],
      "execution_count": 20,
      "outputs": [
        {
          "output_type": "execute_result",
          "data": {
            "text/plain": [
              "False"
            ]
          },
          "metadata": {},
          "execution_count": 20
        }
      ]
    },
    {
      "cell_type": "code",
      "metadata": {
        "id": "ptL8N4_CbcKf"
      },
      "source": [
        ""
      ],
      "execution_count": null,
      "outputs": []
    }
  ]
}