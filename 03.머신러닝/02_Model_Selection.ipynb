{
  "nbformat": 4,
  "nbformat_minor": 0,
  "metadata": {
    "colab": {
      "name": "02_Model_Selection.ipynb",
      "provenance": [],
      "collapsed_sections": []
    },
    "kernelspec": {
      "name": "python3",
      "display_name": "Python 3"
    },
    "language_info": {
      "name": "python"
    }
  },
  "cells": [
    {
      "cell_type": "markdown",
      "metadata": {
        "id": "VsHqmMaSivAa"
      },
      "source": [
        "# 모델 셀렉션 모듈"
      ]
    },
    {
      "cell_type": "markdown",
      "metadata": {
        "id": "374uxuQyi0-7"
      },
      "source": [
        "### 교차 검증"
      ]
    },
    {
      "cell_type": "code",
      "metadata": {
        "id": "JbqgwoXYiqNr"
      },
      "source": [
        "from sklearn.datasets import load_wine\n",
        "wine = load_wine()"
      ],
      "execution_count": 1,
      "outputs": []
    },
    {
      "cell_type": "code",
      "metadata": {
        "colab": {
          "base_uri": "https://localhost:8080/"
        },
        "id": "py09WWaDjIE6",
        "outputId": "ef8ffb0d-1892-4883-8e10-4fe6a268b223"
      },
      "source": [
        "wine.data.shape"
      ],
      "execution_count": 2,
      "outputs": [
        {
          "output_type": "execute_result",
          "data": {
            "text/plain": [
              "(178, 13)"
            ]
          },
          "metadata": {},
          "execution_count": 2
        }
      ]
    },
    {
      "cell_type": "code",
      "metadata": {
        "colab": {
          "base_uri": "https://localhost:8080/"
        },
        "id": "VX3G0Q7OjKpm",
        "outputId": "9250ff67-14a6-4a82-8502-d4c5132ae822"
      },
      "source": [
        "wine.target_names"
      ],
      "execution_count": 3,
      "outputs": [
        {
          "output_type": "execute_result",
          "data": {
            "text/plain": [
              "array(['class_0', 'class_1', 'class_2'], dtype='<U7')"
            ]
          },
          "metadata": {},
          "execution_count": 3
        }
      ]
    },
    {
      "cell_type": "code",
      "metadata": {
        "colab": {
          "base_uri": "https://localhost:8080/"
        },
        "id": "-zmmvSiqjShk",
        "outputId": "bc870bbc-26c3-4ee6-f3a3-78de7ad4a7b4"
      },
      "source": [
        "import numpy as np\n",
        "unique, counts = np.unique(wine.target, return_counts=True)\n",
        "unique, counts"
      ],
      "execution_count": 4,
      "outputs": [
        {
          "output_type": "execute_result",
          "data": {
            "text/plain": [
              "(array([0, 1, 2]), array([59, 71, 48]))"
            ]
          },
          "metadata": {},
          "execution_count": 4
        }
      ]
    },
    {
      "cell_type": "code",
      "metadata": {
        "id": "bWJfmWykjhxP"
      },
      "source": [
        "from sklearn.model_selection import cross_val_score\n",
        "from sklearn.tree import DecisionTreeClassifier\n",
        "dt_clf = DecisionTreeClassifier(random_state=2021)"
      ],
      "execution_count": 6,
      "outputs": []
    },
    {
      "cell_type": "code",
      "metadata": {
        "id": "WC3jZgfFj0H1"
      },
      "source": [
        "# wine 데이터에 대해 성능 지표는 정확도, 교차검증 세트는 5개\n",
        "scores = cross_val_score(dt_clf, wine.data, wine.target, scoring='accuracy', cv=5)"
      ],
      "execution_count": 7,
      "outputs": []
    },
    {
      "cell_type": "code",
      "metadata": {
        "colab": {
          "base_uri": "https://localhost:8080/"
        },
        "id": "-WxBb7HGkbOn",
        "outputId": "ba0c6553-5dce-4e1e-f5c6-33207ed9235f"
      },
      "source": [
        "print('교차 검증별 정확도:', np.round(scores, 4))\n",
        "print('평균 검증 정확도:', np.round(np.mean(scores), 4))"
      ],
      "execution_count": 8,
      "outputs": [
        {
          "output_type": "stream",
          "name": "stdout",
          "text": [
            "교차 검증별 정확도: [0.9167 0.8056 0.8056 0.9143 0.8571]\n",
            "평균 검증 정확도: 0.8598\n"
          ]
        }
      ]
    },
    {
      "cell_type": "markdown",
      "metadata": {
        "id": "sxIGbTKFlgOe"
      },
      "source": [
        "### 교차 검증과 최적 하이퍼파라메터 튜닝을 동시 수행 - GridSearchCV"
      ]
    },
    {
      "cell_type": "code",
      "metadata": {
        "id": "RRKzbKuDkjnG"
      },
      "source": [
        "from sklearn.model_selection import GridSearchCV\n",
        "from sklearn.model_selection import train_test_split"
      ],
      "execution_count": 10,
      "outputs": []
    },
    {
      "cell_type": "code",
      "metadata": {
        "colab": {
          "base_uri": "https://localhost:8080/"
        },
        "id": "VPL2VX9Img1W",
        "outputId": "90a70bf5-6bb9-45aa-cf47-1fdddd4b7e89"
      },
      "source": [
        "X_train, X_test, y_train, y_test = train_test_split(\n",
        "    wine.data, wine.target, stratify=wine.target, test_size=0.2, random_state=2021\n",
        ")\n",
        "X_train.shape, X_test.shape, y_train.shape, y_test.shape"
      ],
      "execution_count": 12,
      "outputs": [
        {
          "output_type": "execute_result",
          "data": {
            "text/plain": [
              "((142, 13), (36, 13), (142,), (36,))"
            ]
          },
          "metadata": {},
          "execution_count": 12
        }
      ]
    },
    {
      "cell_type": "code",
      "metadata": {
        "id": "TO54ip-RnV60"
      },
      "source": [
        "dt_clf = DecisionTreeClassifier(random_state=2021)"
      ],
      "execution_count": 13,
      "outputs": []
    },
    {
      "cell_type": "code",
      "metadata": {
        "id": "dMOxEPdcnmWg"
      },
      "source": [
        "param_grid = {'max_depth': [2,4,6],\n",
        "              'min_samples_leaf': [2,4]}"
      ],
      "execution_count": 14,
      "outputs": []
    },
    {
      "cell_type": "code",
      "metadata": {
        "id": "Kfc1AoE4oFUI"
      },
      "source": [
        "grid_dt = GridSearchCV(dt_clf, param_grid=param_grid, cv=5)"
      ],
      "execution_count": 15,
      "outputs": []
    },
    {
      "cell_type": "code",
      "metadata": {
        "colab": {
          "base_uri": "https://localhost:8080/"
        },
        "id": "eDUx8CM4odPD",
        "outputId": "ec3201c2-b3ed-46f8-efee-79523b144a52"
      },
      "source": [
        "grid_dt.fit(X_train, y_train)"
      ],
      "execution_count": 16,
      "outputs": [
        {
          "output_type": "execute_result",
          "data": {
            "text/plain": [
              "GridSearchCV(cv=5, error_score=nan,\n",
              "             estimator=DecisionTreeClassifier(ccp_alpha=0.0, class_weight=None,\n",
              "                                              criterion='gini', max_depth=None,\n",
              "                                              max_features=None,\n",
              "                                              max_leaf_nodes=None,\n",
              "                                              min_impurity_decrease=0.0,\n",
              "                                              min_impurity_split=None,\n",
              "                                              min_samples_leaf=1,\n",
              "                                              min_samples_split=2,\n",
              "                                              min_weight_fraction_leaf=0.0,\n",
              "                                              presort='deprecated',\n",
              "                                              random_state=2021,\n",
              "                                              splitter='best'),\n",
              "             iid='deprecated', n_jobs=None,\n",
              "             param_grid={'max_depth': [2, 4, 6], 'min_samples_leaf': [2, 4]},\n",
              "             pre_dispatch='2*n_jobs', refit=True, return_train_score=False,\n",
              "             scoring=None, verbose=0)"
            ]
          },
          "metadata": {},
          "execution_count": 16
        }
      ]
    },
    {
      "cell_type": "code",
      "metadata": {
        "colab": {
          "base_uri": "https://localhost:8080/"
        },
        "id": "hgpToM8xySJf",
        "outputId": "696efd19-1815-4dc6-f5ae-11f03f2bef9f"
      },
      "source": [
        "# 학습의 결과\n",
        "grid_dt.cv_results_"
      ],
      "execution_count": 17,
      "outputs": [
        {
          "output_type": "execute_result",
          "data": {
            "text/plain": [
              "{'mean_fit_time': array([0.00122776, 0.00077238, 0.00080452, 0.00079694, 0.00082641,\n",
              "        0.0008132 ]),\n",
              " 'mean_score_time': array([0.00034971, 0.00023561, 0.00022869, 0.00022774, 0.00022874,\n",
              "        0.00023665]),\n",
              " 'mean_test_score': array([0.80270936, 0.80985222, 0.85197044, 0.85935961, 0.85197044,\n",
              "        0.85935961]),\n",
              " 'param_max_depth': masked_array(data=[2, 2, 4, 4, 6, 6],\n",
              "              mask=[False, False, False, False, False, False],\n",
              "        fill_value='?',\n",
              "             dtype=object),\n",
              " 'param_min_samples_leaf': masked_array(data=[2, 4, 2, 4, 2, 4],\n",
              "              mask=[False, False, False, False, False, False],\n",
              "        fill_value='?',\n",
              "             dtype=object),\n",
              " 'params': [{'max_depth': 2, 'min_samples_leaf': 2},\n",
              "  {'max_depth': 2, 'min_samples_leaf': 4},\n",
              "  {'max_depth': 4, 'min_samples_leaf': 2},\n",
              "  {'max_depth': 4, 'min_samples_leaf': 4},\n",
              "  {'max_depth': 6, 'min_samples_leaf': 2},\n",
              "  {'max_depth': 6, 'min_samples_leaf': 4}],\n",
              " 'rank_test_score': array([6, 5, 3, 1, 3, 1], dtype=int32),\n",
              " 'split0_test_score': array([0.89655172, 0.89655172, 0.93103448, 0.96551724, 0.93103448,\n",
              "        0.96551724]),\n",
              " 'split1_test_score': array([0.72413793, 0.72413793, 0.79310345, 0.72413793, 0.79310345,\n",
              "        0.72413793]),\n",
              " 'split2_test_score': array([0.82142857, 0.85714286, 0.85714286, 0.89285714, 0.85714286,\n",
              "        0.89285714]),\n",
              " 'split3_test_score': array([0.85714286, 0.85714286, 0.89285714, 0.92857143, 0.89285714,\n",
              "        0.92857143]),\n",
              " 'split4_test_score': array([0.71428571, 0.71428571, 0.78571429, 0.78571429, 0.78571429,\n",
              "        0.78571429]),\n",
              " 'std_fit_time': array([4.32272296e-04, 3.38831640e-05, 5.76595703e-05, 5.57990352e-05,\n",
              "        6.68059580e-05, 3.18680658e-05]),\n",
              " 'std_score_time': array([1.03337158e-04, 1.20701039e-05, 1.07488446e-05, 2.65703146e-05,\n",
              "        2.47434840e-05, 2.55522436e-05]),\n",
              " 'std_test_score': array([0.07226619, 0.07545795, 0.05622242, 0.09043267, 0.05622242,\n",
              "        0.09043267])}"
            ]
          },
          "metadata": {},
          "execution_count": 17
        }
      ]
    },
    {
      "cell_type": "code",
      "metadata": {
        "colab": {
          "base_uri": "https://localhost:8080/"
        },
        "id": "_SulrccXorLh",
        "outputId": "025d7461-7d85-47c1-b4a5-f5840925f923"
      },
      "source": [
        "# 최적 파라메터\n",
        "grid_dt.best_params_"
      ],
      "execution_count": 18,
      "outputs": [
        {
          "output_type": "execute_result",
          "data": {
            "text/plain": [
              "{'max_depth': 4, 'min_samples_leaf': 4}"
            ]
          },
          "metadata": {},
          "execution_count": 18
        }
      ]
    },
    {
      "cell_type": "code",
      "metadata": {
        "colab": {
          "base_uri": "https://localhost:8080/"
        },
        "id": "P8Ey-C1p6kXp",
        "outputId": "11a8796e-a7a5-4740-98ce-a383c8e53df8"
      },
      "source": [
        "# 최고 정확도\n",
        "grid_dt.best_score_"
      ],
      "execution_count": 19,
      "outputs": [
        {
          "output_type": "execute_result",
          "data": {
            "text/plain": [
              "0.8593596059113301"
            ]
          },
          "metadata": {},
          "execution_count": 19
        }
      ]
    },
    {
      "cell_type": "code",
      "metadata": {
        "colab": {
          "base_uri": "https://localhost:8080/"
        },
        "id": "Kasel-tT6xBv",
        "outputId": "bc6bc0de-5b50-4a82-8c51-616a8557d8c8"
      },
      "source": [
        "# 최고 정확도를 가지는 최적 파라메터로 학습한 분류기\n",
        "best_estimator = grid_dt.best_estimator_\n",
        "best_estimator.score(X_test, y_test)"
      ],
      "execution_count": 20,
      "outputs": [
        {
          "output_type": "execute_result",
          "data": {
            "text/plain": [
              "0.9444444444444444"
            ]
          },
          "metadata": {},
          "execution_count": 20
        }
      ]
    },
    {
      "cell_type": "markdown",
      "metadata": {
        "id": "oeh4Tgjj7iPI"
      },
      "source": [
        "- 파라메터 튜닝은 지속해서 수행하여야 함"
      ]
    },
    {
      "cell_type": "code",
      "metadata": {
        "colab": {
          "base_uri": "https://localhost:8080/"
        },
        "id": "u2L2g_uE7KkD",
        "outputId": "1d005017-9a5f-4da5-a1c7-14279a24bea1"
      },
      "source": [
        "param_grid = {\n",
        "    'max_depth': [3,4,5], 'min_samples_leaf': [3,4,5]\n",
        "    #'max_depth': [2,4,6], 'min_samples_leaf': [2,4]\n",
        "}\n",
        "grid_dt = GridSearchCV(dt_clf, param_grid=param_grid, cv=5)\n",
        "grid_dt.fit(X_train, y_train)\n",
        "grid_dt.best_params_"
      ],
      "execution_count": 21,
      "outputs": [
        {
          "output_type": "execute_result",
          "data": {
            "text/plain": [
              "{'max_depth': 4, 'min_samples_leaf': 3}"
            ]
          },
          "metadata": {},
          "execution_count": 21
        }
      ]
    },
    {
      "cell_type": "code",
      "metadata": {
        "colab": {
          "base_uri": "https://localhost:8080/"
        },
        "id": "fl3_z5L88Gts",
        "outputId": "3b432167-212f-42df-fea6-f9eb83755ebf"
      },
      "source": [
        "best_estimator = grid_dt.best_estimator_\n",
        "best_estimator.score(X_test, y_test)"
      ],
      "execution_count": 22,
      "outputs": [
        {
          "output_type": "execute_result",
          "data": {
            "text/plain": [
              "0.9722222222222222"
            ]
          },
          "metadata": {},
          "execution_count": 22
        }
      ]
    },
    {
      "cell_type": "code",
      "metadata": {
        "id": "hmvG-30v8Ny9"
      },
      "source": [
        ""
      ],
      "execution_count": null,
      "outputs": []
    }
  ]
}