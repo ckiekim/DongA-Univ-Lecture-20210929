{
  "nbformat": 4,
  "nbformat_minor": 0,
  "metadata": {
    "colab": {
      "name": "41_군집화.ipynb",
      "provenance": [],
      "collapsed_sections": []
    },
    "kernelspec": {
      "name": "python3",
      "display_name": "Python 3"
    },
    "language_info": {
      "name": "python"
    }
  },
  "cells": [
    {
      "cell_type": "markdown",
      "metadata": {
        "id": "0XJizORUyA0y"
      },
      "source": [
        "# 군집화(Clustering) - K-Means Algorithm"
      ]
    },
    {
      "cell_type": "code",
      "metadata": {
        "id": "A3OeKWPNx9Iv"
      },
      "source": [
        "import numpy as np\n",
        "import pandas as pd\n",
        "import matplotlib.pyplot as plt"
      ],
      "execution_count": null,
      "outputs": []
    },
    {
      "cell_type": "markdown",
      "metadata": {
        "id": "LrRPv9m7yaNA"
      },
      "source": [
        "### Iris 데이터를 차원 축소"
      ]
    },
    {
      "cell_type": "code",
      "metadata": {
        "id": "61nKr4kcyQUI"
      },
      "source": [
        "from sklearn.datasets import load_iris\n",
        "from sklearn.preprocessing import StandardScaler\n",
        "from sklearn.decomposition import PCA"
      ],
      "execution_count": null,
      "outputs": []
    },
    {
      "cell_type": "code",
      "metadata": {
        "id": "u_dTqKIzyrPz"
      },
      "source": [
        "iris = load_iris()\n",
        "scaler = StandardScaler()\n",
        "iris_std = scaler.fit_transform(iris.data)"
      ],
      "execution_count": null,
      "outputs": []
    },
    {
      "cell_type": "code",
      "metadata": {
        "id": "xOfW3wzNy25Q"
      },
      "source": [
        "pca = PCA(n_components=2)\n",
        "iris_pca = pca.fit_transform(iris_std)"
      ],
      "execution_count": null,
      "outputs": []
    },
    {
      "cell_type": "code",
      "metadata": {
        "colab": {
          "base_uri": "https://localhost:8080/",
          "height": 202
        },
        "id": "un4hwCKyzHwR",
        "outputId": "5d9a9298-580c-4c98-e14e-aa96def74513"
      },
      "source": [
        "df = pd.DataFrame(iris.data, columns=['sl','sw','pl','pw'])\n",
        "df['PC1'] = iris_pca[:,0]\n",
        "df['PC2'] = iris_pca[:,1]\n",
        "df.head()"
      ],
      "execution_count": null,
      "outputs": [
        {
          "output_type": "execute_result",
          "data": {
            "text/html": [
              "<div>\n",
              "<style scoped>\n",
              "    .dataframe tbody tr th:only-of-type {\n",
              "        vertical-align: middle;\n",
              "    }\n",
              "\n",
              "    .dataframe tbody tr th {\n",
              "        vertical-align: top;\n",
              "    }\n",
              "\n",
              "    .dataframe thead th {\n",
              "        text-align: right;\n",
              "    }\n",
              "</style>\n",
              "<table border=\"1\" class=\"dataframe\">\n",
              "  <thead>\n",
              "    <tr style=\"text-align: right;\">\n",
              "      <th></th>\n",
              "      <th>sl</th>\n",
              "      <th>sw</th>\n",
              "      <th>pl</th>\n",
              "      <th>pw</th>\n",
              "      <th>PC1</th>\n",
              "      <th>PC2</th>\n",
              "    </tr>\n",
              "  </thead>\n",
              "  <tbody>\n",
              "    <tr>\n",
              "      <th>0</th>\n",
              "      <td>5.1</td>\n",
              "      <td>3.5</td>\n",
              "      <td>1.4</td>\n",
              "      <td>0.2</td>\n",
              "      <td>-2.264703</td>\n",
              "      <td>0.480027</td>\n",
              "    </tr>\n",
              "    <tr>\n",
              "      <th>1</th>\n",
              "      <td>4.9</td>\n",
              "      <td>3.0</td>\n",
              "      <td>1.4</td>\n",
              "      <td>0.2</td>\n",
              "      <td>-2.080961</td>\n",
              "      <td>-0.674134</td>\n",
              "    </tr>\n",
              "    <tr>\n",
              "      <th>2</th>\n",
              "      <td>4.7</td>\n",
              "      <td>3.2</td>\n",
              "      <td>1.3</td>\n",
              "      <td>0.2</td>\n",
              "      <td>-2.364229</td>\n",
              "      <td>-0.341908</td>\n",
              "    </tr>\n",
              "    <tr>\n",
              "      <th>3</th>\n",
              "      <td>4.6</td>\n",
              "      <td>3.1</td>\n",
              "      <td>1.5</td>\n",
              "      <td>0.2</td>\n",
              "      <td>-2.299384</td>\n",
              "      <td>-0.597395</td>\n",
              "    </tr>\n",
              "    <tr>\n",
              "      <th>4</th>\n",
              "      <td>5.0</td>\n",
              "      <td>3.6</td>\n",
              "      <td>1.4</td>\n",
              "      <td>0.2</td>\n",
              "      <td>-2.389842</td>\n",
              "      <td>0.646835</td>\n",
              "    </tr>\n",
              "  </tbody>\n",
              "</table>\n",
              "</div>"
            ],
            "text/plain": [
              "    sl   sw   pl   pw       PC1       PC2\n",
              "0  5.1  3.5  1.4  0.2 -2.264703  0.480027\n",
              "1  4.9  3.0  1.4  0.2 -2.080961 -0.674134\n",
              "2  4.7  3.2  1.3  0.2 -2.364229 -0.341908\n",
              "3  4.6  3.1  1.5  0.2 -2.299384 -0.597395\n",
              "4  5.0  3.6  1.4  0.2 -2.389842  0.646835"
            ]
          },
          "metadata": {},
          "execution_count": 5
        }
      ]
    },
    {
      "cell_type": "markdown",
      "metadata": {
        "id": "nKx-f1zhz0A4"
      },
      "source": [
        "### K-Means 모델 생성/학습"
      ]
    },
    {
      "cell_type": "code",
      "metadata": {
        "id": "OJD-_76JzlSP"
      },
      "source": [
        "from sklearn.cluster import KMeans\n",
        "kmeans = KMeans(n_clusters=3, random_state=2021)"
      ],
      "execution_count": null,
      "outputs": []
    },
    {
      "cell_type": "code",
      "metadata": {
        "colab": {
          "base_uri": "https://localhost:8080/"
        },
        "id": "xMWuNCcN0IPW",
        "outputId": "b5424dc9-60ab-49a8-e5e6-6cdd12896c71"
      },
      "source": [
        "kmeans.fit(iris_std)"
      ],
      "execution_count": null,
      "outputs": [
        {
          "output_type": "execute_result",
          "data": {
            "text/plain": [
              "KMeans(algorithm='auto', copy_x=True, init='k-means++', max_iter=300,\n",
              "       n_clusters=3, n_init=10, n_jobs=None, precompute_distances='auto',\n",
              "       random_state=2021, tol=0.0001, verbose=0)"
            ]
          },
          "metadata": {},
          "execution_count": 7
        }
      ]
    },
    {
      "cell_type": "code",
      "metadata": {
        "colab": {
          "base_uri": "https://localhost:8080/"
        },
        "id": "KQEgF-Hl0b5B",
        "outputId": "3b51323f-25e3-4d9e-dc7f-eb863189b9a0"
      },
      "source": [
        "kmeans.labels_"
      ],
      "execution_count": null,
      "outputs": [
        {
          "output_type": "execute_result",
          "data": {
            "text/plain": [
              "array([0, 0, 0, 0, 0, 0, 0, 0, 0, 0, 0, 0, 0, 0, 0, 0, 0, 0, 0, 0, 0, 0,\n",
              "       0, 0, 0, 0, 0, 0, 0, 0, 0, 0, 0, 0, 0, 0, 0, 0, 0, 0, 0, 0, 0, 0,\n",
              "       0, 0, 0, 0, 0, 0, 1, 1, 1, 2, 2, 2, 1, 2, 2, 2, 2, 2, 2, 2, 2, 1,\n",
              "       2, 2, 2, 2, 1, 2, 2, 2, 2, 1, 1, 1, 2, 2, 2, 2, 2, 2, 2, 1, 1, 2,\n",
              "       2, 2, 2, 2, 2, 2, 2, 2, 2, 2, 2, 2, 1, 2, 1, 1, 1, 1, 2, 1, 1, 1,\n",
              "       1, 1, 1, 2, 2, 1, 1, 1, 1, 2, 1, 2, 1, 2, 1, 1, 2, 1, 1, 1, 1, 1,\n",
              "       1, 2, 2, 1, 1, 1, 2, 1, 1, 1, 2, 1, 1, 1, 2, 1, 1, 2], dtype=int32)"
            ]
          },
          "metadata": {},
          "execution_count": 8
        }
      ]
    },
    {
      "cell_type": "code",
      "metadata": {
        "colab": {
          "base_uri": "https://localhost:8080/",
          "height": 202
        },
        "id": "3kQufp6A0fG7",
        "outputId": "5f87862c-105d-4e99-d346-cefe711fc942"
      },
      "source": [
        "df['target'] = iris.target\n",
        "df['cluster'] = kmeans.labels_\n",
        "df.tail()"
      ],
      "execution_count": null,
      "outputs": [
        {
          "output_type": "execute_result",
          "data": {
            "text/html": [
              "<div>\n",
              "<style scoped>\n",
              "    .dataframe tbody tr th:only-of-type {\n",
              "        vertical-align: middle;\n",
              "    }\n",
              "\n",
              "    .dataframe tbody tr th {\n",
              "        vertical-align: top;\n",
              "    }\n",
              "\n",
              "    .dataframe thead th {\n",
              "        text-align: right;\n",
              "    }\n",
              "</style>\n",
              "<table border=\"1\" class=\"dataframe\">\n",
              "  <thead>\n",
              "    <tr style=\"text-align: right;\">\n",
              "      <th></th>\n",
              "      <th>sl</th>\n",
              "      <th>sw</th>\n",
              "      <th>pl</th>\n",
              "      <th>pw</th>\n",
              "      <th>PC1</th>\n",
              "      <th>PC2</th>\n",
              "      <th>target</th>\n",
              "      <th>cluster</th>\n",
              "    </tr>\n",
              "  </thead>\n",
              "  <tbody>\n",
              "    <tr>\n",
              "      <th>145</th>\n",
              "      <td>6.7</td>\n",
              "      <td>3.0</td>\n",
              "      <td>5.2</td>\n",
              "      <td>2.3</td>\n",
              "      <td>1.870503</td>\n",
              "      <td>0.386966</td>\n",
              "      <td>2</td>\n",
              "      <td>1</td>\n",
              "    </tr>\n",
              "    <tr>\n",
              "      <th>146</th>\n",
              "      <td>6.3</td>\n",
              "      <td>2.5</td>\n",
              "      <td>5.0</td>\n",
              "      <td>1.9</td>\n",
              "      <td>1.564580</td>\n",
              "      <td>-0.896687</td>\n",
              "      <td>2</td>\n",
              "      <td>2</td>\n",
              "    </tr>\n",
              "    <tr>\n",
              "      <th>147</th>\n",
              "      <td>6.5</td>\n",
              "      <td>3.0</td>\n",
              "      <td>5.2</td>\n",
              "      <td>2.0</td>\n",
              "      <td>1.521170</td>\n",
              "      <td>0.269069</td>\n",
              "      <td>2</td>\n",
              "      <td>1</td>\n",
              "    </tr>\n",
              "    <tr>\n",
              "      <th>148</th>\n",
              "      <td>6.2</td>\n",
              "      <td>3.4</td>\n",
              "      <td>5.4</td>\n",
              "      <td>2.3</td>\n",
              "      <td>1.372788</td>\n",
              "      <td>1.011254</td>\n",
              "      <td>2</td>\n",
              "      <td>1</td>\n",
              "    </tr>\n",
              "    <tr>\n",
              "      <th>149</th>\n",
              "      <td>5.9</td>\n",
              "      <td>3.0</td>\n",
              "      <td>5.1</td>\n",
              "      <td>1.8</td>\n",
              "      <td>0.960656</td>\n",
              "      <td>-0.024332</td>\n",
              "      <td>2</td>\n",
              "      <td>2</td>\n",
              "    </tr>\n",
              "  </tbody>\n",
              "</table>\n",
              "</div>"
            ],
            "text/plain": [
              "      sl   sw   pl   pw       PC1       PC2  target  cluster\n",
              "145  6.7  3.0  5.2  2.3  1.870503  0.386966       2        1\n",
              "146  6.3  2.5  5.0  1.9  1.564580 -0.896687       2        2\n",
              "147  6.5  3.0  5.2  2.0  1.521170  0.269069       2        1\n",
              "148  6.2  3.4  5.4  2.3  1.372788  1.011254       2        1\n",
              "149  5.9  3.0  5.1  1.8  0.960656 -0.024332       2        2"
            ]
          },
          "metadata": {},
          "execution_count": 10
        }
      ]
    },
    {
      "cell_type": "code",
      "metadata": {
        "colab": {
          "base_uri": "https://localhost:8080/",
          "height": 232
        },
        "id": "P39DVzmv04Of",
        "outputId": "8d2620f9-370c-4c8a-bdca-fceaa62da1a1"
      },
      "source": [
        "# clustering 결과\n",
        "df.groupby(['target','cluster'])[['sl']].count()"
      ],
      "execution_count": null,
      "outputs": [
        {
          "output_type": "execute_result",
          "data": {
            "text/html": [
              "<div>\n",
              "<style scoped>\n",
              "    .dataframe tbody tr th:only-of-type {\n",
              "        vertical-align: middle;\n",
              "    }\n",
              "\n",
              "    .dataframe tbody tr th {\n",
              "        vertical-align: top;\n",
              "    }\n",
              "\n",
              "    .dataframe thead th {\n",
              "        text-align: right;\n",
              "    }\n",
              "</style>\n",
              "<table border=\"1\" class=\"dataframe\">\n",
              "  <thead>\n",
              "    <tr style=\"text-align: right;\">\n",
              "      <th></th>\n",
              "      <th></th>\n",
              "      <th>sl</th>\n",
              "    </tr>\n",
              "    <tr>\n",
              "      <th>target</th>\n",
              "      <th>cluster</th>\n",
              "      <th></th>\n",
              "    </tr>\n",
              "  </thead>\n",
              "  <tbody>\n",
              "    <tr>\n",
              "      <th>0</th>\n",
              "      <th>0</th>\n",
              "      <td>50</td>\n",
              "    </tr>\n",
              "    <tr>\n",
              "      <th rowspan=\"2\" valign=\"top\">1</th>\n",
              "      <th>1</th>\n",
              "      <td>11</td>\n",
              "    </tr>\n",
              "    <tr>\n",
              "      <th>2</th>\n",
              "      <td>39</td>\n",
              "    </tr>\n",
              "    <tr>\n",
              "      <th rowspan=\"2\" valign=\"top\">2</th>\n",
              "      <th>1</th>\n",
              "      <td>36</td>\n",
              "    </tr>\n",
              "    <tr>\n",
              "      <th>2</th>\n",
              "      <td>14</td>\n",
              "    </tr>\n",
              "  </tbody>\n",
              "</table>\n",
              "</div>"
            ],
            "text/plain": [
              "                sl\n",
              "target cluster    \n",
              "0      0        50\n",
              "1      1        11\n",
              "       2        39\n",
              "2      1        36\n",
              "       2        14"
            ]
          },
          "metadata": {},
          "execution_count": 14
        }
      ]
    },
    {
      "cell_type": "markdown",
      "metadata": {
        "id": "KkwRk-Y318UH"
      },
      "source": [
        "### 데이터 시각화\n",
        "- 군집화한 결과를 차원축소하여 시각화"
      ]
    },
    {
      "cell_type": "code",
      "metadata": {
        "id": "lFdTfyxP1Wl2",
        "colab": {
          "base_uri": "https://localhost:8080/",
          "height": 278
        },
        "outputId": "690ed339-2992-4a28-cc64-33397119ca24"
      },
      "source": [
        "markers = ['^','s','o']\n",
        "\n",
        "for i, marker in enumerate(markers):\n",
        "    x_data = df[df.cluster == i]['PC1']\n",
        "    y_data = df[df.cluster == i]['PC2']\n",
        "    plt.scatter(x_data, y_data, marker=marker)\n",
        "\n",
        "plt.xlabel('PC1')\n",
        "plt.ylabel('PC2')\n",
        "plt.show()"
      ],
      "execution_count": 16,
      "outputs": [
        {
          "output_type": "display_data",
          "data": {
            "image/png": "[encoded data removed]",
            "text/plain": [
              "<Figure size 432x288 with 1 Axes>"
            ]
          },
          "metadata": {
            "needs_background": "light"
          }
        }
      ]
    },
    {
      "cell_type": "markdown",
      "metadata": {
        "id": "MlNf6fuN2u5B"
      },
      "source": [
        "- 원 데이터를 차원축소하여 시각화"
      ]
    },
    {
      "cell_type": "code",
      "metadata": {
        "colab": {
          "base_uri": "https://localhost:8080/",
          "height": 278
        },
        "id": "55Rjm7NM2goB",
        "outputId": "1183d017-525d-4864-d047-5a42c6c6ba91"
      },
      "source": [
        "for i, marker in enumerate(markers):\n",
        "    x_data = df[df.target == i]['PC1']\n",
        "    y_data = df[df.target == i]['PC2']\n",
        "    plt.scatter(x_data, y_data, marker=marker,\n",
        "                label=iris.target_names[i])\n",
        "\n",
        "plt.legend()\n",
        "plt.xlabel('PC1')\n",
        "plt.ylabel('PC2')\n",
        "plt.show()"
      ],
      "execution_count": 17,
      "outputs": [
        {
          "output_type": "display_data",
          "data": {
            "image/png": "[encoded data removed]",
            "text/plain": [
              "<Figure size 432x288 with 1 Axes>"
            ]
          },
          "metadata": {
            "needs_background": "light"
          }
        }
      ]
    },
    {
      "cell_type": "markdown",
      "metadata": {
        "id": "yoH5sHI56mse"
      },
      "source": [
        "- 비교 그림"
      ]
    },
    {
      "cell_type": "code",
      "metadata": {
        "colab": {
          "base_uri": "https://localhost:8080/",
          "height": 294
        },
        "id": "q0gi5EU-29A9",
        "outputId": "4a6ac5c5-ed24-497e-fc90-37f64e2ec622"
      },
      "source": [
        "fig, axs = plt.subplots(1, 2, figsize=(12,4))\n",
        "for k, column in enumerate(['target','cluster']):\n",
        "    ax = axs[k]\n",
        "    for i, marker in enumerate(markers):\n",
        "        x_data = df[df[column] == i]['PC1']\n",
        "        y_data = df[df[column] == i]['PC2']\n",
        "        ax.scatter(x_data, y_data, marker=marker,\n",
        "                    label=iris.target_names[i])\n",
        "        ax.set_xlabel('PC1')\n",
        "        ax.set_ylabel('PC2')\n",
        "        \n",
        "    if k == 0:      # target column, 즉 original\n",
        "        ax.legend()\n",
        "        ax.set_title('Original Data')\n",
        "    else:\n",
        "        ax.set_title('Clustered Data')\n",
        "\n",
        "plt.show()"
      ],
      "execution_count": 21,
      "outputs": [
        {
          "output_type": "display_data",
          "data": {
            "image/png": "[encoded data removed]",
            "text/plain": [
              "<Figure size 864x288 with 2 Axes>"
            ]
          },
          "metadata": {
            "needs_background": "light"
          }
        }
      ]
    },
    {
      "cell_type": "code",
      "metadata": {
        "id": "YubYGntu70GI"
      },
      "source": [
        ""
      ],
      "execution_count": null,
      "outputs": []
    }
  ]
}