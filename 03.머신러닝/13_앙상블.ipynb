{
  "nbformat": 4,
  "nbformat_minor": 0,
  "metadata": {
    "colab": {
      "name": "13_앙상블.ipynb",
      "provenance": [],
      "collapsed_sections": []
    },
    "kernelspec": {
      "name": "python3",
      "display_name": "Python 3"
    },
    "language_info": {
      "name": "python"
    }
  },
  "cells": [
    {
      "cell_type": "markdown",
      "metadata": {
        "id": "En1DERtyop2k"
      },
      "source": [
        "# 앙상블(Ensemble)"
      ]
    },
    {
      "cell_type": "code",
      "metadata": {
        "id": "DMnPsB7uolht"
      },
      "source": [
        "from sklearn.datasets import load_breast_cancer\n",
        "cancer = load_breast_cancer()"
      ],
      "execution_count": 1,
      "outputs": []
    },
    {
      "cell_type": "code",
      "metadata": {
        "id": "OikCMSkLqr8C"
      },
      "source": [
        "from sklearn.preprocessing import MinMaxScaler\n",
        "scaler = MinMaxScaler()\n",
        "cancer_scaled = scaler.fit_transform(cancer.data)"
      ],
      "execution_count": 2,
      "outputs": []
    },
    {
      "cell_type": "code",
      "metadata": {
        "id": "x3REQrKWq6H-"
      },
      "source": [
        "from sklearn.model_selection import train_test_split\n",
        "X_train, X_test, y_train, y_test = train_test_split(\n",
        "    cancer_scaled, cancer.target, stratify=cancer.target,\n",
        "    test_size=0.2, random_state=2021\n",
        ")"
      ],
      "execution_count": 3,
      "outputs": []
    },
    {
      "cell_type": "markdown",
      "metadata": {
        "id": "Kk4Cef1PrWkd"
      },
      "source": [
        "### 앙상블 학습을 위한 분류기 - 하드 보팅\n",
        "- 로지스틱 회귀\n",
        "- 서포트 벡터 머신\n",
        "- K-최근접 이웃"
      ]
    },
    {
      "cell_type": "code",
      "metadata": {
        "id": "76phLXA2rP-z"
      },
      "source": [
        "from sklearn.linear_model import LogisticRegression\n",
        "from sklearn.svm import SVC\n",
        "from sklearn.neighbors import KNeighborsClassifier"
      ],
      "execution_count": 4,
      "outputs": []
    },
    {
      "cell_type": "code",
      "metadata": {
        "id": "ffFxNg6irx3c"
      },
      "source": [
        "lrc = LogisticRegression(random_state=2021)\n",
        "svc = SVC(random_state=2021)\n",
        "knn = KNeighborsClassifier()"
      ],
      "execution_count": 5,
      "outputs": []
    },
    {
      "cell_type": "code",
      "metadata": {
        "id": "g5gkg5idsHmf"
      },
      "source": [
        "from sklearn.ensemble import VotingClassifier\n",
        "\n",
        "voc = VotingClassifier(\n",
        "    estimators=[('LR',lrc), ('SVC',svc), ('KNN',knn)],\n",
        "    voting='hard'\n",
        ")"
      ],
      "execution_count": 6,
      "outputs": []
    },
    {
      "cell_type": "code",
      "metadata": {
        "id": "TbqVbWvTssCY"
      },
      "source": [
        "voc.fit(X_train, y_train)\n",
        "pred_vo = voc.predict(X_test)"
      ],
      "execution_count": 7,
      "outputs": []
    },
    {
      "cell_type": "code",
      "metadata": {
        "colab": {
          "base_uri": "https://localhost:8080/"
        },
        "id": "2vDCaJo1tDDm",
        "outputId": "76dab21c-f722-45d5-d2da-907c2e3e58e1"
      },
      "source": [
        "from sklearn.metrics import accuracy_score\n",
        "accuracy_score(y_test, pred_vo)"
      ],
      "execution_count": 8,
      "outputs": [
        {
          "output_type": "execute_result",
          "data": {
            "text/plain": [
              "0.9824561403508771"
            ]
          },
          "metadata": {},
          "execution_count": 8
        }
      ]
    },
    {
      "cell_type": "markdown",
      "metadata": {
        "id": "4vePk97dte-t"
      },
      "source": [
        "### 소프트 보팅\n",
        "- 로지스틱 회귀\n",
        "- K-최근접 이웃"
      ]
    },
    {
      "cell_type": "code",
      "metadata": {
        "colab": {
          "base_uri": "https://localhost:8080/"
        },
        "id": "gN4YY4ybtMVh",
        "outputId": "2354384a-2d0c-40dc-a060-33c715ea738f"
      },
      "source": [
        "voc = VotingClassifier(\n",
        "    estimators=[('LR',lrc), ('KNN',knn)],\n",
        "    voting='soft'\n",
        ")\n",
        "voc.fit(X_train, y_train)\n",
        "pred_vo = voc.predict(X_test)\n",
        "accuracy_score(y_test, pred_vo)"
      ],
      "execution_count": 9,
      "outputs": [
        {
          "output_type": "execute_result",
          "data": {
            "text/plain": [
              "0.9824561403508771"
            ]
          },
          "metadata": {},
          "execution_count": 9
        }
      ]
    },
    {
      "cell_type": "code",
      "metadata": {
        "colab": {
          "base_uri": "https://localhost:8080/"
        },
        "id": "VrjWEx60t8rQ",
        "outputId": "96ed6175-cd40-42db-97f8-ad4014162cd0"
      },
      "source": [
        "prob = voc.predict_proba(X_test)\n",
        "prob[:5]"
      ],
      "execution_count": 10,
      "outputs": [
        {
          "output_type": "execute_result",
          "data": {
            "text/plain": [
              "array([[0.38174111, 0.61825889],\n",
              "       [0.98581471, 0.01418529],\n",
              "       [0.19347825, 0.80652175],\n",
              "       [0.01066731, 0.98933269],\n",
              "       [0.02741955, 0.97258045]])"
            ]
          },
          "metadata": {},
          "execution_count": 10
        }
      ]
    },
    {
      "cell_type": "markdown",
      "metadata": {
        "id": "mFm3vg5dui43"
      },
      "source": [
        "### Random Forest"
      ]
    },
    {
      "cell_type": "code",
      "metadata": {
        "id": "3kr-SiyLuJti"
      },
      "source": [
        "from sklearn.ensemble import RandomForestClassifier"
      ],
      "execution_count": 11,
      "outputs": []
    },
    {
      "cell_type": "code",
      "metadata": {
        "colab": {
          "base_uri": "https://localhost:8080/"
        },
        "id": "zUvWhTZWuuS7",
        "outputId": "c8166728-037c-4af1-bf51-4e20d49a473a"
      },
      "source": [
        "rfc = RandomForestClassifier(random_state=2021)\n",
        "rfc.fit(X_train, y_train)\n",
        "rfc.score(X_test, y_test)"
      ],
      "execution_count": 12,
      "outputs": [
        {
          "output_type": "execute_result",
          "data": {
            "text/plain": [
              "0.9736842105263158"
            ]
          },
          "metadata": {},
          "execution_count": 12
        }
      ]
    },
    {
      "cell_type": "code",
      "metadata": {
        "colab": {
          "base_uri": "https://localhost:8080/"
        },
        "id": "b4a0_hkhu_-i",
        "outputId": "804550aa-3db8-4cd1-e9ea-483c4ca5715f"
      },
      "source": [
        "rfc.get_params()"
      ],
      "execution_count": 13,
      "outputs": [
        {
          "output_type": "execute_result",
          "data": {
            "text/plain": [
              "{'bootstrap': True,\n",
              " 'ccp_alpha': 0.0,\n",
              " 'class_weight': None,\n",
              " 'criterion': 'gini',\n",
              " 'max_depth': None,\n",
              " 'max_features': 'auto',\n",
              " 'max_leaf_nodes': None,\n",
              " 'max_samples': None,\n",
              " 'min_impurity_decrease': 0.0,\n",
              " 'min_impurity_split': None,\n",
              " 'min_samples_leaf': 1,\n",
              " 'min_samples_split': 2,\n",
              " 'min_weight_fraction_leaf': 0.0,\n",
              " 'n_estimators': 100,\n",
              " 'n_jobs': None,\n",
              " 'oob_score': False,\n",
              " 'random_state': 2021,\n",
              " 'verbose': 0,\n",
              " 'warm_start': False}"
            ]
          },
          "metadata": {},
          "execution_count": 13
        }
      ]
    },
    {
      "cell_type": "markdown",
      "metadata": {
        "id": "18GdwCVQwaCj"
      },
      "source": [
        "### K-Nearest Neighbor"
      ]
    },
    {
      "cell_type": "code",
      "metadata": {
        "id": "rHT1w9i9vKAO"
      },
      "source": [
        "from sklearn.neighbors import KNeighborsClassifier"
      ],
      "execution_count": 14,
      "outputs": []
    },
    {
      "cell_type": "code",
      "metadata": {
        "colab": {
          "base_uri": "https://localhost:8080/"
        },
        "id": "1eJUPwX-wkOZ",
        "outputId": "448dd59f-02cd-4d2c-ec44-603587c4b44c"
      },
      "source": [
        "knn = KNeighborsClassifier()        # n_neighbors=5 가 디폴트\n",
        "knn.fit(X_train, y_train)\n",
        "knn.score(X_test, y_test)"
      ],
      "execution_count": 15,
      "outputs": [
        {
          "output_type": "execute_result",
          "data": {
            "text/plain": [
              "0.9824561403508771"
            ]
          },
          "metadata": {},
          "execution_count": 15
        }
      ]
    },
    {
      "cell_type": "code",
      "metadata": {
        "colab": {
          "base_uri": "https://localhost:8080/"
        },
        "id": "d9Hq_kFSwvtd",
        "outputId": "91b38ed1-76c6-4da1-8f81-05f6aafdd007"
      },
      "source": [
        "knn.get_params()"
      ],
      "execution_count": 16,
      "outputs": [
        {
          "output_type": "execute_result",
          "data": {
            "text/plain": [
              "{'algorithm': 'auto',\n",
              " 'leaf_size': 30,\n",
              " 'metric': 'minkowski',\n",
              " 'metric_params': None,\n",
              " 'n_jobs': None,\n",
              " 'n_neighbors': 5,\n",
              " 'p': 2,\n",
              " 'weights': 'uniform'}"
            ]
          },
          "metadata": {},
          "execution_count": 16
        }
      ]
    },
    {
      "cell_type": "markdown",
      "metadata": {
        "id": "n60rhLTZxE_i"
      },
      "source": [
        "### 로지스틱 회귀"
      ]
    },
    {
      "cell_type": "code",
      "metadata": {
        "id": "FJs5EF7swz3e"
      },
      "source": [
        "from sklearn.linear_model import LogisticRegression"
      ],
      "execution_count": 17,
      "outputs": []
    },
    {
      "cell_type": "code",
      "metadata": {
        "colab": {
          "base_uri": "https://localhost:8080/"
        },
        "id": "8Z8QNqB4xMvi",
        "outputId": "43eb712a-46d7-4b41-a654-6937d86004d4"
      },
      "source": [
        "lrc = LogisticRegression(random_state=2021)\n",
        "lrc.fit(X_train, y_train)\n",
        "lrc.score(X_test, y_test)"
      ],
      "execution_count": 18,
      "outputs": [
        {
          "output_type": "execute_result",
          "data": {
            "text/plain": [
              "0.9824561403508771"
            ]
          },
          "metadata": {},
          "execution_count": 18
        }
      ]
    },
    {
      "cell_type": "code",
      "metadata": {
        "colab": {
          "base_uri": "https://localhost:8080/"
        },
        "id": "DYbgcmVoxWpZ",
        "outputId": "9e7a8b28-a948-4b8c-c23d-9f3def91f9af"
      },
      "source": [
        "pred_lr = lrc.predict(X_test)\n",
        "accuracy_score(y_test, pred_lr)"
      ],
      "execution_count": 19,
      "outputs": [
        {
          "output_type": "execute_result",
          "data": {
            "text/plain": [
              "0.9824561403508771"
            ]
          },
          "metadata": {},
          "execution_count": 19
        }
      ]
    },
    {
      "cell_type": "code",
      "metadata": {
        "id": "-LFZyfWvxlyc"
      },
      "source": [
        ""
      ],
      "execution_count": null,
      "outputs": []
    }
  ]
}