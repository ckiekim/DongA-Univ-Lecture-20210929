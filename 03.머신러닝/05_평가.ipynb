{
  "nbformat": 4,
  "nbformat_minor": 0,
  "metadata": {
    "colab": {
      "name": "05_평가.ipynb",
      "provenance": [],
      "collapsed_sections": []
    },
    "kernelspec": {
      "name": "python3",
      "display_name": "Python 3"
    },
    "language_info": {
      "name": "python"
    }
  },
  "cells": [
    {
      "cell_type": "markdown",
      "metadata": {
        "id": "OEXoJPqtom6y"
      },
      "source": [
        "# 평가\n"
      ]
    },
    {
      "cell_type": "code",
      "metadata": {
        "id": "_c3Y9aWCsjmo"
      },
      "source": [
        "import numpy as np\n",
        "import pandas as pd"
      ],
      "execution_count": 1,
      "outputs": []
    },
    {
      "cell_type": "markdown",
      "metadata": {
        "id": "ZhwAWilJotXS"
      },
      "source": [
        "### MNIST 손글씨 \"Is it seven?\""
      ]
    },
    {
      "cell_type": "code",
      "metadata": {
        "id": "HTe5SqbTohx0"
      },
      "source": [
        "from sklearn.base import BaseEstimator\n",
        "class MyFakeClassifier(BaseEstimator):\n",
        "    def fit(self, X, y):\n",
        "        pass\n",
        "    def predict(self, X):\n",
        "        return np.zeros((X.shape[0],1), dtype=int)"
      ],
      "execution_count": 2,
      "outputs": []
    },
    {
      "cell_type": "code",
      "metadata": {
        "colab": {
          "base_uri": "https://localhost:8080/"
        },
        "id": "GrDn9OC8pOjZ",
        "outputId": "99f71037-0b1f-4c76-ede3-920d34e8db96"
      },
      "source": [
        "from sklearn.datasets import load_digits\n",
        "digits = load_digits()\n",
        "digits.data.shape"
      ],
      "execution_count": 3,
      "outputs": [
        {
          "output_type": "execute_result",
          "data": {
            "text/plain": [
              "(1797, 64)"
            ]
          },
          "metadata": {},
          "execution_count": 3
        }
      ]
    },
    {
      "cell_type": "code",
      "metadata": {
        "colab": {
          "base_uri": "https://localhost:8080/"
        },
        "id": "UKQRhjizpeAJ",
        "outputId": "fc976700-98af-4dad-d54b-72e93b53a026"
      },
      "source": [
        "from sklearn.model_selection import train_test_split\n",
        "\n",
        "y = (digits.target == 7).astype(int)\n",
        "X_train, X_test, y_train, y_test = train_test_split(\n",
        "    digits.data, y, stratify=y, random_state=2021\n",
        ")\n",
        "X_train.shape, X_test.shape, y_train.shape, y_test.shape"
      ],
      "execution_count": 4,
      "outputs": [
        {
          "output_type": "execute_result",
          "data": {
            "text/plain": [
              "((1347, 64), (450, 64), (1347,), (450,))"
            ]
          },
          "metadata": {},
          "execution_count": 4
        }
      ]
    },
    {
      "cell_type": "markdown",
      "metadata": {
        "id": "ubJ8862LrID4"
      },
      "source": [
        "- Decision Tree 분류기"
      ]
    },
    {
      "cell_type": "code",
      "metadata": {
        "id": "s1lhKDMeq9xX"
      },
      "source": [
        "from sklearn.tree import DecisionTreeClassifier\n",
        "dtc = DecisionTreeClassifier(random_state=2021)\n",
        "dtc.fit(X_train, y_train)\n",
        "pred_dt = dtc.predict(X_test)"
      ],
      "execution_count": 5,
      "outputs": []
    },
    {
      "cell_type": "code",
      "metadata": {
        "colab": {
          "base_uri": "https://localhost:8080/"
        },
        "id": "2CN7843_xMef",
        "outputId": "a59f4e4b-9e8c-45d0-b4a9-97071040f332"
      },
      "source": [
        "from sklearn.metrics import accuracy_score\n",
        "accuracy_score(y_test, pred_dt)"
      ],
      "execution_count": 7,
      "outputs": [
        {
          "output_type": "execute_result",
          "data": {
            "text/plain": [
              "0.9688888888888889"
            ]
          },
          "metadata": {},
          "execution_count": 7
        }
      ]
    },
    {
      "cell_type": "markdown",
      "metadata": {
        "id": "DS-UYqRIsAnX"
      },
      "source": [
        "- MyFakeClassifier"
      ]
    },
    {
      "cell_type": "code",
      "metadata": {
        "id": "9be5_INWryyL"
      },
      "source": [
        "my_clf = MyFakeClassifier()\n",
        "my_clf.fit(X_train, y_train)"
      ],
      "execution_count": 8,
      "outputs": []
    },
    {
      "cell_type": "code",
      "metadata": {
        "colab": {
          "base_uri": "https://localhost:8080/"
        },
        "id": "NHa-M7sHsQ5_",
        "outputId": "998e18e2-e1d9-445e-e825-27467b547bed"
      },
      "source": [
        "pred_my = my_clf.predict(X_test)\n",
        "accuracy_score(y_test, pred_my)"
      ],
      "execution_count": 9,
      "outputs": [
        {
          "output_type": "execute_result",
          "data": {
            "text/plain": [
              "0.9"
            ]
          },
          "metadata": {},
          "execution_count": 9
        }
      ]
    },
    {
      "cell_type": "markdown",
      "metadata": {
        "id": "LIVjj9H2swbQ"
      },
      "source": [
        "### 오차 행렬(Confusion Matrix)"
      ]
    },
    {
      "cell_type": "code",
      "metadata": {
        "id": "MZqb-cZ4sfIA"
      },
      "source": [
        "from sklearn.metrics import confusion_matrix"
      ],
      "execution_count": 10,
      "outputs": []
    },
    {
      "cell_type": "code",
      "metadata": {
        "colab": {
          "base_uri": "https://localhost:8080/"
        },
        "id": "XMlAFZLhs86M",
        "outputId": "372f64c5-8078-4164-9479-e3753edb8abb"
      },
      "source": [
        "# 결정 트리 모델의 오차 행렬\n",
        "confusion_matrix(y_test, pred_dt)"
      ],
      "execution_count": 11,
      "outputs": [
        {
          "output_type": "execute_result",
          "data": {
            "text/plain": [
              "array([[396,   9],\n",
              "       [  5,  40]])"
            ]
          },
          "metadata": {},
          "execution_count": 11
        }
      ]
    },
    {
      "cell_type": "code",
      "metadata": {
        "colab": {
          "base_uri": "https://localhost:8080/"
        },
        "id": "5Y3scnNBx08h",
        "outputId": "e2a448ba-474e-4a60-8304-df58a505f6a6"
      },
      "source": [
        "# 엉터리 분류기의 오차 행렬\n",
        "confusion_matrix(y_test, pred_my)"
      ],
      "execution_count": 12,
      "outputs": [
        {
          "output_type": "execute_result",
          "data": {
            "text/plain": [
              "array([[405,   0],\n",
              "       [ 45,   0]])"
            ]
          },
          "metadata": {},
          "execution_count": 12
        }
      ]
    },
    {
      "cell_type": "markdown",
      "metadata": {
        "id": "JVGW9HR2tKyo"
      },
      "source": [
        "### 여러가지 평가 척도"
      ]
    },
    {
      "cell_type": "code",
      "metadata": {
        "colab": {
          "base_uri": "https://localhost:8080/"
        },
        "id": "TkrAxuSLtBDb",
        "outputId": "79dbdb57-be66-428a-fc6e-dcbe2cd08cff"
      },
      "source": [
        "# 정밀도\n",
        "from sklearn.metrics import precision_score\n",
        "precision_score(y_test, pred_dt)"
      ],
      "execution_count": 13,
      "outputs": [
        {
          "output_type": "execute_result",
          "data": {
            "text/plain": [
              "0.8163265306122449"
            ]
          },
          "metadata": {},
          "execution_count": 13
        }
      ]
    },
    {
      "cell_type": "code",
      "metadata": {
        "colab": {
          "base_uri": "https://localhost:8080/"
        },
        "id": "u4FineOatbb3",
        "outputId": "9487f820-1387-4914-b1e3-d5d53b98f92c"
      },
      "source": [
        "# 재현율\n",
        "from sklearn.metrics import recall_score\n",
        "recall_score(y_test, pred_dt)"
      ],
      "execution_count": 14,
      "outputs": [
        {
          "output_type": "execute_result",
          "data": {
            "text/plain": [
              "0.8888888888888888"
            ]
          },
          "metadata": {},
          "execution_count": 14
        }
      ]
    },
    {
      "cell_type": "code",
      "metadata": {
        "colab": {
          "base_uri": "https://localhost:8080/"
        },
        "id": "hNjIvhghyI78",
        "outputId": "8a6707be-b351-43dd-d279-bd825a56abc7"
      },
      "source": [
        "# F1 Score - 정밀도와 재현율의 조화평균\n",
        "from sklearn.metrics import f1_score\n",
        "f1_score(y_test, pred_dt)"
      ],
      "execution_count": 15,
      "outputs": [
        {
          "output_type": "execute_result",
          "data": {
            "text/plain": [
              "0.851063829787234"
            ]
          },
          "metadata": {},
          "execution_count": 15
        }
      ]
    },
    {
      "cell_type": "code",
      "metadata": {
        "id": "GM2Z1EZezUe0"
      },
      "source": [
        ""
      ],
      "execution_count": null,
      "outputs": []
    }
  ]
}